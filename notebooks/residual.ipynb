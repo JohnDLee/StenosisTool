{
 "cells": [
  {
   "cell_type": "code",
   "execution_count": 2,
   "metadata": {},
   "outputs": [],
   "source": [
    "from src.centerlines import Centerlines\n",
    "from os.path import join\n",
    "import numpy as np"
   ]
  },
  {
   "cell_type": "markdown",
   "metadata": {},
   "source": [
    "# Residual for 0080 Base Solver/ JC Solver"
   ]
  },
  {
   "cell_type": "code",
   "execution_count": 36,
   "metadata": {},
   "outputs": [],
   "source": [
    "# load centerlines\n",
    "root = '../data/healthy/0080_0001/base_solver_files/'\n",
    "zerodc = Centerlines()\n",
    "zerodc.load_centerlines(join(root, '0080_0001_model_centerline_results_summary.vtp'))\n",
    "threedc = Centerlines()\n",
    "threedc.load_centerlines(join(root, 'three_d_dir',  '0080_0001_model_converted.vtp'))\n",
    "\n",
    "res_mpap = np.abs(threedc.get_pointdata('meanPAP') - zerodc.get_pointdata('meanPAP')) \n",
    "\n",
    "\n",
    "for name in zerodc.get_pointdata_arraynames():\n",
    "    if name.startswith('sysPAP'):\n",
    "        max0d = name\n",
    "for name in threedc.get_pointdata_arraynames():\n",
    "    if name.startswith('sysPAP'):\n",
    "        max3d = name\n",
    "\n",
    "\n",
    "res_sys = np.abs(threedc.get_pointdata(max3d) - zerodc.get_pointdata(max0d))\n",
    "zerodc.add_pointdata(res_mpap, 'Residual mPAP |3D - 0D|')\n",
    "zerodc.add_pointdata(res_sys, 'Residual sysPAP |3D - 0D|')\n",
    "\n",
    "zerodc.write_centerlines('../images/0080_0001_residual.vtp')"
   ]
  },
  {
   "cell_type": "code",
   "execution_count": 37,
   "metadata": {},
   "outputs": [],
   "source": [
    "# load centerlines\n",
    "root = '../data/healthy/0080_0001/jc_solver_dir_0/'\n",
    "zerodc = Centerlines()\n",
    "zerodc.load_centerlines(join(root, '0080_0001_model_jc_centerline_results_summary.vtp'))\n",
    "threedc = Centerlines()\n",
    "threedc.load_centerlines(join(root, 'three_d_dir',  '0080_0001_model_jc_converted.vtp'))\n",
    "\n",
    "res_mpap = np.abs(threedc.get_pointdata('meanPAP') - zerodc.get_pointdata('meanPAP'))\n",
    "for name in zerodc.get_pointdata_arraynames():\n",
    "    if name.startswith('sysPAP'):\n",
    "        max0d = name\n",
    "for name in threedc.get_pointdata_arraynames():\n",
    "    if name.startswith('sysPAP'):\n",
    "        max3d = name\n",
    "\n",
    "res_sys = np.abs(threedc.get_pointdata(max3d) - zerodc.get_pointdata(max0d))\n",
    "zerodc.add_pointdata(res_mpap, 'Residual mPAP |3D - 0D|')\n",
    "zerodc.add_pointdata(res_sys, 'Residual sysPAP |3D - 0D|')\n",
    "zerodc.write_centerlines('../images/0080_0001_jc_residual.vtp')"
   ]
  },
  {
   "cell_type": "markdown",
   "metadata": {},
   "source": [
    "# Residual for 0118_1000"
   ]
  },
  {
   "cell_type": "code",
   "execution_count": 59,
   "metadata": {},
   "outputs": [],
   "source": [
    "from scipy.interpolate import interp1d\n",
    "import matplotlib.pyplot as plt"
   ]
  },
  {
   "cell_type": "code",
   "execution_count": null,
   "metadata": {},
   "outputs": [],
   "source": []
  },
  {
   "cell_type": "code",
   "execution_count": 9,
   "metadata": {},
   "outputs": [],
   "source": [
    "# load centerlines\n",
    "root = '../data/stenosis/0118_1000/base_solver_files/'\n",
    "zerodc = Centerlines()\n",
    "zerodc.load_centerlines(join(root, '0118_1000_model_centerline_results_summary.vtp'))\n",
    "threedc = Centerlines()\n",
    "threedc.load_centerlines(join(root, 'three_d_dir',  '0118_1000_model_converted.vtp'))\n",
    "\n",
    "\n",
    "\n",
    "res_mpap = np.abs(threedc.get_pointdata('meanPAP') - zerodc.get_pointdata('meanPAP'))\n",
    "\n",
    "for name in zerodc.get_pointdata_arraynames():\n",
    "    if name.startswith('sysPAP'):\n",
    "        max0d = name\n",
    "for name in threedc.get_pointdata_arraynames():\n",
    "    if name.startswith('sysPAP'):\n",
    "        max3d = name\n",
    "\n",
    "res_sys = np.abs(threedc.get_pointdata(max3d) - zerodc.get_pointdata(max0d))\n",
    "threedc.add_pointdata(res_mpap, 'Residual mPAP |3D - 0D|')\n",
    "threedc.add_pointdata(res_sys, 'Residual sysPAP |3D - 0D|')\n",
    "\n",
    "threedc.write_centerlines('../images/0118_1000_residual.vtp')"
   ]
  },
  {
   "cell_type": "code",
   "execution_count": 10,
   "metadata": {},
   "outputs": [],
   "source": [
    "# load centerlines\n",
    "root = '../data/stenosis/0118_1000/jc_solver_dir_0/'\n",
    "zerodc = Centerlines()\n",
    "zerodc.load_centerlines(join(root, '0118_1000_model_jc_centerline_results_summary.vtp'))\n",
    "threedc = Centerlines()\n",
    "threedc.load_centerlines(join(root, 'three_d_dir',  '0118_1000_model_jc_converted.vtp'))\n",
    "\n",
    "res_mpap = np.abs(threedc.get_pointdata('meanPAP') - zerodc.get_pointdata('meanPAP'))\n",
    "\n",
    "for name in zerodc.get_pointdata_arraynames():\n",
    "    if name.startswith('sysPAP'):\n",
    "        max0d = name\n",
    "for name in threedc.get_pointdata_arraynames():\n",
    "    if name.startswith('sysPAP'):\n",
    "        max3d = name\n",
    "\n",
    "res_sys = np.abs(threedc.get_pointdata(max3d) - zerodc.get_pointdata(max0d))\n",
    "\n",
    "threedc.add_pointdata(res_mpap, 'Residual mPAP |3D - 0D|')\n",
    "threedc.add_pointdata(res_sys, 'Residual sysPAP |3D - 0D|')\n",
    "\n",
    "threedc.write_centerlines('../images/0118_1000_jc_residual.vtp')"
   ]
  },
  {
   "cell_type": "code",
   "execution_count": null,
   "metadata": {},
   "outputs": [],
   "source": []
  }
 ],
 "metadata": {
  "kernelspec": {
   "display_name": "Python 3.9.0 ('stanford')",
   "language": "python",
   "name": "python3"
  },
  "language_info": {
   "codemirror_mode": {
    "name": "ipython",
    "version": 3
   },
   "file_extension": ".py",
   "mimetype": "text/x-python",
   "name": "python",
   "nbconvert_exporter": "python",
   "pygments_lexer": "ipython3",
   "version": "3.9.0"
  },
  "orig_nbformat": 4,
  "vscode": {
   "interpreter": {
    "hash": "50600acf3508882ffeec4c3211bbca7945187a00ec2d0a2f050456f7fcd8918c"
   }
  }
 },
 "nbformat": 4,
 "nbformat_minor": 2
}
