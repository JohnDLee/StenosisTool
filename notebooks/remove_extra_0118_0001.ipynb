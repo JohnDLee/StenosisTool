{
 "cells": [
  {
   "cell_type": "code",
   "execution_count": 6,
   "metadata": {},
   "outputs": [],
   "source": [
    "import numpy as np\n",
    "from src.centerlines import Centerlines\n",
    "import os"
   ]
  },
  {
   "cell_type": "code",
   "execution_count": null,
   "metadata": {},
   "outputs": [],
   "source": [
    "# remove the extra timesteps"
   ]
  },
  {
   "cell_type": "code",
   "execution_count": 4,
   "metadata": {},
   "outputs": [],
   "source": [
    "root = '../data/3d_runs/'\n",
    "models = ['0118_1000']"
   ]
  },
  {
   "cell_type": "code",
   "execution_count": 9,
   "metadata": {},
   "outputs": [],
   "source": [
    "# GET params\n",
    "params = np.load(os.path.join(root, '3d_rerun/parameters.npy'), allow_pickle = True).item()\n",
    "    "
   ]
  },
  {
   "cell_type": "code",
   "execution_count": 27,
   "metadata": {},
   "outputs": [
    {
     "data": {
      "text/plain": [
       "dict_keys(['bc', 'spid', 'preid', 'spname', 'coronary', 'params', 'bc_type'])"
      ]
     },
     "execution_count": 27,
     "metadata": {},
     "output_type": "execute_result"
    }
   ],
   "source": [
    "params['0082_0001'].keys()"
   ]
  },
  {
   "cell_type": "code",
   "execution_count": 20,
   "metadata": {},
   "outputs": [],
   "source": [
    "for model in models:\n",
    "    \n",
    "    # get timesteps\n",
    "    sim_params = params['0118_1000']['params']\n",
    "    ts_per_cycle = int(sim_params['sim_steps_per_cycle'])\n",
    "    ts_start = int(sim_params['sim_vtu_start'])\n",
    "    ts_offset = int(sim_params['sim_vtu_offset'])\n",
    "    \n",
    "    \n",
    "    c = Centerlines()\n",
    "    cfile = os.path.join(root, f'3d_rerun/{model}.vtp')\n",
    "    c.load_centerlines(cfile)\n",
    "    \n",
    "    arr = c.get_pointdata_arraynames()\n",
    "    \n",
    "    # get timesteps\n",
    "    ts = []\n",
    "    for name in arr:\n",
    "        if name.startswith('pressure_') or name.startswith('velocity'):\n",
    "            ts.append(int(name.split('_')[-1]))\n",
    "    ts = np.array(ts)\n",
    "    \n",
    "    start = ts.max() - (ts_start - ts_offset) - ts_per_cycle\n",
    "    end = ts.max() - (ts_start - ts_offset)\n",
    "    \n",
    "    for name in arr:\n",
    "        if name.startswith('pressure_') or name.startswith('velocity'):\n",
    "            ts = int(name.split('_')[-1])\n",
    "            if ts < start or ts > end:\n",
    "                c.remove_pointdata(name)\n",
    "\n",
    "    c.write_centerlines(os.path.join(root, os.path.basename(cfile)))\n",
    "    \n",
    "    \n",
    "    \n",
    "    "
   ]
  },
  {
   "cell_type": "code",
   "execution_count": null,
   "metadata": {},
   "outputs": [],
   "source": []
  }
 ],
 "metadata": {
  "kernelspec": {
   "display_name": "Python 3.9.0 ('stanford')",
   "language": "python",
   "name": "python3"
  },
  "language_info": {
   "codemirror_mode": {
    "name": "ipython",
    "version": 3
   },
   "file_extension": ".py",
   "mimetype": "text/x-python",
   "name": "python",
   "nbconvert_exporter": "python",
   "pygments_lexer": "ipython3",
   "version": "3.9.0"
  },
  "orig_nbformat": 4,
  "vscode": {
   "interpreter": {
    "hash": "50600acf3508882ffeec4c3211bbca7945187a00ec2d0a2f050456f7fcd8918c"
   }
  }
 },
 "nbformat": 4,
 "nbformat_minor": 2
}
