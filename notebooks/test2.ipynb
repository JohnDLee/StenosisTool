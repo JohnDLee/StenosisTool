{
 "cells": [
  {
   "cell_type": "code",
   "execution_count": 1,
   "metadata": {},
   "outputs": [],
   "source": [
    "from src.centerlines import Centerlines\n",
    "import vtk\n"
   ]
  },
  {
   "cell_type": "code",
   "execution_count": 3,
   "metadata": {},
   "outputs": [],
   "source": [
    "x = Centerlines()\n",
    "x.load_centerlines(\"../data/healthy/0080_0001/jc_solver_dir_0/artificial_stenosis/Manual_1/model_centerlines.vtp\")"
   ]
  },
  {
   "cell_type": "code",
   "execution_count": 25,
   "metadata": {},
   "outputs": [],
   "source": [
    "from vtk.util.numpy_support import vtk_to_numpy as v2n"
   ]
  },
  {
   "cell_type": "code",
   "execution_count": 26,
   "metadata": {},
   "outputs": [
    {
     "name": "stdout",
     "output_type": "stream",
     "text": [
      "[[-1.96995     7.80802    -0.148507  ]\n",
      " [-1.8847456   7.4823313   0.12432455]\n",
      " [-1.7995412   7.1566424   0.3971561 ]\n",
      " ...\n",
      " [ 2.959553   -1.0814046  -5.21313   ]\n",
      " [ 2.8962016  -1.1369073  -5.20918   ]\n",
      " [ 2.83285    -1.19241    -5.20523   ]]\n"
     ]
    }
   ],
   "source": [
    "print(v2n(x.centerlines.GetPoints().GetData()))"
   ]
  },
  {
   "cell_type": "code",
   "execution_count": null,
   "metadata": {},
   "outputs": [
    {
     "ename": "",
     "evalue": "",
     "output_type": "error",
     "traceback": [
      "\u001b[1;31mCanceled future for execute_request message before replies were done"
     ]
    },
    {
     "ename": "",
     "evalue": "",
     "output_type": "error",
     "traceback": [
      "\u001b[1;31mThe Kernel crashed while executing code in the the current cell or a previous cell. Please review the code in the cell(s) to identify a possible cause of the failure. Click <a href='https://aka.ms/vscodeJupyterKernelCrash'>here</a> for more info. View Jupyter <a href='command:jupyter.viewOutput'>log</a> for further details."
     ]
    }
   ],
   "source": [
    "v2n(x.centerlines.AddCellReference(1))"
   ]
  },
  {
   "cell_type": "code",
   "execution_count": null,
   "metadata": {},
   "outputs": [],
   "source": []
  }
 ],
 "metadata": {
  "kernelspec": {
   "display_name": "Python 3.9.0 ('stanford')",
   "language": "python",
   "name": "python3"
  },
  "language_info": {
   "codemirror_mode": {
    "name": "ipython",
    "version": 3
   },
   "file_extension": ".py",
   "mimetype": "text/x-python",
   "name": "python",
   "nbconvert_exporter": "python",
   "pygments_lexer": "ipython3",
   "version": "3.9.0"
  },
  "orig_nbformat": 4,
  "vscode": {
   "interpreter": {
    "hash": "50600acf3508882ffeec4c3211bbca7945187a00ec2d0a2f050456f7fcd8918c"
   }
  }
 },
 "nbformat": 4,
 "nbformat_minor": 2
}
