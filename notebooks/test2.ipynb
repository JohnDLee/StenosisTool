{
 "cells": [
  {
   "cell_type": "code",
   "execution_count": 1,
   "metadata": {},
   "outputs": [],
   "source": [
    "from src.centerlines import Centerlines\n",
    "import vtk\n"
   ]
  },
  {
   "cell_type": "code",
   "execution_count": 3,
   "metadata": {},
   "outputs": [],
   "source": [
    "x = Centerlines()\n",
    "x.load_centerlines(\"../data/healthy/0080_0001/jc_solver_dir_0/artificial_stenosis/Manual_1/model_centerlines.vtp\")"
   ]
  },
  {
   "cell_type": "code",
   "execution_count": 25,
   "metadata": {},
   "outputs": [],
   "source": [
    "from vtk.util.numpy_support import vtk_to_numpy as v2n"
   ]
  },
  {
   "cell_type": "code",
   "execution_count": 26,
   "metadata": {},
   "outputs": [
    {
     "name": "stdout",
     "output_type": "stream",
     "text": [
      "[[-1.96995     7.80802    -0.148507  ]\n",
      " [-1.8847456   7.4823313   0.12432455]\n",
      " [-1.7995412   7.1566424   0.3971561 ]\n",
      " ...\n",
      " [ 2.959553   -1.0814046  -5.21313   ]\n",
      " [ 2.8962016  -1.1369073  -5.20918   ]\n",
      " [ 2.83285    -1.19241    -5.20523   ]]\n"
     ]
    }
   ],
   "source": [
    "print(v2n(x.centerlines.GetPoints().GetData()))"
   ]
  },
  {
   "cell_type": "code",
   "execution_count": null,
   "metadata": {},
   "outputs": [
    {
     "ename": "",
     "evalue": "",
     "output_type": "error",
     "traceback": [
      "\u001b[1;31mCanceled future for execute_request message before replies were done"
     ]
    },
    {
     "ename": "",
     "evalue": "",
     "output_type": "error",
     "traceback": [
      "\u001b[1;31mThe Kernel crashed while executing code in the the current cell or a previous cell. Please review the code in the cell(s) to identify a possible cause of the failure. Click <a href='https://aka.ms/vscodeJupyterKernelCrash'>here</a> for more info. View Jupyter <a href='command:jupyter.viewOutput'>log</a> for further details."
     ]
    }
   ],
   "source": [
    "v2n(x.centerlines.AddCellReference(1))"
   ]
  },
  {
   "cell_type": "code",
   "execution_count": 1,
   "metadata": {},
   "outputs": [],
   "source": [
    "from svinterface.core.zerod.lpn import LPN"
   ]
  },
  {
   "cell_type": "code",
   "execution_count": 2,
   "metadata": {},
   "outputs": [],
   "source": [
    "x = LPN.from_file('../data/healthy/0080_0001/results/0080_0001/LPN_DIR/0080_0001.in')"
   ]
  },
  {
   "cell_type": "code",
   "execution_count": null,
   "metadata": {},
   "outputs": [],
   "source": []
  },
  {
   "cell_type": "code",
   "execution_count": 7,
   "metadata": {},
   "outputs": [],
   "source": []
  },
  {
   "cell_type": "code",
   "execution_count": 4,
   "metadata": {},
   "outputs": [],
   "source": [
    "from svinterface.core.zerod.solver import Solver0Dcpp"
   ]
  },
  {
   "cell_type": "code",
   "execution_count": 5,
   "metadata": {},
   "outputs": [],
   "source": [
    "first = Solver0Dcpp(x).run_sim()"
   ]
  },
  {
   "cell_type": "code",
   "execution_count": 6,
   "metadata": {},
   "outputs": [],
   "source": [
    "for junc in x.junctions:\n",
    "    if junc['junction_type'] == 'NORMAL_JUNCTION':\n",
    "        junc['junction_type'] = 'BloodVesselJunction'\n",
    "        \n",
    "x.to_cpp()"
   ]
  },
  {
   "cell_type": "code",
   "execution_count": 7,
   "metadata": {},
   "outputs": [],
   "source": [
    "second = Solver0Dcpp(x).run_sim()"
   ]
  },
  {
   "cell_type": "code",
   "execution_count": 10,
   "metadata": {},
   "outputs": [
    {
     "data": {
      "text/html": [
       "<div>\n",
       "<style scoped>\n",
       "    .dataframe tbody tr th:only-of-type {\n",
       "        vertical-align: middle;\n",
       "    }\n",
       "\n",
       "    .dataframe tbody tr th {\n",
       "        vertical-align: top;\n",
       "    }\n",
       "\n",
       "    .dataframe thead th {\n",
       "        text-align: right;\n",
       "    }\n",
       "</style>\n",
       "<table border=\"1\" class=\"dataframe\">\n",
       "  <thead>\n",
       "    <tr style=\"text-align: right;\">\n",
       "      <th></th>\n",
       "      <th>name</th>\n",
       "      <th>time</th>\n",
       "      <th>flow_in</th>\n",
       "      <th>flow_out</th>\n",
       "      <th>pressure_in</th>\n",
       "      <th>pressure_out</th>\n",
       "    </tr>\n",
       "  </thead>\n",
       "  <tbody>\n",
       "    <tr>\n",
       "      <th>0</th>\n",
       "      <td>branch0_seg0</td>\n",
       "      <td>0.000000</td>\n",
       "      <td>75.203041</td>\n",
       "      <td>73.402652</td>\n",
       "      <td>15699.783701</td>\n",
       "      <td>14996.046528</td>\n",
       "    </tr>\n",
       "    <tr>\n",
       "      <th>1</th>\n",
       "      <td>branch0_seg0</td>\n",
       "      <td>0.000707</td>\n",
       "      <td>77.207780</td>\n",
       "      <td>75.398217</td>\n",
       "      <td>15826.081194</td>\n",
       "      <td>15111.793467</td>\n",
       "    </tr>\n",
       "    <tr>\n",
       "      <th>2</th>\n",
       "      <td>branch0_seg0</td>\n",
       "      <td>0.001413</td>\n",
       "      <td>79.240850</td>\n",
       "      <td>77.422983</td>\n",
       "      <td>15952.991559</td>\n",
       "      <td>15228.427643</td>\n",
       "    </tr>\n",
       "    <tr>\n",
       "      <th>3</th>\n",
       "      <td>branch0_seg0</td>\n",
       "      <td>0.002120</td>\n",
       "      <td>81.301305</td>\n",
       "      <td>79.476143</td>\n",
       "      <td>16080.447444</td>\n",
       "      <td>15345.901255</td>\n",
       "    </tr>\n",
       "    <tr>\n",
       "      <th>4</th>\n",
       "      <td>branch0_seg0</td>\n",
       "      <td>0.002826</td>\n",
       "      <td>83.388204</td>\n",
       "      <td>81.556826</td>\n",
       "      <td>16208.375936</td>\n",
       "      <td>15464.164378</td>\n",
       "    </tr>\n",
       "    <tr>\n",
       "      <th>...</th>\n",
       "      <td>...</td>\n",
       "      <td>...</td>\n",
       "      <td>...</td>\n",
       "      <td>...</td>\n",
       "      <td>...</td>\n",
       "      <td>...</td>\n",
       "    </tr>\n",
       "    <tr>\n",
       "      <th>995</th>\n",
       "      <td>branch0_seg0</td>\n",
       "      <td>0.703054</td>\n",
       "      <td>67.482098</td>\n",
       "      <td>65.727071</td>\n",
       "      <td>15201.947593</td>\n",
       "      <td>14542.909398</td>\n",
       "    </tr>\n",
       "    <tr>\n",
       "      <th>996</th>\n",
       "      <td>branch0_seg0</td>\n",
       "      <td>0.703760</td>\n",
       "      <td>69.366200</td>\n",
       "      <td>67.598570</td>\n",
       "      <td>15325.187266</td>\n",
       "      <td>14654.613118</td>\n",
       "    </tr>\n",
       "    <tr>\n",
       "      <th>997</th>\n",
       "      <td>branch0_seg0</td>\n",
       "      <td>0.704467</td>\n",
       "      <td>71.281449</td>\n",
       "      <td>69.502123</td>\n",
       "      <td>15449.278558</td>\n",
       "      <td>14767.406027</td>\n",
       "    </tr>\n",
       "    <tr>\n",
       "      <th>998</th>\n",
       "      <td>branch0_seg0</td>\n",
       "      <td>0.705173</td>\n",
       "      <td>73.227259</td>\n",
       "      <td>71.437047</td>\n",
       "      <td>15574.161701</td>\n",
       "      <td>14881.234368</td>\n",
       "    </tr>\n",
       "    <tr>\n",
       "      <th>999</th>\n",
       "      <td>branch0_seg0</td>\n",
       "      <td>0.705880</td>\n",
       "      <td>75.203041</td>\n",
       "      <td>73.402652</td>\n",
       "      <td>15699.783701</td>\n",
       "      <td>14996.046528</td>\n",
       "    </tr>\n",
       "  </tbody>\n",
       "</table>\n",
       "<p>1000 rows × 6 columns</p>\n",
       "</div>"
      ],
      "text/plain": [
       "             name      time    flow_in   flow_out   pressure_in  pressure_out\n",
       "0    branch0_seg0  0.000000  75.203041  73.402652  15699.783701  14996.046528\n",
       "1    branch0_seg0  0.000707  77.207780  75.398217  15826.081194  15111.793467\n",
       "2    branch0_seg0  0.001413  79.240850  77.422983  15952.991559  15228.427643\n",
       "3    branch0_seg0  0.002120  81.301305  79.476143  16080.447444  15345.901255\n",
       "4    branch0_seg0  0.002826  83.388204  81.556826  16208.375936  15464.164378\n",
       "..            ...       ...        ...        ...           ...           ...\n",
       "995  branch0_seg0  0.703054  67.482098  65.727071  15201.947593  14542.909398\n",
       "996  branch0_seg0  0.703760  69.366200  67.598570  15325.187266  14654.613118\n",
       "997  branch0_seg0  0.704467  71.281449  69.502123  15449.278558  14767.406027\n",
       "998  branch0_seg0  0.705173  73.227259  71.437047  15574.161701  14881.234368\n",
       "999  branch0_seg0  0.705880  75.203041  73.402652  15699.783701  14996.046528\n",
       "\n",
       "[1000 rows x 6 columns]"
      ]
     },
     "execution_count": 10,
     "metadata": {},
     "output_type": "execute_result"
    }
   ],
   "source": [
    "first.vessel_df(\"branch0_seg0\")"
   ]
  },
  {
   "cell_type": "code",
   "execution_count": 12,
   "metadata": {},
   "outputs": [
    {
     "data": {
      "text/plain": [
       "0      0.0\n",
       "1      0.0\n",
       "2      0.0\n",
       "3      0.0\n",
       "4      0.0\n",
       "      ... \n",
       "995    0.0\n",
       "996    0.0\n",
       "997    0.0\n",
       "998    0.0\n",
       "999    0.0\n",
       "Name: flow_in, Length: 1000, dtype: float64"
      ]
     },
     "execution_count": 12,
     "metadata": {},
     "output_type": "execute_result"
    }
   ],
   "source": [
    "second.vessel_df(\"branch0_seg0\")['flow_in'] - first.vessel_df(\"branch0_seg0\") ['flow_in']"
   ]
  },
  {
   "cell_type": "code",
   "execution_count": null,
   "metadata": {},
   "outputs": [],
   "source": []
  }
 ],
 "metadata": {
  "kernelspec": {
   "display_name": "stenosis-tool",
   "language": "python",
   "name": "python3"
  },
  "language_info": {
   "codemirror_mode": {
    "name": "ipython",
    "version": 3
   },
   "file_extension": ".py",
   "mimetype": "text/x-python",
   "name": "python",
   "nbconvert_exporter": "python",
   "pygments_lexer": "ipython3",
   "version": "3.9.13"
  },
  "orig_nbformat": 4,
  "vscode": {
   "interpreter": {
    "hash": "ee13e79aa298156c9522cee3c3d56fd5dc3a2ea28c5506665a2c797d4a24c92b"
   }
  }
 },
 "nbformat": 4,
 "nbformat_minor": 2
}
