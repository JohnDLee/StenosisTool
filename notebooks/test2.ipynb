{
 "cells": [
  {
   "cell_type": "code",
   "execution_count": 1,
   "metadata": {},
   "outputs": [],
   "source": [
    "from src.centerlines import Centerlines\n",
    "import vtk\n"
   ]
  },
  {
   "cell_type": "code",
   "execution_count": 3,
   "metadata": {},
   "outputs": [],
   "source": [
    "x = Centerlines()\n",
    "x.load_centerlines(\"../data/healthy/0080_0001/jc_solver_dir_0/artificial_stenosis/Manual_1/model_centerlines.vtp\")"
   ]
  },
  {
   "cell_type": "code",
   "execution_count": 25,
   "metadata": {},
   "outputs": [],
   "source": [
    "from vtk.util.numpy_support import vtk_to_numpy as v2n"
   ]
  },
  {
   "cell_type": "code",
   "execution_count": 26,
   "metadata": {},
   "outputs": [
    {
     "name": "stdout",
     "output_type": "stream",
     "text": [
      "[[-1.96995     7.80802    -0.148507  ]\n",
      " [-1.8847456   7.4823313   0.12432455]\n",
      " [-1.7995412   7.1566424   0.3971561 ]\n",
      " ...\n",
      " [ 2.959553   -1.0814046  -5.21313   ]\n",
      " [ 2.8962016  -1.1369073  -5.20918   ]\n",
      " [ 2.83285    -1.19241    -5.20523   ]]\n"
     ]
    }
   ],
   "source": [
    "print(v2n(x.centerlines.GetPoints().GetData()))"
   ]
  },
  {
   "cell_type": "code",
   "execution_count": null,
   "metadata": {},
   "outputs": [
    {
     "ename": "",
     "evalue": "",
     "output_type": "error",
     "traceback": [
      "\u001b[1;31mCanceled future for execute_request message before replies were done"
     ]
    },
    {
     "ename": "",
     "evalue": "",
     "output_type": "error",
     "traceback": [
      "\u001b[1;31mThe Kernel crashed while executing code in the the current cell or a previous cell. Please review the code in the cell(s) to identify a possible cause of the failure. Click <a href='https://aka.ms/vscodeJupyterKernelCrash'>here</a> for more info. View Jupyter <a href='command:jupyter.viewOutput'>log</a> for further details."
     ]
    }
   ],
   "source": [
    "v2n(x.centerlines.AddCellReference(1))"
   ]
  },
  {
   "cell_type": "code",
   "execution_count": 2,
   "metadata": {},
   "outputs": [],
   "source": [
    "from svinterface.core.zerod.lpn import LPN"
   ]
  },
  {
   "cell_type": "code",
   "execution_count": 3,
   "metadata": {},
   "outputs": [],
   "source": [
    "x = LPN.from_file('../data/healthy/0080_0001/results/0080_0001/LPN_DIR/0080_0001.in')"
   ]
  },
  {
   "cell_type": "code",
   "execution_count": null,
   "metadata": {},
   "outputs": [],
   "source": []
  },
  {
   "cell_type": "code",
   "execution_count": null,
   "metadata": {},
   "outputs": [],
   "source": []
  },
  {
   "cell_type": "code",
   "execution_count": 1,
   "metadata": {},
   "outputs": [],
   "source": [
    "from svinterface.core.zerod.solver import Solver0Dcpp"
   ]
  },
  {
   "cell_type": "code",
   "execution_count": 4,
   "metadata": {},
   "outputs": [],
   "source": [
    "first = Solver0Dcpp(x).run_sim()"
   ]
  },
  {
   "cell_type": "code",
   "execution_count": 5,
   "metadata": {},
   "outputs": [],
   "source": [
    "second = Solver0Dcpp(x).run_sim()"
   ]
  },
  {
   "cell_type": "code",
   "execution_count": 8,
   "metadata": {},
   "outputs": [
    {
     "data": {
      "text/html": [
       "<div>\n",
       "<style scoped>\n",
       "    .dataframe tbody tr th:only-of-type {\n",
       "        vertical-align: middle;\n",
       "    }\n",
       "\n",
       "    .dataframe tbody tr th {\n",
       "        vertical-align: top;\n",
       "    }\n",
       "\n",
       "    .dataframe thead th {\n",
       "        text-align: right;\n",
       "    }\n",
       "</style>\n",
       "<table border=\"1\" class=\"dataframe\">\n",
       "  <thead>\n",
       "    <tr style=\"text-align: right;\">\n",
       "      <th></th>\n",
       "      <th>name</th>\n",
       "      <th>time</th>\n",
       "      <th>flow_in</th>\n",
       "      <th>flow_out</th>\n",
       "      <th>pressure_in</th>\n",
       "      <th>pressure_out</th>\n",
       "    </tr>\n",
       "  </thead>\n",
       "  <tbody>\n",
       "    <tr>\n",
       "      <th>0</th>\n",
       "      <td>branch0_seg0</td>\n",
       "      <td>0.000000</td>\n",
       "      <td>75.203041</td>\n",
       "      <td>74.639933</td>\n",
       "      <td>14320.457659</td>\n",
       "      <td>13612.868600</td>\n",
       "    </tr>\n",
       "    <tr>\n",
       "      <th>1</th>\n",
       "      <td>branch0_seg0</td>\n",
       "      <td>0.000707</td>\n",
       "      <td>77.207780</td>\n",
       "      <td>76.646131</td>\n",
       "      <td>14402.463656</td>\n",
       "      <td>13684.506391</td>\n",
       "    </tr>\n",
       "    <tr>\n",
       "      <th>2</th>\n",
       "      <td>branch0_seg0</td>\n",
       "      <td>0.001413</td>\n",
       "      <td>79.240850</td>\n",
       "      <td>78.680996</td>\n",
       "      <td>14484.235245</td>\n",
       "      <td>13756.194145</td>\n",
       "    </tr>\n",
       "    <tr>\n",
       "      <th>3</th>\n",
       "      <td>branch0_seg0</td>\n",
       "      <td>0.002120</td>\n",
       "      <td>81.301305</td>\n",
       "      <td>80.743685</td>\n",
       "      <td>14565.712942</td>\n",
       "      <td>13827.897387</td>\n",
       "    </tr>\n",
       "    <tr>\n",
       "      <th>4</th>\n",
       "      <td>branch0_seg0</td>\n",
       "      <td>0.002826</td>\n",
       "      <td>83.388204</td>\n",
       "      <td>82.833289</td>\n",
       "      <td>14646.830958</td>\n",
       "      <td>13899.573126</td>\n",
       "    </tr>\n",
       "    <tr>\n",
       "      <th>...</th>\n",
       "      <td>...</td>\n",
       "      <td>...</td>\n",
       "      <td>...</td>\n",
       "      <td>...</td>\n",
       "      <td>...</td>\n",
       "      <td>...</td>\n",
       "    </tr>\n",
       "    <tr>\n",
       "      <th>213995</th>\n",
       "      <td>branch145_seg2</td>\n",
       "      <td>0.703054</td>\n",
       "      <td>1.460879</td>\n",
       "      <td>1.453501</td>\n",
       "      <td>11608.815363</td>\n",
       "      <td>11161.346906</td>\n",
       "    </tr>\n",
       "    <tr>\n",
       "      <th>213996</th>\n",
       "      <td>branch145_seg2</td>\n",
       "      <td>0.703760</td>\n",
       "      <td>1.503062</td>\n",
       "      <td>1.495546</td>\n",
       "      <td>11648.982687</td>\n",
       "      <td>11193.104542</td>\n",
       "    </tr>\n",
       "    <tr>\n",
       "      <th>213997</th>\n",
       "      <td>branch145_seg2</td>\n",
       "      <td>0.704467</td>\n",
       "      <td>1.545966</td>\n",
       "      <td>1.538313</td>\n",
       "      <td>11689.889532</td>\n",
       "      <td>11225.731560</td>\n",
       "    </tr>\n",
       "    <tr>\n",
       "      <th>213998</th>\n",
       "      <td>branch145_seg2</td>\n",
       "      <td>0.705173</td>\n",
       "      <td>1.589574</td>\n",
       "      <td>1.581785</td>\n",
       "      <td>11731.528592</td>\n",
       "      <td>11259.231032</td>\n",
       "    </tr>\n",
       "    <tr>\n",
       "      <th>213999</th>\n",
       "      <td>branch145_seg2</td>\n",
       "      <td>0.705880</td>\n",
       "      <td>1.633867</td>\n",
       "      <td>1.625945</td>\n",
       "      <td>11773.890955</td>\n",
       "      <td>11293.605322</td>\n",
       "    </tr>\n",
       "  </tbody>\n",
       "</table>\n",
       "<p>214000 rows × 6 columns</p>\n",
       "</div>"
      ],
      "text/plain": [
       "                  name      time    flow_in   flow_out   pressure_in  \\\n",
       "0         branch0_seg0  0.000000  75.203041  74.639933  14320.457659   \n",
       "1         branch0_seg0  0.000707  77.207780  76.646131  14402.463656   \n",
       "2         branch0_seg0  0.001413  79.240850  78.680996  14484.235245   \n",
       "3         branch0_seg0  0.002120  81.301305  80.743685  14565.712942   \n",
       "4         branch0_seg0  0.002826  83.388204  82.833289  14646.830958   \n",
       "...                ...       ...        ...        ...           ...   \n",
       "213995  branch145_seg2  0.703054   1.460879   1.453501  11608.815363   \n",
       "213996  branch145_seg2  0.703760   1.503062   1.495546  11648.982687   \n",
       "213997  branch145_seg2  0.704467   1.545966   1.538313  11689.889532   \n",
       "213998  branch145_seg2  0.705173   1.589574   1.581785  11731.528592   \n",
       "213999  branch145_seg2  0.705880   1.633867   1.625945  11773.890955   \n",
       "\n",
       "        pressure_out  \n",
       "0       13612.868600  \n",
       "1       13684.506391  \n",
       "2       13756.194145  \n",
       "3       13827.897387  \n",
       "4       13899.573126  \n",
       "...              ...  \n",
       "213995  11161.346906  \n",
       "213996  11193.104542  \n",
       "213997  11225.731560  \n",
       "213998  11259.231032  \n",
       "213999  11293.605322  \n",
       "\n",
       "[214000 rows x 6 columns]"
      ]
     },
     "execution_count": 8,
     "metadata": {},
     "output_type": "execute_result"
    }
   ],
   "source": [
    "second.result_df.groupby(\"name\").max()"
   ]
  },
  {
   "cell_type": "code",
   "execution_count": 12,
   "metadata": {},
   "outputs": [
    {
     "data": {
      "text/plain": [
       "0      0.0\n",
       "1      0.0\n",
       "2      0.0\n",
       "3      0.0\n",
       "4      0.0\n",
       "      ... \n",
       "995    0.0\n",
       "996    0.0\n",
       "997    0.0\n",
       "998    0.0\n",
       "999    0.0\n",
       "Name: flow_in, Length: 1000, dtype: float64"
      ]
     },
     "execution_count": 12,
     "metadata": {},
     "output_type": "execute_result"
    }
   ],
   "source": [
    "second.vessel_df(\"branch0_seg0\")['flow_in'] - first.vessel_df(\"branch0_seg0\") ['flow_in']"
   ]
  },
  {
   "cell_type": "code",
   "execution_count": null,
   "metadata": {},
   "outputs": [],
   "source": [
    "fr"
   ]
  }
 ],
 "metadata": {
  "kernelspec": {
   "display_name": "stenosis-tool",
   "language": "python",
   "name": "python3"
  },
  "language_info": {
   "codemirror_mode": {
    "name": "ipython",
    "version": 3
   },
   "file_extension": ".py",
   "mimetype": "text/x-python",
   "name": "python",
   "nbconvert_exporter": "python",
   "pygments_lexer": "ipython3",
   "version": "3.9.13"
  },
  "orig_nbformat": 4,
  "vscode": {
   "interpreter": {
    "hash": "ee13e79aa298156c9522cee3c3d56fd5dc3a2ea28c5506665a2c797d4a24c92b"
   }
  }
 },
 "nbformat": 4,
 "nbformat_minor": 2
}
