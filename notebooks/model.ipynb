{
 "cells": [
  {
   "cell_type": "code",
   "execution_count": 2,
   "metadata": {},
   "outputs": [],
   "source": [
    "from src.centerlines import Centerlines"
   ]
  },
  {
   "cell_type": "code",
   "execution_count": null,
   "metadata": {},
   "outputs": [],
   "source": []
  },
  {
   "cell_type": "code",
   "execution_count": 10,
   "metadata": {},
   "outputs": [],
   "source": [
    "x = Centerlines()\n",
    "from vtk.util.numpy_support import vtk_to_numpy as v2n"
   ]
  },
  {
   "cell_type": "code",
   "execution_count": 25,
   "metadata": {},
   "outputs": [],
   "source": [
    "x.load_centerlines('../data/healthy/0080_0001/jc_solver_dir_0/artificial_stenosis/Manual_1/model_centerlines.vtp')"
   ]
  },
  {
   "cell_type": "code",
   "execution_count": 26,
   "metadata": {},
   "outputs": [
    {
     "name": "stdout",
     "output_type": "stream",
     "text": [
      "vtkPointData (00000199F6E86B40)\n",
      "  Debug: Off\n",
      "  Modified Time: 3716\n",
      "  Reference Count: 2\n",
      "  Registered Events: \n",
      "    Registered Observers:\n",
      "      vtkObserver (00000199D46E0380)\n",
      "        Event: 33\n",
      "        EventName: ModifiedEvent\n",
      "        Command: 00000199D1EC6920\n",
      "        Priority: 0\n",
      "        Tag: 1\n",
      "  Number Of Arrays: 16\n",
      "  Array 0 name = BifurcationId\n",
      "  Array 1 name = BifurcationIdTmp\n",
      "  Array 2 name = BranchId\n",
      "  Array 3 name = BranchIdTmp\n",
      "  Array 4 name = CenterlineId\n",
      "  Array 5 name = CenterlineSectionArea\n",
      "  Array 6 name = CenterlineSectionBifurcation\n",
      "  Array 7 name = CenterlineSectionClosed\n",
      "  Array 8 name = CenterlineSectionMaxSize\n",
      "  Array 9 name = CenterlineSectionMinSize\n",
      "  Array 10 name = CenterlineSectionNormal\n",
      "  Array 11 name = CenterlineSectionShape\n",
      "  Array 12 name = GlobalNodeId\n",
      "  Array 13 name = MaximumInscribedSphereRadius\n",
      "  Array 14 name = Path\n",
      "  Array 15 name = Stenosis Vessels\n",
      "  Number Of Components: 111\n",
      "  Number Of Tuples: 18903\n",
      "  Copy Tuple Flags: ( 1 1 1 1 1 0 1 1 1 1 1 )\n",
      "  Interpolate Flags: ( 1 1 1 1 1 0 0 1 1 1 1 )\n",
      "  Pass Through Flags: ( 1 1 1 1 1 1 1 1 1 1 1 )\n",
      "  Scalars: (none)\n",
      "  Vectors: (none)\n",
      "  Normals: (none)\n",
      "  TCoords: (none)\n",
      "  Tensors: (none)\n",
      "  GlobalIds: (none)\n",
      "  PedigreeIds: (none)\n",
      "  EdgeFlag: (none)\n",
      "  Tangents: (none)\n",
      "  RationalWeights: (none)\n",
      "  HigherOrderDegrees: (none)\n",
      "\n",
      "\n"
     ]
    }
   ],
   "source": [
    "print(x.centerlines.GetPointData())"
   ]
  },
  {
   "cell_type": "code",
   "execution_count": 27,
   "metadata": {},
   "outputs": [
    {
     "data": {
      "text/plain": [
       "array([-1, -1, -1, ..., -1, -1, -1], dtype=int64)"
      ]
     },
     "execution_count": 27,
     "metadata": {},
     "output_type": "execute_result"
    }
   ],
   "source": [
    "x.get_pointdata('Stenosis Vessels')"
   ]
  },
  {
   "cell_type": "code",
   "execution_count": 13,
   "metadata": {},
   "outputs": [
    {
     "data": {
      "text/plain": [
       "array([[-1.25057 ,  8.61994 ,  1.12018 ],\n",
       "       [-1.0239  ,  8.58373 ,  1.11749 ],\n",
       "       [-1.04647 ,  8.49683 ,  0.993038],\n",
       "       ...,\n",
       "       [ 5.89262 ,  1.17808 , -2.62271 ],\n",
       "       [ 5.76144 ,  1.283   , -2.6754  ],\n",
       "       [ 6.50184 ,  1.80981 , -3.03844 ]], dtype=float32)"
      ]
     },
     "execution_count": 13,
     "metadata": {},
     "output_type": "execute_result"
    }
   ],
   "source": [
    "v2n(x.centerlines.GetPoints().GetData())\n"
   ]
  },
  {
   "cell_type": "code",
   "execution_count": null,
   "metadata": {},
   "outputs": [],
   "source": [
    "def find_circle(p1, p2, num_sections, r):\n",
    "    \n",
    "    theta = 360 / num_sections\n",
    "    # vector of line in space\n",
    "    p1_2 = p2 - p1\n",
    "    # equation of plane\n",
    "    def plane(x, y, z):\n",
    "        return p1_2[0] * (x - p1[0]) + p1_2[1] * (y - p1[1]) + p1_2[2] * (z - p1[2])\n",
    "    \n",
    "    start = p\n"
   ]
  },
  {
   "cell_type": "code",
   "execution_count": 14,
   "metadata": {},
   "outputs": [],
   "source": [
    "file = 'test.txt'"
   ]
  },
  {
   "cell_type": "code",
   "execution_count": null,
   "metadata": {},
   "outputs": [],
   "source": [
    "with open(file, 'w') as wfile:\n",
    "    wfile.write('vtk DataFile Version 3.0\\n')\n",
    "    wfile.write('Diameter Data\\n')\n",
    "    wfile.write('ASCII\\n')\n",
    "    wfile.write('POLYDATA\\n')\n",
    "    \n",
    "    "
   ]
  }
 ],
 "metadata": {
  "kernelspec": {
   "display_name": "Python 3.9.13 ('stanford')",
   "language": "python",
   "name": "python3"
  },
  "language_info": {
   "codemirror_mode": {
    "name": "ipython",
    "version": 3
   },
   "file_extension": ".py",
   "mimetype": "text/x-python",
   "name": "python",
   "nbconvert_exporter": "python",
   "pygments_lexer": "ipython3",
   "version": "3.9.13"
  },
  "orig_nbformat": 4,
  "vscode": {
   "interpreter": {
    "hash": "c5943ab1565cc175dd19e1c0cd6f8378347dbe56ab6be817e999ccff5738902f"
   }
  }
 },
 "nbformat": 4,
 "nbformat_minor": 2
}
