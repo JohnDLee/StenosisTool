{
 "cells": [
  {
   "cell_type": "code",
   "execution_count": 1,
   "metadata": {},
   "outputs": [],
   "source": [
    "from svinterface.core.polydata import Centerlines\n",
    "from svinterface.core.zerod.lpn import LPN"
   ]
  },
  {
   "attachments": {},
   "cell_type": "markdown",
   "metadata": {},
   "source": [
    "c = Centerlines.load_centerlines('../data/diseased/AS1_SU0308_stent/results/AS1_SU0308_nonlinear/3D_DIR/AS1_SU0308_3D_centerlines.formatted.vtp')"
   ]
  },
  {
   "cell_type": "code",
   "execution_count": 102,
   "metadata": {},
   "outputs": [],
   "source": [
    "c = Centerlines.load_centerlines('../data/diseased/AS1_SU0308_stent/results/AS1_SU0308_nonlinear/LPN_DIR/AS1_SU0308.sim.14/centerline_projection.vtp')"
   ]
  },
  {
   "cell_type": "code",
   "execution_count": 103,
   "metadata": {},
   "outputs": [
    {
     "name": "stdout",
     "output_type": "stream",
     "text": [
      "dia_flow_0.8666666666666671\n",
      "dia_pressure_0.8666666666666671\n"
     ]
    }
   ],
   "source": [
    "for a in c.get_pointdata_arraynames():\n",
    "    if a.startswith(\"dia\"):\n",
    "        print(a)"
   ]
  },
  {
   "cell_type": "code",
   "execution_count": 104,
   "metadata": {},
   "outputs": [],
   "source": [
    "sysp = c.get_pointdata_array(\"sys_pressure_0.2225225225225227\")\n",
    "avgp = c.get_pointdata_array(\"avg_pressure\")\n",
    "diap = c.get_pointdata_array(\"dia_pressure_0.8666666666666671\")\n",
    "sysf = c.get_pointdata_array(\"sys_flow_0.2225225225225227\")\n",
    "avgf = c.get_pointdata_array(\"avg_flow\")\n",
    "diaf = c.get_pointdata_array(\"dia_flow_0.8666666666666671\")"
   ]
  },
  {
   "cell_type": "code",
   "execution_count": 2,
   "metadata": {},
   "outputs": [],
   "source": [
    "lpn = LPN.from_file(\"../data/diseased/AS1_SU0308_stent/results/AS1_SU0308_nonlinear/LPN_DIR/AS1_SU0308.in\")"
   ]
  },
  {
   "cell_type": "code",
   "execution_count": 106,
   "metadata": {},
   "outputs": [],
   "source": [
    "from ipywidgets import interact, fixed\n",
    "import matplotlib.pyplot as plt"
   ]
  },
  {
   "cell_type": "code",
   "execution_count": 107,
   "metadata": {},
   "outputs": [],
   "source": [
    "def print_dp(lpn: LPN, vid):\n",
    "    v = lpn.get_vessel(vid)\n",
    "    gids = v['gid']\n",
    "    print(gids)\n",
    "    dsp = sysp[gids[0]] - sysp[gids[1]]\n",
    "    dap = avgp[gids[0]] - avgp[gids[1]]\n",
    "    ddp = diap[gids[0]] - diap[gids[1]]\n",
    "    print(dsp, dap, ddp, sep = '\\n')\n",
    "    print()\n",
    "    plt.plot([diaf[gids[0]],avgf[gids[0]],sysf[gids[0]]], [ddp, dap, dsp])"
   ]
  },
  {
   "cell_type": "code",
   "execution_count": 9,
   "metadata": {},
   "outputs": [
    {
     "data": {
      "text/plain": [
       "[{'gid': [12349, 12388],\n",
       "  'side': 'RPA',\n",
       "  'vessel_id': 81,\n",
       "  'vessel_length': 0.9671380073802638,\n",
       "  'vessel_name': 'branch67_seg0',\n",
       "  'zero_d_element_type': 'BloodVessel',\n",
       "  'zero_d_element_values': {'C': 4.3105195306351945e-07,\n",
       "   'L': 1.3800804387389451,\n",
       "   'R_poiseuille': 69.04145562150654,\n",
       "   'stenosis_coefficient': 3.099667057838769e-10}}]"
      ]
     },
     "execution_count": 9,
     "metadata": {},
     "output_type": "execute_result"
    }
   ],
   "source": [
    "tree = lpn.get_tree()\n",
    "tree.children[0].children[1].vessel_info"
   ]
  },
  {
   "cell_type": "code",
   "execution_count": 5,
   "metadata": {},
   "outputs": [
    {
     "name": "stdout",
     "output_type": "stream",
     "text": [
      "<svinterface.core.zerod.lpn.LPN.BranchNode object at 0x7f983ee34190>\n",
      "<svinterface.core.zerod.lpn.LPN.JunctionNode object at 0x7f983ee34130>\n",
      "<svinterface.core.zerod.lpn.LPN.BranchNode object at 0x7f983ee34070>\n",
      "<svinterface.core.zerod.lpn.LPN.BranchNode object at 0x7f983ee341c0>\n",
      "<svinterface.core.zerod.lpn.LPN.JunctionNode object at 0x7f983ee340a0>\n",
      "<svinterface.core.zerod.lpn.LPN.JunctionNode object at 0x7f983ee34250>\n",
      "<svinterface.core.zerod.lpn.LPN.BranchNode object at 0x7f983ee342e0>\n",
      "<svinterface.core.zerod.lpn.LPN.BranchNode object at 0x7f983ee34340>\n",
      "<svinterface.core.zerod.lpn.LPN.BranchNode object at 0x7f983ee343a0>\n",
      "<svinterface.core.zerod.lpn.LPN.BranchNode object at 0x7f983ee34400>\n",
      "<svinterface.core.zerod.lpn.LPN.BranchNode object at 0x7f983ee34460>\n",
      "<svinterface.core.zerod.lpn.LPN.BranchNode object at 0x7f983ee344c0>\n",
      "<svinterface.core.zerod.lpn.LPN.BranchNode object at 0x7f983ee34520>\n",
      "<svinterface.core.zerod.lpn.LPN.BranchNode object at 0x7f983ee34580>\n",
      "<svinterface.core.zerod.lpn.LPN.BranchNode object at 0x7f983ee345e0>\n",
      "<svinterface.core.zerod.lpn.LPN.BranchNode object at 0x7f983ee34640>\n",
      "<svinterface.core.zerod.lpn.LPN.BranchNode object at 0x7f983ee346a0>\n",
      "<svinterface.core.zerod.lpn.LPN.BranchNode object at 0x7f983ee34700>\n",
      "<svinterface.core.zerod.lpn.LPN.BranchNode object at 0x7f983ee34760>\n",
      "<svinterface.core.zerod.lpn.LPN.BranchNode object at 0x7f983ee347c0>\n",
      "<svinterface.core.zerod.lpn.LPN.BranchNode object at 0x7f983ee34820>\n",
      "<svinterface.core.zerod.lpn.LPN.BranchNode object at 0x7f983ee34880>\n",
      "<svinterface.core.zerod.lpn.LPN.BranchNode object at 0x7f983ee348e0>\n",
      "<svinterface.core.zerod.lpn.LPN.BranchNode object at 0x7f983ee34940>\n",
      "<svinterface.core.zerod.lpn.LPN.BranchNode object at 0x7f983ee349a0>\n",
      "<svinterface.core.zerod.lpn.LPN.BranchNode object at 0x7f983ee34a00>\n",
      "<svinterface.core.zerod.lpn.LPN.BranchNode object at 0x7f983ee34a60>\n",
      "<svinterface.core.zerod.lpn.LPN.BranchNode object at 0x7f983ee34ac0>\n",
      "<svinterface.core.zerod.lpn.LPN.BranchNode object at 0x7f983ee34b20>\n",
      "<svinterface.core.zerod.lpn.LPN.BranchNode object at 0x7f983ee34b80>\n",
      "<svinterface.core.zerod.lpn.LPN.BranchNode object at 0x7f983ee34be0>\n",
      "<svinterface.core.zerod.lpn.LPN.BranchNode object at 0x7f983ee34c40>\n",
      "<svinterface.core.zerod.lpn.LPN.JunctionNode object at 0x7f983ee342b0>\n",
      "<svinterface.core.zerod.lpn.LPN.JunctionNode object at 0x7f983ee34cd0>\n",
      "<svinterface.core.zerod.lpn.LPN.JunctionNode object at 0x7f983ee34d30>\n",
      "<svinterface.core.zerod.lpn.LPN.JunctionNode object at 0x7f983ee34d90>\n",
      "<svinterface.core.zerod.lpn.LPN.JunctionNode object at 0x7f983ee34df0>\n",
      "<svinterface.core.zerod.lpn.LPN.JunctionNode object at 0x7f983ee34e50>\n",
      "<svinterface.core.zerod.lpn.LPN.JunctionNode object at 0x7f983ee34eb0>\n",
      "<svinterface.core.zerod.lpn.LPN.JunctionNode object at 0x7f983ee34f10>\n",
      "<svinterface.core.zerod.lpn.LPN.JunctionNode object at 0x7f983ee34f70>\n",
      "<svinterface.core.zerod.lpn.LPN.JunctionNode object at 0x7f983ee34fd0>\n",
      "<svinterface.core.zerod.lpn.LPN.JunctionNode object at 0x7f983ee37070>\n",
      "<svinterface.core.zerod.lpn.LPN.JunctionNode object at 0x7f983ee370d0>\n",
      "<svinterface.core.zerod.lpn.LPN.JunctionNode object at 0x7f983ee37130>\n",
      "<svinterface.core.zerod.lpn.LPN.JunctionNode object at 0x7f983ee37190>\n",
      "<svinterface.core.zerod.lpn.LPN.JunctionNode object at 0x7f983ee371f0>\n",
      "<svinterface.core.zerod.lpn.LPN.BranchNode object at 0x7f983ee37280>\n",
      "<svinterface.core.zerod.lpn.LPN.BranchNode object at 0x7f983ee372e0>\n",
      "<svinterface.core.zerod.lpn.LPN.BranchNode object at 0x7f983ee37340>\n",
      "<svinterface.core.zerod.lpn.LPN.BranchNode object at 0x7f983ee373a0>\n",
      "<svinterface.core.zerod.lpn.LPN.BranchNode object at 0x7f983ee37400>\n",
      "<svinterface.core.zerod.lpn.LPN.BranchNode object at 0x7f983ee37460>\n",
      "<svinterface.core.zerod.lpn.LPN.BranchNode object at 0x7f983ee374c0>\n",
      "<svinterface.core.zerod.lpn.LPN.BranchNode object at 0x7f983ee37520>\n",
      "<svinterface.core.zerod.lpn.LPN.BranchNode object at 0x7f983ee37580>\n",
      "<svinterface.core.zerod.lpn.LPN.BranchNode object at 0x7f983ee375e0>\n",
      "<svinterface.core.zerod.lpn.LPN.BranchNode object at 0x7f983ee37640>\n",
      "<svinterface.core.zerod.lpn.LPN.BranchNode object at 0x7f983ee376a0>\n",
      "<svinterface.core.zerod.lpn.LPN.BranchNode object at 0x7f983ee37700>\n",
      "<svinterface.core.zerod.lpn.LPN.BranchNode object at 0x7f983ee37760>\n",
      "<svinterface.core.zerod.lpn.LPN.BranchNode object at 0x7f983ee377c0>\n",
      "<svinterface.core.zerod.lpn.LPN.BranchNode object at 0x7f983ee37820>\n",
      "<svinterface.core.zerod.lpn.LPN.BranchNode object at 0x7f983ee37880>\n",
      "<svinterface.core.zerod.lpn.LPN.BranchNode object at 0x7f983ee378e0>\n",
      "<svinterface.core.zerod.lpn.LPN.BranchNode object at 0x7f983ee37940>\n",
      "<svinterface.core.zerod.lpn.LPN.BranchNode object at 0x7f983ee379a0>\n",
      "<svinterface.core.zerod.lpn.LPN.BranchNode object at 0x7f983ee37a00>\n",
      "<svinterface.core.zerod.lpn.LPN.BranchNode object at 0x7f983ee37a60>\n",
      "<svinterface.core.zerod.lpn.LPN.BranchNode object at 0x7f983ee37ac0>\n",
      "<svinterface.core.zerod.lpn.LPN.BranchNode object at 0x7f983ee37b20>\n",
      "<svinterface.core.zerod.lpn.LPN.BranchNode object at 0x7f983ee37b80>\n",
      "<svinterface.core.zerod.lpn.LPN.BranchNode object at 0x7f983ee37be0>\n",
      "<svinterface.core.zerod.lpn.LPN.BranchNode object at 0x7f983ee37c40>\n",
      "<svinterface.core.zerod.lpn.LPN.BranchNode object at 0x7f983ee37ca0>\n",
      "<svinterface.core.zerod.lpn.LPN.BranchNode object at 0x7f983ee37d00>\n",
      "<svinterface.core.zerod.lpn.LPN.BranchNode object at 0x7f983ee37d60>\n",
      "<svinterface.core.zerod.lpn.LPN.BranchNode object at 0x7f983ee37dc0>\n",
      "<svinterface.core.zerod.lpn.LPN.BranchNode object at 0x7f983ee37e20>\n",
      "<svinterface.core.zerod.lpn.LPN.BranchNode object at 0x7f983ee37e80>\n",
      "<svinterface.core.zerod.lpn.LPN.BranchNode object at 0x7f983ee37ee0>\n",
      "<svinterface.core.zerod.lpn.LPN.BranchNode object at 0x7f983ee37f40>\n",
      "<svinterface.core.zerod.lpn.LPN.BranchNode object at 0x7f983ee37fa0>\n",
      "<svinterface.core.zerod.lpn.LPN.BranchNode object at 0x7f983ee3c040>\n",
      "<svinterface.core.zerod.lpn.LPN.BranchNode object at 0x7f983ee3c0a0>\n",
      "<svinterface.core.zerod.lpn.LPN.BranchNode object at 0x7f983ee3c100>\n",
      "<svinterface.core.zerod.lpn.LPN.BranchNode object at 0x7f983ee3c160>\n",
      "<svinterface.core.zerod.lpn.LPN.BranchNode object at 0x7f983ee3c1c0>\n",
      "<svinterface.core.zerod.lpn.LPN.JunctionNode object at 0x7f983ee37250>\n",
      "<svinterface.core.zerod.lpn.LPN.JunctionNode object at 0x7f983ee3c250>\n",
      "<svinterface.core.zerod.lpn.LPN.JunctionNode object at 0x7f983ee3c2b0>\n",
      "<svinterface.core.zerod.lpn.LPN.JunctionNode object at 0x7f983ee3c310>\n",
      "<svinterface.core.zerod.lpn.LPN.JunctionNode object at 0x7f983ee3c370>\n",
      "<svinterface.core.zerod.lpn.LPN.JunctionNode object at 0x7f983ee3c3d0>\n",
      "<svinterface.core.zerod.lpn.LPN.JunctionNode object at 0x7f983ee3c430>\n",
      "<svinterface.core.zerod.lpn.LPN.JunctionNode object at 0x7f983ee3c490>\n",
      "<svinterface.core.zerod.lpn.LPN.JunctionNode object at 0x7f983ee3c4f0>\n",
      "<svinterface.core.zerod.lpn.LPN.JunctionNode object at 0x7f983ee3c550>\n",
      "<svinterface.core.zerod.lpn.LPN.JunctionNode object at 0x7f983ee3c5b0>\n",
      "<svinterface.core.zerod.lpn.LPN.JunctionNode object at 0x7f983ee3c610>\n",
      "<svinterface.core.zerod.lpn.LPN.JunctionNode object at 0x7f983ee3c670>\n",
      "<svinterface.core.zerod.lpn.LPN.JunctionNode object at 0x7f983ee3c6d0>\n",
      "<svinterface.core.zerod.lpn.LPN.JunctionNode object at 0x7f983ee3c730>\n",
      "<svinterface.core.zerod.lpn.LPN.JunctionNode object at 0x7f983ee3c790>\n",
      "<svinterface.core.zerod.lpn.LPN.JunctionNode object at 0x7f983ee3c7f0>\n",
      "<svinterface.core.zerod.lpn.LPN.JunctionNode object at 0x7f983ee3c850>\n",
      "<svinterface.core.zerod.lpn.LPN.JunctionNode object at 0x7f983ee3c8b0>\n",
      "<svinterface.core.zerod.lpn.LPN.BranchNode object at 0x7f983ee3c940>\n",
      "<svinterface.core.zerod.lpn.LPN.BranchNode object at 0x7f983ee3c9a0>\n",
      "<svinterface.core.zerod.lpn.LPN.BranchNode object at 0x7f983ee3ca00>\n",
      "<svinterface.core.zerod.lpn.LPN.BranchNode object at 0x7f983ee3ca60>\n",
      "<svinterface.core.zerod.lpn.LPN.BranchNode object at 0x7f983ee3cac0>\n",
      "<svinterface.core.zerod.lpn.LPN.BranchNode object at 0x7f983ee3cb20>\n",
      "<svinterface.core.zerod.lpn.LPN.BranchNode object at 0x7f983ee3cb80>\n",
      "<svinterface.core.zerod.lpn.LPN.BranchNode object at 0x7f983ee3cbe0>\n",
      "<svinterface.core.zerod.lpn.LPN.BranchNode object at 0x7f983ee3cc40>\n",
      "<svinterface.core.zerod.lpn.LPN.BranchNode object at 0x7f983ee3cca0>\n",
      "<svinterface.core.zerod.lpn.LPN.BranchNode object at 0x7f983ee3cd00>\n",
      "<svinterface.core.zerod.lpn.LPN.BranchNode object at 0x7f983ee3cd60>\n",
      "<svinterface.core.zerod.lpn.LPN.BranchNode object at 0x7f983ee3cdc0>\n",
      "<svinterface.core.zerod.lpn.LPN.BranchNode object at 0x7f983ee3ce20>\n",
      "<svinterface.core.zerod.lpn.LPN.BranchNode object at 0x7f983ee3ce80>\n",
      "<svinterface.core.zerod.lpn.LPN.BranchNode object at 0x7f983ee3cee0>\n",
      "<svinterface.core.zerod.lpn.LPN.BranchNode object at 0x7f983ee3cf40>\n",
      "<svinterface.core.zerod.lpn.LPN.BranchNode object at 0x7f983ee3cfa0>\n",
      "<svinterface.core.zerod.lpn.LPN.BranchNode object at 0x7f983ee38040>\n",
      "<svinterface.core.zerod.lpn.LPN.BranchNode object at 0x7f983ee380a0>\n",
      "<svinterface.core.zerod.lpn.LPN.BranchNode object at 0x7f983ee38100>\n",
      "<svinterface.core.zerod.lpn.LPN.BranchNode object at 0x7f983ee38160>\n",
      "<svinterface.core.zerod.lpn.LPN.BranchNode object at 0x7f983ee381c0>\n",
      "<svinterface.core.zerod.lpn.LPN.BranchNode object at 0x7f983ee38220>\n",
      "<svinterface.core.zerod.lpn.LPN.BranchNode object at 0x7f983ee38280>\n",
      "<svinterface.core.zerod.lpn.LPN.BranchNode object at 0x7f983ee382e0>\n",
      "<svinterface.core.zerod.lpn.LPN.BranchNode object at 0x7f983ee38340>\n",
      "<svinterface.core.zerod.lpn.LPN.BranchNode object at 0x7f983ee383a0>\n",
      "<svinterface.core.zerod.lpn.LPN.BranchNode object at 0x7f983ee38400>\n",
      "<svinterface.core.zerod.lpn.LPN.BranchNode object at 0x7f983ee38460>\n",
      "<svinterface.core.zerod.lpn.LPN.BranchNode object at 0x7f983ee384c0>\n",
      "<svinterface.core.zerod.lpn.LPN.BranchNode object at 0x7f983ee38520>\n",
      "<svinterface.core.zerod.lpn.LPN.BranchNode object at 0x7f983ee38580>\n",
      "<svinterface.core.zerod.lpn.LPN.BranchNode object at 0x7f983ee385e0>\n",
      "<svinterface.core.zerod.lpn.LPN.BranchNode object at 0x7f983ee38640>\n",
      "<svinterface.core.zerod.lpn.LPN.BranchNode object at 0x7f983ee386a0>\n",
      "<svinterface.core.zerod.lpn.LPN.BranchNode object at 0x7f983ee38700>\n",
      "<svinterface.core.zerod.lpn.LPN.BranchNode object at 0x7f983ee38760>\n",
      "<svinterface.core.zerod.lpn.LPN.BranchNode object at 0x7f983ee387c0>\n",
      "<svinterface.core.zerod.lpn.LPN.BranchNode object at 0x7f983ee38820>\n",
      "<svinterface.core.zerod.lpn.LPN.BranchNode object at 0x7f983ee38880>\n",
      "<svinterface.core.zerod.lpn.LPN.BranchNode object at 0x7f983ee388e0>\n",
      "<svinterface.core.zerod.lpn.LPN.BranchNode object at 0x7f983ee38940>\n",
      "<svinterface.core.zerod.lpn.LPN.BranchNode object at 0x7f983ee389a0>\n",
      "<svinterface.core.zerod.lpn.LPN.JunctionNode object at 0x7f983ee3c910>\n",
      "<svinterface.core.zerod.lpn.LPN.JunctionNode object at 0x7f983ee38a30>\n",
      "<svinterface.core.zerod.lpn.LPN.JunctionNode object at 0x7f983ee38a90>\n",
      "<svinterface.core.zerod.lpn.LPN.JunctionNode object at 0x7f983ee38af0>\n",
      "<svinterface.core.zerod.lpn.LPN.JunctionNode object at 0x7f983ee38b50>\n",
      "<svinterface.core.zerod.lpn.LPN.JunctionNode object at 0x7f983ee38bb0>\n",
      "<svinterface.core.zerod.lpn.LPN.JunctionNode object at 0x7f983ee38c10>\n",
      "<svinterface.core.zerod.lpn.LPN.JunctionNode object at 0x7f983ee38c70>\n",
      "<svinterface.core.zerod.lpn.LPN.JunctionNode object at 0x7f983ee38cd0>\n",
      "<svinterface.core.zerod.lpn.LPN.JunctionNode object at 0x7f983ee38d30>\n",
      "<svinterface.core.zerod.lpn.LPN.JunctionNode object at 0x7f983ee38d90>\n",
      "<svinterface.core.zerod.lpn.LPN.BranchNode object at 0x7f983ee38e20>\n",
      "<svinterface.core.zerod.lpn.LPN.BranchNode object at 0x7f983ee38e80>\n",
      "<svinterface.core.zerod.lpn.LPN.BranchNode object at 0x7f983ee38ee0>\n",
      "<svinterface.core.zerod.lpn.LPN.BranchNode object at 0x7f983ee38f40>\n",
      "<svinterface.core.zerod.lpn.LPN.BranchNode object at 0x7f983ee38fa0>\n",
      "<svinterface.core.zerod.lpn.LPN.BranchNode object at 0x7f983ee44040>\n",
      "<svinterface.core.zerod.lpn.LPN.BranchNode object at 0x7f983ee440a0>\n",
      "<svinterface.core.zerod.lpn.LPN.BranchNode object at 0x7f983ee44100>\n",
      "<svinterface.core.zerod.lpn.LPN.BranchNode object at 0x7f983ee44160>\n",
      "<svinterface.core.zerod.lpn.LPN.BranchNode object at 0x7f983ee441c0>\n",
      "<svinterface.core.zerod.lpn.LPN.BranchNode object at 0x7f983ee44220>\n",
      "<svinterface.core.zerod.lpn.LPN.BranchNode object at 0x7f983ee44280>\n",
      "<svinterface.core.zerod.lpn.LPN.BranchNode object at 0x7f983ee442e0>\n",
      "<svinterface.core.zerod.lpn.LPN.BranchNode object at 0x7f983ee44340>\n",
      "<svinterface.core.zerod.lpn.LPN.BranchNode object at 0x7f983ee443a0>\n",
      "<svinterface.core.zerod.lpn.LPN.BranchNode object at 0x7f983ee44400>\n",
      "<svinterface.core.zerod.lpn.LPN.BranchNode object at 0x7f983ee44460>\n",
      "<svinterface.core.zerod.lpn.LPN.BranchNode object at 0x7f983ee444c0>\n",
      "<svinterface.core.zerod.lpn.LPN.BranchNode object at 0x7f983ee44520>\n",
      "<svinterface.core.zerod.lpn.LPN.BranchNode object at 0x7f983ee44580>\n",
      "<svinterface.core.zerod.lpn.LPN.BranchNode object at 0x7f983ee445e0>\n",
      "<svinterface.core.zerod.lpn.LPN.BranchNode object at 0x7f983ee44640>\n",
      "<svinterface.core.zerod.lpn.LPN.BranchNode object at 0x7f983ee446a0>\n",
      "<svinterface.core.zerod.lpn.LPN.BranchNode object at 0x7f983ee44700>\n"
     ]
    }
   ],
   "source": [
    "for node in lpn.tree_bfs_iterator(tree):\n",
    "    print(node)"
   ]
  },
  {
   "cell_type": "code",
   "execution_count": 10,
   "metadata": {},
   "outputs": [
    {
     "name": "stdout",
     "output_type": "stream",
     "text": [
      "1 {'boundary_conditions': {'inlet': 'INFLOW'}, 'gid': [0, 1], 'side': 'MPA', 'vessel_id': 0, 'vessel_length': 0.3032801643946173, 'vessel_name': 'branch0_seg0', 'zero_d_element_type': 'BloodVessel', 'zero_d_element_values': {'C': 4.869774388365284e-07, 'L': 0.12012579864284216, 'R_poiseuille': 1.6087900294822344, 'stenosis_coefficient': 0.0}}\n",
      "2 {'gid': [105, 144], 'side': 'LPA', 'vessel_id': 1, 'vessel_length': 1.0033050211440404, 'vessel_name': 'branch1_seg0', 'zero_d_element_type': 'BloodVessel', 'zero_d_element_values': {'C': 6.197086765881422e-07, 'L': 1.033083702414404, 'R_poiseuille': 70.93030945130596, 'stenosis_coefficient': 7.712571103928528e-05}}\n",
      "3 {'gid': [517, 533], 'side': 'LPA', 'vessel_id': 2, 'vessel_length': 0.24167216433156175, 'vessel_name': 'branch2_seg0', 'zero_d_element_type': 'BloodVessel', 'zero_d_element_values': {'C': 4.052411366663954e-08, 'L': 0.9166358818763622, 'R_poiseuille': 0, 'stenosis_coefficient': 0.0}}\n",
      "4 {'boundary_conditions': {'outlet': 'RCR_0'}, 'gid': [620, 746], 'side': 'LPA', 'vessel_id': 3, 'vessel_length': 1.3153271680775835, 'vessel_name': 'branch3_seg0', 'zero_d_element_type': 'BloodVessel', 'zero_d_element_values': {'C': 1.891423262622434e-07, 'L': 5.817494356346161, 'R_poiseuille': 0, 'stenosis_coefficient': 0.0}}\n",
      "5 {'gid': [854, 916], 'side': 'LPA', 'vessel_id': 4, 'vessel_length': 0.9509898688211694, 'vessel_name': 'branch4_seg0', 'zero_d_element_type': 'BloodVessel', 'zero_d_element_values': {'C': 1.5533843347475505e-07, 'L': 3.7027976128998246, 'R_poiseuille': 0, 'stenosis_coefficient': 2.1157740287847228e-09}}\n",
      "6 {'gid': [988, 1082], 'side': 'LPA', 'vessel_id': 5, 'vessel_length': 0.9763889305991698, 'vessel_name': 'branch5_seg0', 'zero_d_element_type': 'BloodVessel', 'zero_d_element_values': {'C': 1.246081552296714e-07, 'L': 4.8658234088859675, 'R_poiseuille': 0, 'stenosis_coefficient': 0.0}}\n",
      "7 {'boundary_conditions': {'outlet': 'RCR_1'}, 'gid': [1117, 1163], 'side': 'LPA', 'vessel_id': 6, 'vessel_length': 0.7435267422181248, 'vessel_name': 'branch6_seg0', 'zero_d_element_type': 'BloodVessel', 'zero_d_element_values': {'C': 8.3633909057133e-08, 'L': 4.204050323488701, 'R_poiseuille': 0, 'stenosis_coefficient': 0.0030436530329083665}}\n",
      "8 {'boundary_conditions': {'outlet': 'RCR_2'}, 'gid': [1238, 1299], 'side': 'LPA', 'vessel_id': 7, 'vessel_length': 1.0900879089430753, 'vessel_name': 'branch7_seg0', 'zero_d_element_type': 'BloodVessel', 'zero_d_element_values': {'C': 1.6615930644248874e-07, 'L': 4.5483668961267245, 'R_poiseuille': 0, 'stenosis_coefficient': 0.0}}\n",
      "9 {'gid': [1345, 1412], 'side': 'LPA', 'vessel_id': 8, 'vessel_length': 0.2624133411619881, 'vessel_name': 'branch8_seg0', 'zero_d_element_type': 'BloodVessel', 'zero_d_element_values': {'C': 1.6076390851195548e-08, 'L': 2.7242087353788484, 'R_poiseuille': 0, 'stenosis_coefficient': 8.022341207829267e-07}}\n",
      "10 {'gid': [1412, 1437], 'side': 'LPA', 'vessel_id': 9, 'vessel_length': 0.11383029143297937, 'vessel_name': 'branch8_seg1', 'zero_d_element_type': 'BloodVessel', 'zero_d_element_values': {'C': 6.5417801882417055e-09, 'L': 1.259728236109229, 'R_poiseuille': 0, 'stenosis_coefficient': 0.0007184528623333983}}\n",
      "11 {'boundary_conditions': {'outlet': 'RCR_3'}, 'gid': [1437, 1461], 'side': 'LPA', 'vessel_id': 10, 'vessel_length': 0.2834922833440953, 'vessel_name': 'branch8_seg2', 'zero_d_element_type': 'BloodVessel', 'zero_d_element_values': {'C': 1.6609101656325037e-08, 'L': 3.0774673655927414, 'R_poiseuille': 0, 'stenosis_coefficient': 1.5866961069825953e-05}}\n",
      "12 {'boundary_conditions': {'outlet': 'RCR_4'}, 'gid': [1614, 1878], 'side': 'LPA', 'vessel_id': 11, 'vessel_length': 2.085578687609295, 'vessel_name': 'branch9_seg0', 'zero_d_element_type': 'BloodVessel', 'zero_d_element_values': {'C': 1.4922160300453912e-07, 'L': 18.538670046866343, 'R_poiseuille': 0, 'stenosis_coefficient': 3.014162792230059e-05}}\n",
      "13 {'gid': [1979, 1981], 'side': 'LPA', 'vessel_id': 12, 'vessel_length': 0.03333815597587395, 'vessel_name': 'branch10_seg0', 'zero_d_element_type': 'BloodVessel', 'zero_d_element_values': {'C': 4.213691905521423e-09, 'L': 0.16775577743976747, 'R_poiseuille': 0, 'stenosis_coefficient': 0.0}}\n",
      "14 {'boundary_conditions': {'outlet': 'RCR_5'}, 'gid': [2055, 2139], 'side': 'LPA', 'vessel_id': 13, 'vessel_length': 0.7751911829929057, 'vessel_name': 'branch11_seg0', 'zero_d_element_type': 'BloodVessel', 'zero_d_element_values': {'C': 3.250705226613543e-08, 'L': 11.75701777915276, 'R_poiseuille': 0, 'stenosis_coefficient': 0.0}}\n",
      "15 {'boundary_conditions': {'outlet': 'RCR_6'}, 'gid': [2194, 2312], 'side': 'LPA', 'vessel_id': 14, 'vessel_length': 0.7827802114870311, 'vessel_name': 'branch12_seg0', 'zero_d_element_type': 'BloodVessel', 'zero_d_element_values': {'C': 3.7197290718974065e-08, 'L': 10.476723522244786, 'R_poiseuille': 0, 'stenosis_coefficient': 0.0}}\n",
      "16 {'gid': [2373, 2497], 'side': 'LPA', 'vessel_id': 15, 'vessel_length': 0.5498050249362177, 'vessel_name': 'branch13_seg0', 'zero_d_element_type': 'BloodVessel', 'zero_d_element_values': {'C': 2.0668094570757204e-08, 'L': 9.30195180619641, 'R_poiseuille': 0, 'stenosis_coefficient': 0.00014254510230365377}}\n",
      "17 {'gid': [2497, 2511], 'side': 'LPA', 'vessel_id': 16, 'vessel_length': 0.06808655757513214, 'vessel_name': 'branch13_seg1', 'zero_d_element_type': 'BloodVessel', 'zero_d_element_values': {'C': 2.335500400029959e-09, 'L': 1.2624085395270301, 'R_poiseuille': 15.190794116767572, 'stenosis_coefficient': 0.12052708096848407}}\n",
      "18 {'boundary_conditions': {'outlet': 'RCR_7'}, 'gid': [2511, 2530], 'side': 'LPA', 'vessel_id': 17, 'vessel_length': 0.25279831911306583, 'vessel_name': 'branch13_seg2', 'zero_d_element_type': 'BloodVessel', 'zero_d_element_values': {'C': 9.559821025116312e-09, 'L': 4.251632496708845, 'R_poiseuille': 0, 'stenosis_coefficient': 0.00012134772895222957}}\n",
      "19 {'boundary_conditions': {'outlet': 'RCR_8'}, 'gid': [2686, 2807], 'side': 'LPA', 'vessel_id': 18, 'vessel_length': 0.8532971663411045, 'vessel_name': 'branch14_seg0', 'zero_d_element_type': 'BloodVessel', 'zero_d_element_values': {'C': 6.123191386879602e-08, 'L': 7.562752511554772, 'R_poiseuille': 6.538294962213492, 'stenosis_coefficient': 0.34256033067318076}}\n",
      "20 {'boundary_conditions': {'outlet': 'RCR_9'}, 'gid': [2893, 2958], 'side': 'LPA', 'vessel_id': 19, 'vessel_length': 0.5013017954865598, 'vessel_name': 'branch15_seg0', 'zero_d_element_type': 'BloodVessel', 'zero_d_element_values': {'C': 2.4149294316722604e-08, 'L': 6.618372265637697, 'R_poiseuille': 38.889151158960196, 'stenosis_coefficient': 1.004221057746549}}\n",
      "21 {'boundary_conditions': {'outlet': 'RCR_10'}, 'gid': [2997, 3056], 'side': 'LPA', 'vessel_id': 20, 'vessel_length': 0.7436730619457363, 'vessel_name': 'branch16_seg0', 'zero_d_element_type': 'BloodVessel', 'zero_d_element_values': {'C': 9.92950420663491e-08, 'L': 3.5423678055698917, 'R_poiseuille': 0, 'stenosis_coefficient': 0.19587861670778384}}\n",
      "22 {'gid': [3174, 3176], 'side': 'LPA', 'vessel_id': 21, 'vessel_length': 0.03009952713246281, 'vessel_name': 'branch17_seg0', 'zero_d_element_type': 'BloodVessel', 'zero_d_element_values': {'C': 1.926382121359383e-09, 'L': 0.29911212784804825, 'R_poiseuille': 15.279879191633995, 'stenosis_coefficient': 0.0}}\n",
      "23 {'boundary_conditions': {'outlet': 'RCR_11'}, 'gid': [3258, 3300], 'side': 'LPA', 'vessel_id': 22, 'vessel_length': 0.5084956467545776, 'vessel_name': 'branch18_seg0', 'zero_d_element_type': 'BloodVessel', 'zero_d_element_values': {'C': 3.8395910638575895e-08, 'L': 4.282985675965568, 'R_poiseuille': 0, 'stenosis_coefficient': 6.5261550060371804e-06}}\n",
      "24 {'boundary_conditions': {'outlet': 'RCR_12'}, 'gid': [3377, 3435], 'side': 'LPA', 'vessel_id': 23, 'vessel_length': 0.5455861836585081, 'vessel_name': 'branch19_seg0', 'zero_d_element_type': 'BloodVessel', 'zero_d_element_values': {'C': 3.730377268773825e-08, 'L': 5.074942046235094, 'R_poiseuille': 32.600459804387725, 'stenosis_coefficient': 0.4783199337000284}}\n",
      "25 {'boundary_conditions': {'outlet': 'RCR_13'}, 'gid': [3648, 4008], 'side': 'LPA', 'vessel_id': 24, 'vessel_length': 2.480997334641128, 'vessel_name': 'branch20_seg0', 'zero_d_element_type': 'BloodVessel', 'zero_d_element_values': {'C': 3.904530732419104e-07, 'L': 10.026303934747702, 'R_poiseuille': 0, 'stenosis_coefficient': 2.1669798072970183e-06}}\n",
      "26 {'boundary_conditions': {'outlet': 'RCR_14'}, 'gid': [4057, 4240], 'side': 'LPA', 'vessel_id': 25, 'vessel_length': 1.3674470128432226, 'vessel_name': 'branch21_seg0', 'zero_d_element_type': 'BloodVessel', 'zero_d_element_values': {'C': 1.1805302608829454e-07, 'L': 10.073978170254213, 'R_poiseuille': 152.8675064627738, 'stenosis_coefficient': 0.006857765458308585}}\n",
      "27 {'boundary_conditions': {'outlet': 'RCR_15'}, 'gid': [4435, 4549], 'side': 'LPA', 'vessel_id': 26, 'vessel_length': 1.3066129228743848, 'vessel_name': 'branch22_seg0', 'zero_d_element_type': 'BloodVessel', 'zero_d_element_values': {'C': 1.6195999086117521e-07, 'L': 6.7041430185811235, 'R_poiseuille': 38.53743185368639, 'stenosis_coefficient': 0.0}}\n",
      "28 {'boundary_conditions': {'outlet': 'RCR_16'}, 'gid': [4786, 4895], 'side': 'LPA', 'vessel_id': 27, 'vessel_length': 0.7679408028860886, 'vessel_name': 'branch23_seg0', 'zero_d_element_type': 'BloodVessel', 'zero_d_element_values': {'C': 7.146066912796842e-08, 'L': 5.248624752355507, 'R_poiseuille': 122.37591265334088, 'stenosis_coefficient': 0.021250403871877897}}\n",
      "29 {'boundary_conditions': {'outlet': 'RCR_17'}, 'gid': [4960, 5156], 'side': 'LPA', 'vessel_id': 28, 'vessel_length': 1.0999210587538095, 'vessel_name': 'branch24_seg0', 'zero_d_element_type': 'BloodVessel', 'zero_d_element_values': {'C': 1.004468888809926e-07, 'L': 7.660262631760873, 'R_poiseuille': 89.95476557674323, 'stenosis_coefficient': 6.387197880045989e-05}}\n",
      "30 {'gid': [5257, 5404], 'side': 'LPA', 'vessel_id': 29, 'vessel_length': 1.0457987135543494, 'vessel_name': 'branch25_seg0', 'zero_d_element_type': 'BloodVessel', 'zero_d_element_values': {'C': 2.150522220047173e-07, 'L': 3.234516626950689, 'R_poiseuille': 0, 'stenosis_coefficient': 0.0}}\n",
      "31 {'boundary_conditions': {'outlet': 'RCR_18'}, 'gid': [5493, 5612], 'side': 'LPA', 'vessel_id': 30, 'vessel_length': 1.0145404979355797, 'vessel_name': 'branch26_seg0', 'zero_d_element_type': 'BloodVessel', 'zero_d_element_values': {'C': 8.482309148293004e-08, 'L': 7.717591624125288, 'R_poiseuille': 104.59023447028639, 'stenosis_coefficient': 0.0}}\n",
      "32 {'boundary_conditions': {'outlet': 'RCR_19'}, 'gid': [5682, 5823], 'side': 'LPA', 'vessel_id': 31, 'vessel_length': 0.9788050973026653, 'vessel_name': 'branch27_seg0', 'zero_d_element_type': 'BloodVessel', 'zero_d_element_values': {'C': 8.535438067186223e-08, 'L': 7.138775835210081, 'R_poiseuille': 27.998062021504925, 'stenosis_coefficient': 3.804280447334318e-05}}\n",
      "33 {'gid': [5954, 6003], 'side': 'LPA', 'vessel_id': 32, 'vessel_length': 0.38321555505400573, 'vessel_name': 'branch28_seg0', 'zero_d_element_type': 'BloodVessel', 'zero_d_element_values': {'C': 4.49426890179677e-08, 'L': 2.0781855478817075, 'R_poiseuille': 0, 'stenosis_coefficient': 0.0}}\n",
      "34 {'gid': [6090, 6218], 'side': 'LPA', 'vessel_id': 33, 'vessel_length': 0.9997779265977997, 'vessel_name': 'branch29_seg0', 'zero_d_element_type': 'BloodVessel', 'zero_d_element_values': {'C': 1.0226626298624455e-07, 'L': 6.21629788196391, 'R_poiseuille': 0, 'stenosis_coefficient': 0.06312940210685516}}\n",
      "35 {'boundary_conditions': {'outlet': 'RCR_20'}, 'gid': [6279, 6365], 'side': 'LPA', 'vessel_id': 34, 'vessel_length': 0.777737656318081, 'vessel_name': 'branch30_seg0', 'zero_d_element_type': 'BloodVessel', 'zero_d_element_values': {'C': 7.488717700184617e-08, 'L': 5.1370750463405255, 'R_poiseuille': 0.3201604306861192, 'stenosis_coefficient': 0.0006366724272066722}}\n",
      "36 {'gid': [6424, 6446], 'side': 'LPA', 'vessel_id': 35, 'vessel_length': 0.17389039858746833, 'vessel_name': 'branch31_seg0', 'zero_d_element_type': 'BloodVessel', 'zero_d_element_values': {'C': 9.020086474514868e-09, 'L': 2.1320511541472995, 'R_poiseuille': 51.947336918586416, 'stenosis_coefficient': 0.0}}\n",
      "37 {'boundary_conditions': {'outlet': 'RCR_21'}, 'gid': [6514, 6626], 'side': 'LPA', 'vessel_id': 36, 'vessel_length': 0.698291411708792, 'vessel_name': 'branch32_seg0', 'zero_d_element_type': 'BloodVessel', 'zero_d_element_values': {'C': 3.016963578216665e-08, 'L': 10.279226832000832, 'R_poiseuille': 189.72138499427126, 'stenosis_coefficient': 3.106113368535716e-05}}\n",
      "38 {'boundary_conditions': {'outlet': 'RCR_22'}, 'gid': [6671, 6748], 'side': 'LPA', 'vessel_id': 37, 'vessel_length': 0.5717557046304977, 'vessel_name': 'branch33_seg0', 'zero_d_element_type': 'BloodVessel', 'zero_d_element_values': {'C': 2.004148052988911e-08, 'L': 10.374049773639713, 'R_poiseuille': 142.48153525080266, 'stenosis_coefficient': 0.0}}\n",
      "39 {'boundary_conditions': {'outlet': 'RCR_23'}, 'gid': [6917, 7164], 'side': 'LPA', 'vessel_id': 38, 'vessel_length': 1.598644711927393, 'vessel_name': 'branch34_seg0', 'zero_d_element_type': 'BloodVessel', 'zero_d_element_values': {'C': 8.54053213139495e-08, 'L': 19.03163480818861, 'R_poiseuille': 0, 'stenosis_coefficient': 0.6074980907094422}}\n",
      "40 {'gid': [7223, 7364], 'side': 'LPA', 'vessel_id': 39, 'vessel_length': 1.0434691357161956, 'vessel_name': 'branch35_seg0', 'zero_d_element_type': 'BloodVessel', 'zero_d_element_values': {'C': 4.519781445378894e-08, 'L': 15.321415710538933, 'R_poiseuille': 105.13541197504068, 'stenosis_coefficient': 4.7909015814233595e-05}}\n",
      "41 {'gid': [7364, 7375], 'side': 'LPA', 'vessel_id': 40, 'vessel_length': 0.07657988914361195, 'vessel_name': 'branch35_seg1', 'zero_d_element_type': 'BloodVessel', 'zero_d_element_values': {'C': 3.12825219185206e-09, 'L': 1.1922980255966682, 'R_poiseuille': 19.79545803113507, 'stenosis_coefficient': 0.001023415264251168}}\n",
      "42 {'gid': [7375, 7384], 'side': 'LPA', 'vessel_id': 41, 'vessel_length': 0.059706885262551114, 'vessel_name': 'branch35_seg2', 'zero_d_element_type': 'BloodVessel', 'zero_d_element_values': {'C': 2.444147800873894e-09, 'L': 0.9276378970051666, 'R_poiseuille': 12.187621667581062, 'stenosis_coefficient': 0.0001441320030542245}}\n",
      "43 {'boundary_conditions': {'outlet': 'RCR_24'}, 'gid': [7439, 7472], 'side': 'LPA', 'vessel_id': 42, 'vessel_length': 0.37213625219348706, 'vessel_name': 'branch36_seg0', 'zero_d_element_type': 'BloodVessel', 'zero_d_element_values': {'C': 1.4668371327988497e-08, 'L': 6.0045322139472335, 'R_poiseuille': 50.0483547305538, 'stenosis_coefficient': 0.0019462186381804768}}\n",
      "44 {'boundary_conditions': {'outlet': 'RCR_25'}, 'gid': [7519, 7569], 'side': 'LPA', 'vessel_id': 43, 'vessel_length': 0.4474021341326321, 'vessel_name': 'branch37_seg0', 'zero_d_element_type': 'BloodVessel', 'zero_d_element_values': {'C': 1.5177567854887318e-08, 'L': 8.387857336537468, 'R_poiseuille': 41.12600423274321, 'stenosis_coefficient': 0.03686321766770681}}\n",
      "45 {'gid': [7650, 7799], 'side': 'LPA', 'vessel_id': 44, 'vessel_length': 0.8719968456745342, 'vessel_name': 'branch38_seg0', 'zero_d_element_type': 'BloodVessel', 'zero_d_element_values': {'C': 3.8136004421368206e-08, 'L': 12.680948951432928, 'R_poiseuille': 240.7590431911695, 'stenosis_coefficient': 0.0}}\n",
      "46 {'boundary_conditions': {'outlet': 'RCR_26'}, 'gid': [7859, 7975], 'side': 'LPA', 'vessel_id': 45, 'vessel_length': 0.534568263615917, 'vessel_name': 'branch39_seg0', 'zero_d_element_type': 'BloodVessel', 'zero_d_element_values': {'C': 2.108379864123274e-08, 'L': 8.620145562788759, 'R_poiseuille': 174.83726924497776, 'stenosis_coefficient': 0.006994449534813715}}\n",
      "47 {'boundary_conditions': {'outlet': 'RCR_27'}, 'gid': [8027, 8126], 'side': 'LPA', 'vessel_id': 46, 'vessel_length': 0.5958559337949413, 'vessel_name': 'branch40_seg0', 'zero_d_element_type': 'BloodVessel', 'zero_d_element_values': {'C': 1.6204562468743984e-08, 'L': 13.93485145414595, 'R_poiseuille': 436.45472416520636, 'stenosis_coefficient': 1.0559978741944602}}\n",
      "48 {'gid': [8190, 8247], 'side': 'LPA', 'vessel_id': 47, 'vessel_length': 0.4196706662173082, 'vessel_name': 'branch41_seg0', 'zero_d_element_type': 'BloodVessel', 'zero_d_element_values': {'C': 3.775130289766417e-08, 'L': 2.967169795559465, 'R_poiseuille': 0, 'stenosis_coefficient': 0.0}}\n",
      "49 {'boundary_conditions': {'outlet': 'RCR_28'}, 'gid': [8328, 8373], 'side': 'LPA', 'vessel_id': 48, 'vessel_length': 0.4553924081024309, 'vessel_name': 'branch42_seg0', 'zero_d_element_type': 'BloodVessel', 'zero_d_element_values': {'C': 2.5955731053938047e-08, 'L': 5.081540865605908, 'R_poiseuille': 0, 'stenosis_coefficient': 0.033912633801000874}}\n",
      "50 {'gid': [8437, 8446], 'side': 'LPA', 'vessel_id': 49, 'vessel_length': 0.06114005532671877, 'vessel_name': 'branch43_seg0', 'zero_d_element_type': 'BloodVessel', 'zero_d_element_values': {'C': 2.346691785109199e-09, 'L': 1.013100937861195, 'R_poiseuille': 0.5944288170815266, 'stenosis_coefficient': 0.0021827127085790117}}\n",
      "51 {'gid': [8446, 8461], 'side': 'LPA', 'vessel_id': 50, 'vessel_length': 0.10279379991142608, 'vessel_name': 'branch43_seg1', 'zero_d_element_type': 'BloodVessel', 'zero_d_element_values': {'C': 3.8016950788259534e-09, 'L': 1.767720817057705, 'R_poiseuille': 39.628654787350015, 'stenosis_coefficient': 0.004600002407219798}}\n",
      "52 {'boundary_conditions': {'outlet': 'RCR_29'}, 'gid': [8461, 8470], 'side': 'LPA', 'vessel_id': 51, 'vessel_length': 0.175296460801997, 'vessel_name': 'branch43_seg2', 'zero_d_element_type': 'BloodVessel', 'zero_d_element_values': {'C': 6.500427223021632e-09, 'L': 3.006502096157385, 'R_poiseuille': 70.35920468705648, 'stenosis_coefficient': 0.00131360632633294}}\n",
      "53 {'boundary_conditions': {'outlet': 'RCR_30'}, 'gid': [8565, 8755], 'side': 'LPA', 'vessel_id': 52, 'vessel_length': 1.137363739821231, 'vessel_name': 'branch44_seg0', 'zero_d_element_type': 'BloodVessel', 'zero_d_element_values': {'C': 8.674536727595015e-08, 'L': 9.484393896663407, 'R_poiseuille': 0, 'stenosis_coefficient': 0.07121848886992664}}\n",
      "54 {'gid': [8822, 8997], 'side': 'LPA', 'vessel_id': 53, 'vessel_length': 1.0356579650115267, 'vessel_name': 'branch45_seg0', 'zero_d_element_type': 'BloodVessel', 'zero_d_element_values': {'C': 7.098827644804073e-08, 'L': 9.609552922898486, 'R_poiseuille': 0, 'stenosis_coefficient': 1.4451709636678276}}\n",
      "55 {'gid': [9075, 9100], 'side': 'LPA', 'vessel_id': 54, 'vessel_length': 0.05543823775374978, 'vessel_name': 'branch46_seg0', 'zero_d_element_type': 'BloodVessel', 'zero_d_element_values': {'C': 2.4625560754588315e-09, 'L': 0.7937611159450474, 'R_poiseuille': 0, 'stenosis_coefficient': 6.0501451657681455e-06}}\n",
      "56 {'gid': [9100, 9197], 'side': 'LPA', 'vessel_id': 55, 'vessel_length': 0.5299449403928822, 'vessel_name': 'branch46_seg1', 'zero_d_element_type': 'BloodVessel', 'zero_d_element_values': {'C': 1.785098461252312e-08, 'L': 10.00590649873916, 'R_poiseuille': 63.03051212104444, 'stenosis_coefficient': 6.76241383658782}}\n",
      "57 {'boundary_conditions': {'outlet': 'RCR_31'}, 'gid': [9197, 9243], 'side': 'LPA', 'vessel_id': 56, 'vessel_length': 0.31085523482968963, 'vessel_name': 'branch46_seg2', 'zero_d_element_type': 'BloodVessel', 'zero_d_element_values': {'C': 1.145483488396856e-08, 'L': 5.365184396623761, 'R_poiseuille': 224.66264619954558, 'stenosis_coefficient': 3.81457319886986e-05}}\n",
      "58 {'boundary_conditions': {'outlet': 'RCR_32'}, 'gid': [9310, 9458], 'side': 'LPA', 'vessel_id': 57, 'vessel_length': 0.8349096690969336, 'vessel_name': 'branch47_seg0', 'zero_d_element_type': 'BloodVessel', 'zero_d_element_values': {'C': 3.3208949398828544e-08, 'L': 13.349990618686224, 'R_poiseuille': 470.247547158064, 'stenosis_coefficient': 0.013693299312235624}}\n",
      "59 {'gid': [9622, 9656], 'side': 'LPA', 'vessel_id': 58, 'vessel_length': 0.23827278807924368, 'vessel_name': 'branch48_seg0', 'zero_d_element_type': 'BloodVessel', 'zero_d_element_values': {'C': 3.5097453804484406e-08, 'L': 1.0287986786729861, 'R_poiseuille': 4.159169712149892, 'stenosis_coefficient': 0.0}}\n",
      "60 {'boundary_conditions': {'outlet': 'RCR_33'}, 'gid': [9744, 9873], 'side': 'LPA', 'vessel_id': 59, 'vessel_length': 0.8463095978224345, 'vessel_name': 'branch49_seg0', 'zero_d_element_type': 'BloodVessel', 'zero_d_element_values': {'C': 6.249611417919936e-08, 'L': 7.288910756704709, 'R_poiseuille': 0, 'stenosis_coefficient': 0.0007697762794690799}}\n",
      "61 {'gid': [9961, 10019], 'side': 'LPA', 'vessel_id': 60, 'vessel_length': 0.5048069698830735, 'vessel_name': 'branch50_seg0', 'zero_d_element_type': 'BloodVessel', 'zero_d_element_values': {'C': 6.898699663623707e-08, 'L': 2.3493112727669767, 'R_poiseuille': 0, 'stenosis_coefficient': 0.0}}\n",
      "62 {'gid': [10076, 10100], 'side': 'LPA', 'vessel_id': 61, 'vessel_length': 0.21131753381040486, 'vessel_name': 'branch51_seg0', 'zero_d_element_type': 'BloodVessel', 'zero_d_element_values': {'C': 2.0913211293518864e-08, 'L': 1.3580240385977507, 'R_poiseuille': 6.7859469791577265, 'stenosis_coefficient': 0.0}}\n",
      "63 {'boundary_conditions': {'outlet': 'RCR_34'}, 'gid': [10240, 10276], 'side': 'LPA', 'vessel_id': 62, 'vessel_length': 0.5162809200811836, 'vessel_name': 'branch52_seg0', 'zero_d_element_type': 'BloodVessel', 'zero_d_element_values': {'C': 3.388102091245014e-08, 'L': 5.003487028499354, 'R_poiseuille': 168.78347650077063, 'stenosis_coefficient': 0.23221333200755964}}\n",
      "64 {'gid': [10299, 10359], 'side': 'LPA', 'vessel_id': 63, 'vessel_length': 0.4466704025186579, 'vessel_name': 'branch53_seg0', 'zero_d_element_type': 'BloodVessel', 'zero_d_element_values': {'C': 2.1269812642221824e-08, 'L': 5.965787822001025, 'R_poiseuille': 160.7008357079553, 'stenosis_coefficient': 0.08804137594275094}}\n",
      "65 {'gid': [10359, 10386], 'side': 'LPA', 'vessel_id': 64, 'vessel_length': 0.13754025754280258, 'vessel_name': 'branch53_seg1', 'zero_d_element_type': 'BloodVessel', 'zero_d_element_values': {'C': 5.435898004398754e-09, 'L': 2.2133264945821747, 'R_poiseuille': 54.153608911836365, 'stenosis_coefficient': 0.09663719998201342}}\n",
      "66 {'boundary_conditions': {'outlet': 'RCR_35'}, 'gid': [10386, 10396], 'side': 'LPA', 'vessel_id': 65, 'vessel_length': 0.17481494479747003, 'vessel_name': 'branch53_seg2', 'zero_d_element_type': 'BloodVessel', 'zero_d_element_values': {'C': 6.6405264782593635e-09, 'L': 2.926925832709539, 'R_poiseuille': 114.6837835559811, 'stenosis_coefficient': 3.3854695024971365e-06}}\n",
      "67 {'gid': [10424, 10433], 'side': 'LPA', 'vessel_id': 66, 'vessel_length': 0.11092997306567826, 'vessel_name': 'branch54_seg0', 'zero_d_element_type': 'BloodVessel', 'zero_d_element_values': {'C': 6.234422888340705e-09, 'L': 1.2553322121481727, 'R_poiseuille': 326.3935216333412, 'stenosis_coefficient': 0.0}}\n",
      "68 {'boundary_conditions': {'outlet': 'RCR_36'}, 'gid': [10507, 10586], 'side': 'LPA', 'vessel_id': 67, 'vessel_length': 0.3975274773379283, 'vessel_name': 'branch55_seg0', 'zero_d_element_type': 'BloodVessel', 'zero_d_element_values': {'C': 1.717225872037761e-08, 'L': 5.85280423550338, 'R_poiseuille': 0, 'stenosis_coefficient': 0.004438163559295377}}\n",
      "69 {'boundary_conditions': {'outlet': 'RCR_37'}, 'gid': [10624, 10668], 'side': 'LPA', 'vessel_id': 68, 'vessel_length': 0.4113428024702699, 'vessel_name': 'branch56_seg0', 'zero_d_element_type': 'BloodVessel', 'zero_d_element_values': {'C': 1.321534476483846e-08, 'L': 8.143037282989882, 'R_poiseuille': 2.8039283497726046, 'stenosis_coefficient': 11.253912765422166}}\n",
      "70 {'boundary_conditions': {'outlet': 'RCR_38'}, 'gid': [10740, 10836], 'side': 'LPA', 'vessel_id': 69, 'vessel_length': 0.5573705717985913, 'vessel_name': 'branch57_seg0', 'zero_d_element_type': 'BloodVessel', 'zero_d_element_values': {'C': 2.266655125065059e-08, 'L': 8.71685333840265, 'R_poiseuille': 218.0806014532667, 'stenosis_coefficient': 0.004899017630560086}}\n",
      "71 {'gid': [10904, 10960], 'side': 'LPA', 'vessel_id': 70, 'vessel_length': 0.4800024949232271, 'vessel_name': 'branch58_seg0', 'zero_d_element_type': 'BloodVessel', 'zero_d_element_values': {'C': 3.527559644402419e-08, 'L': 4.1540310604474024, 'R_poiseuille': 7.424427055837064, 'stenosis_coefficient': 0.7317518421354459}}\n",
      "72 {'boundary_conditions': {'outlet': 'RCR_39'}, 'gid': [11044, 11075], 'side': 'LPA', 'vessel_id': 71, 'vessel_length': 0.39552052543381566, 'vessel_name': 'branch59_seg0', 'zero_d_element_type': 'BloodVessel', 'zero_d_element_values': {'C': 2.3721062105386566e-08, 'L': 4.194314937461924, 'R_poiseuille': 39.233054282746494, 'stenosis_coefficient': 0.00013202884388857888}}\n",
      "73 {'boundary_conditions': {'outlet': 'RCR_40'}, 'gid': [11134, 11202], 'side': 'LPA', 'vessel_id': 72, 'vessel_length': 0.5044109443423238, 'vessel_name': 'branch60_seg0', 'zero_d_element_type': 'BloodVessel', 'zero_d_element_values': {'C': 2.0529660447482897e-08, 'L': 7.882143755136117, 'R_poiseuille': 123.39683659102339, 'stenosis_coefficient': 0.4400775863943383}}\n",
      "74 {'gid': [11274, 11320], 'side': 'LPA', 'vessel_id': 73, 'vessel_length': 0.17145123457978065, 'vessel_name': 'branch61_seg0', 'zero_d_element_type': 'BloodVessel', 'zero_d_element_values': {'C': 1.1090640774470539e-08, 'L': 1.6857055253827402, 'R_poiseuille': 15.707762066947145, 'stenosis_coefficient': 2.0424788612169e-05}}\n",
      "75 {'boundary_conditions': {'outlet': 'RCR_41'}, 'gid': [11369, 11440], 'side': 'LPA', 'vessel_id': 74, 'vessel_length': 0.5541009777774889, 'vessel_name': 'branch62_seg0', 'zero_d_element_type': 'BloodVessel', 'zero_d_element_values': {'C': 2.237190301187887e-08, 'L': 8.728347347535056, 'R_poiseuille': 202.0010761807299, 'stenosis_coefficient': 4.8113364050792065}}\n",
      "76 {'boundary_conditions': {'outlet': 'RCR_42'}, 'gid': [11491, 11589], 'side': 'LPA', 'vessel_id': 75, 'vessel_length': 0.5275274649852044, 'vessel_name': 'branch63_seg0', 'zero_d_element_type': 'BloodVessel', 'zero_d_element_values': {'C': 1.7877092833624665e-08, 'L': 9.900345966914019, 'R_poiseuille': 316.9154964571143, 'stenosis_coefficient': 0.29569869880786553}}\n",
      "77 {'gid': [11676, 11747], 'side': 'LPA', 'vessel_id': 76, 'vessel_length': 0.38029316610669167, 'vessel_name': 'branch64_seg0', 'zero_d_element_type': 'BloodVessel', 'zero_d_element_values': {'C': 2.4569481316750116e-08, 'L': 3.743675263039124, 'R_poiseuille': 148.5269513861039, 'stenosis_coefficient': 0.0016078910052514082}}\n",
      "78 {'gid': [11747, 11790], 'side': 'LPA', 'vessel_id': 77, 'vessel_length': 0.20017703881292118, 'vessel_name': 'branch64_seg1', 'zero_d_element_type': 'BloodVessel', 'zero_d_element_values': {'C': 1.2147014904104203e-08, 'L': 2.0980511515944364, 'R_poiseuille': 29.988083132122537, 'stenosis_coefficient': 0.10560825599607747}}\n",
      "79 {'gid': [11790, 11822], 'side': 'LPA', 'vessel_id': 78, 'vessel_length': 0.07726802676669645, 'vessel_name': 'branch64_seg2', 'zero_d_element_type': 'BloodVessel', 'zero_d_element_values': {'C': 4.81391850726155e-09, 'L': 0.788783876814416, 'R_poiseuille': 13.228554136002577, 'stenosis_coefficient': 4.351134848802494e-06}}\n",
      "80 {'boundary_conditions': {'outlet': 'RCR_43'}, 'gid': [11934, 12033], 'side': 'LPA', 'vessel_id': 79, 'vessel_length': 0.7938073157972494, 'vessel_name': 'branch65_seg0', 'zero_d_element_type': 'BloodVessel', 'zero_d_element_values': {'C': 3.0831431567473675e-08, 'L': 12.998511400839737, 'R_poiseuille': 280.59167544145055, 'stenosis_coefficient': 7.634263251019285}}\n",
      "81 {'boundary_conditions': {'outlet': 'RCR_44'}, 'gid': [12080, 12220], 'side': 'LPA', 'vessel_id': 80, 'vessel_length': 0.76876145728337, 'vessel_name': 'branch66_seg0', 'zero_d_element_type': 'BloodVessel', 'zero_d_element_values': {'C': 2.9369838223089412e-08, 'L': 12.797901523425306, 'R_poiseuille': 290.41183886476983, 'stenosis_coefficient': 0.6062835300419731}}\n",
      "82 {'gid': [12349, 12388], 'side': 'RPA', 'vessel_id': 81, 'vessel_length': 0.9671380073802638, 'vessel_name': 'branch67_seg0', 'zero_d_element_type': 'BloodVessel', 'zero_d_element_values': {'C': 4.3105195306351945e-07, 'L': 1.3800804387389451, 'R_poiseuille': 69.04145562150654, 'stenosis_coefficient': 3.099667057838769e-10}}\n",
      "83 {'gid': [12451, 12516], 'side': 'RPA', 'vessel_id': 82, 'vessel_length': 0.7162045885168608, 'vessel_name': 'branch68_seg0', 'zero_d_element_type': 'BloodVessel', 'zero_d_element_values': {'C': 7.287034251053055e-08, 'L': 4.476932051945176, 'R_poiseuille': 572.932813148503, 'stenosis_coefficient': 0.0}}\n",
      "84 {'gid': [12575, 12600], 'side': 'RPA', 'vessel_id': 83, 'vessel_length': 0.2959429599652165, 'vessel_name': 'branch69_seg0', 'zero_d_element_type': 'BloodVessel', 'zero_d_element_values': {'C': 5.157310795725947e-08, 'L': 1.080064863607868, 'R_poiseuille': 0, 'stenosis_coefficient': 0.0}}\n",
      "85 {'gid': [12689, 12799], 'side': 'RPA', 'vessel_id': 84, 'vessel_length': 0.5782186329222951, 'vessel_name': 'branch70_seg0', 'zero_d_element_type': 'BloodVessel', 'zero_d_element_values': {'C': 5.105986712530046e-08, 'L': 4.164487860922384, 'R_poiseuille': 39.426654477154386, 'stenosis_coefficient': 0.0}}\n",
      "86 {'boundary_conditions': {'outlet': 'RCR_45'}, 'gid': [12877, 12981], 'side': 'RPA', 'vessel_id': 85, 'vessel_length': 0.7396191054859661, 'vessel_name': 'branch71_seg0', 'zero_d_element_type': 'BloodVessel', 'zero_d_element_values': {'C': 3.926746426501182e-08, 'L': 8.860138295028934, 'R_poiseuille': 295.31881250455115, 'stenosis_coefficient': 0.0}}\n",
      "87 {'boundary_conditions': {'outlet': 'RCR_46'}, 'gid': [13085, 13154], 'side': 'RPA', 'vessel_id': 86, 'vessel_length': 0.5831106165357631, 'vessel_name': 'branch72_seg0', 'zero_d_element_type': 'BloodVessel', 'zero_d_element_values': {'C': 3.126326258337243e-08, 'L': 6.91711051505057, 'R_poiseuille': 68.486462288712, 'stenosis_coefficient': 3.183042535903836e-07}}\n",
      "88 {'boundary_conditions': {'outlet': 'RCR_47'}, 'gid': [13195, 13297], 'side': 'RPA', 'vessel_id': 87, 'vessel_length': 0.9076715478882064, 'vessel_name': 'branch73_seg0', 'zero_d_element_type': 'BloodVessel', 'zero_d_element_values': {'C': 4.842900100779031e-08, 'L': 10.81954629255358, 'R_poiseuille': 197.44902131683904, 'stenosis_coefficient': 8.276788335519658e-05}}\n",
      "89 {'boundary_conditions': {'outlet': 'RCR_48'}, 'gid': [13346, 13409], 'side': 'RPA', 'vessel_id': 88, 'vessel_length': 1.0117791419212216, 'vessel_name': 'branch74_seg0', 'zero_d_element_type': 'BloodVessel', 'zero_d_element_values': {'C': 1.2103656065978575e-07, 'L': 5.379129321091079, 'R_poiseuille': 0, 'stenosis_coefficient': 0.004148073734641792}}\n",
      "90 {'boundary_conditions': {'outlet': 'RCR_49'}, 'gid': [13462, 13506], 'side': 'RPA', 'vessel_id': 89, 'vessel_length': 0.44398907804993215, 'vessel_name': 'branch75_seg0', 'zero_d_element_type': 'BloodVessel', 'zero_d_element_values': {'C': 2.0619248388826696e-08, 'L': 6.080353917066615, 'R_poiseuille': 134.61087917274395, 'stenosis_coefficient': 0.008114349870498548}}\n",
      "91 {'gid': [13700, 13714], 'side': 'RPA', 'vessel_id': 90, 'vessel_length': 0.15071749592518974, 'vessel_name': 'branch76_seg0', 'zero_d_element_type': 'BloodVessel', 'zero_d_element_values': {'C': 1.2623426705303029e-08, 'L': 1.1444773255991656, 'R_poiseuille': 347.99655768135, 'stenosis_coefficient': 6.256187919345195e-05}}\n",
      "92 {'gid': [13768, 13834], 'side': 'RPA', 'vessel_id': 91, 'vessel_length': 0.6865497728129281, 'vessel_name': 'branch77_seg0', 'zero_d_element_type': 'BloodVessel', 'zero_d_element_values': {'C': 7.223471871367245e-08, 'L': 4.15006773650978, 'R_poiseuille': 0, 'stenosis_coefficient': 0.0}}\n",
      "93 {'gid': [13908, 14117], 'side': 'RPA', 'vessel_id': 92, 'vessel_length': 1.1547236073232736, 'vessel_name': 'branch78_seg0', 'zero_d_element_type': 'BloodVessel', 'zero_d_element_values': {'C': 1.1374658377361777e-07, 'L': 7.455466840294191, 'R_poiseuille': 0, 'stenosis_coefficient': 0.0}}\n",
      "94 {'boundary_conditions': {'outlet': 'RCR_50'}, 'gid': [14203, 14261], 'side': 'RPA', 'vessel_id': 93, 'vessel_length': 0.6517108062837906, 'vessel_name': 'branch79_seg0', 'zero_d_element_type': 'BloodVessel', 'zero_d_element_values': {'C': 3.251530037695828e-08, 'L': 8.3076690968735, 'R_poiseuille': 500.57363222588714, 'stenosis_coefficient': 0.05075195106943694}}\n",
      "95 {'boundary_conditions': {'outlet': 'RCR_51'}, 'gid': [14336, 14420], 'side': 'RPA', 'vessel_id': 94, 'vessel_length': 0.6312368558691119, 'vessel_name': 'branch80_seg0', 'zero_d_element_type': 'BloodVessel', 'zero_d_element_values': {'C': 2.8311422917960495e-08, 'L': 8.951176368433831, 'R_poiseuille': 347.43644284558627, 'stenosis_coefficient': 0.0003602968910929274}}\n",
      "96 {'boundary_conditions': {'outlet': 'RCR_52'}, 'gid': [14488, 14768], 'side': 'RPA', 'vessel_id': 95, 'vessel_length': 2.0770803207081463, 'vessel_name': 'branch81_seg0', 'zero_d_element_type': 'BloodVessel', 'zero_d_element_values': {'C': 1.0870751572992991e-07, 'L': 25.240858762082876, 'R_poiseuille': 239.09144022131153, 'stenosis_coefficient': 5.372327740957222}}\n",
      "97 {'gid': [14827, 14837], 'side': 'RPA', 'vessel_id': 96, 'vessel_length': 0.031631266830457604, 'vessel_name': 'branch82_seg0', 'zero_d_element_type': 'BloodVessel', 'zero_d_element_values': {'C': 1.3553649558667397e-09, 'L': 0.46949831151537885, 'R_poiseuille': 190.7302738740798, 'stenosis_coefficient': 0.053153129363591047}}\n",
      "98 {'gid': [14837, 14893], 'side': 'RPA', 'vessel_id': 97, 'vessel_length': 0.33869000446160613, 'vessel_name': 'branch82_seg1', 'zero_d_element_type': 'BloodVessel', 'zero_d_element_values': {'C': 1.4670113259156925e-08, 'L': 4.973113927132264, 'R_poiseuille': 166.7463992839497, 'stenosis_coefficient': 3.3044732914571835}}\n",
      "99 {'boundary_conditions': {'outlet': 'RCR_53'}, 'gid': [14893, 14929], 'side': 'RPA', 'vessel_id': 98, 'vessel_length': 0.28806663073085137, 'vessel_name': 'branch82_seg2', 'zero_d_element_type': 'BloodVessel', 'zero_d_element_values': {'C': 1.36449929755813e-08, 'L': 3.8678507312891393, 'R_poiseuille': 22.45152064875576, 'stenosis_coefficient': 2.211323784850274e-05}}\n",
      "100 {'gid': [14973, 14979], 'side': 'RPA', 'vessel_id': 99, 'vessel_length': 0.05677836868905084, 'vessel_name': 'branch83_seg0', 'zero_d_element_type': 'BloodVessel', 'zero_d_element_values': {'C': 4.3594954102016295e-09, 'L': 0.4703127061979581, 'R_poiseuille': 27.984327927249424, 'stenosis_coefficient': 0.0}}\n",
      "101 {'gid': [15063, 15316], 'side': 'RPA', 'vessel_id': 100, 'vessel_length': 1.8385729145419758, 'vessel_name': 'branch84_seg0', 'zero_d_element_type': 'BloodVessel', 'zero_d_element_values': {'C': 1.1925325904410077e-07, 'L': 18.028042566891358, 'R_poiseuille': 0, 'stenosis_coefficient': 0.05542383707712144}}\n",
      "102 {'boundary_conditions': {'outlet': 'RCR_54'}, 'gid': [15411, 15483], 'side': 'RPA', 'vessel_id': 101, 'vessel_length': 0.5889312893861096, 'vessel_name': 'branch85_seg0', 'zero_d_element_type': 'BloodVessel', 'zero_d_element_values': {'C': 2.8274682083126362e-08, 'L': 7.80168915118171, 'R_poiseuille': 201.2837728720486, 'stenosis_coefficient': 0.0003269748696194461}}\n",
      "103 {'gid': [15523, 15799], 'side': 'RPA', 'vessel_id': 102, 'vessel_length': 2.0294685813553843, 'vessel_name': 'branch86_seg0', 'zero_d_element_type': 'BloodVessel', 'zero_d_element_values': {'C': 1.223428789877101e-07, 'L': 21.41130234401167, 'R_poiseuille': 0, 'stenosis_coefficient': 5.438435541542442}}\n",
      "104 {'boundary_conditions': {'outlet': 'RCR_55'}, 'gid': [15868, 15928], 'side': 'RPA', 'vessel_id': 103, 'vessel_length': 0.6093777098388709, 'vessel_name': 'branch87_seg0', 'zero_d_element_type': 'BloodVessel', 'zero_d_element_values': {'C': 2.328509783651335e-08, 'L': 10.142667235680767, 'R_poiseuille': 415.9068367007772, 'stenosis_coefficient': 0.000246580313626594}}\n",
      "105 {'boundary_conditions': {'outlet': 'RCR_56'}, 'gid': [15976, 16049], 'side': 'RPA', 'vessel_id': 104, 'vessel_length': 0.5127740281771165, 'vessel_name': 'branch88_seg0', 'zero_d_element_type': 'BloodVessel', 'zero_d_element_values': {'C': 2.2022394737275335e-08, 'L': 7.593545739318137, 'R_poiseuille': 192.36826576144065, 'stenosis_coefficient': 1.6506688316706116e-07}}\n",
      "106 {'boundary_conditions': {'outlet': 'RCR_57'}, 'gid': [16114, 16184], 'side': 'RPA', 'vessel_id': 105, 'vessel_length': 0.5302914274144257, 'vessel_name': 'branch89_seg0', 'zero_d_element_type': 'BloodVessel', 'zero_d_element_values': {'C': 2.162347137839378e-08, 'L': 8.271055076746647, 'R_poiseuille': 226.0405212916898, 'stenosis_coefficient': 2.152621048385185}}\n",
      "107 {'gid': [16274, 16329], 'side': 'RPA', 'vessel_id': 106, 'vessel_length': 0.7725918601783198, 'vessel_name': 'branch90_seg0', 'zero_d_element_type': 'BloodVessel', 'zero_d_element_values': {'C': 1.257490923437923e-07, 'L': 3.018926315406644, 'R_poiseuille': 15.013856435492164, 'stenosis_coefficient': 0.0}}\n",
      "108 {'boundary_conditions': {'outlet': 'RCR_58'}, 'gid': [16400, 16553], 'side': 'RPA', 'vessel_id': 107, 'vessel_length': 1.3573958868866538, 'vessel_name': 'branch91_seg0', 'zero_d_element_type': 'BloodVessel', 'zero_d_element_values': {'C': 8.858060494176199e-08, 'L': 13.229137533967478, 'R_poiseuille': 1600.319736506698, 'stenosis_coefficient': 0.0009441085069463541}}\n",
      "109 {'boundary_conditions': {'outlet': 'RCR_59'}, 'gid': [16649, 16797], 'side': 'RPA', 'vessel_id': 108, 'vessel_length': 1.168661555007404, 'vessel_name': 'branch92_seg0', 'zero_d_element_type': 'BloodVessel', 'zero_d_element_values': {'C': 7.853162347824392e-08, 'L': 11.06088953092278, 'R_poiseuille': 1184.9718767487473, 'stenosis_coefficient': 0.038460152126888754}}\n",
      "110 {'gid': [16849, 16884], 'side': 'RPA', 'vessel_id': 109, 'vessel_length': 0.4336696234553842, 'vessel_name': 'branch93_seg0', 'zero_d_element_type': 'BloodVessel', 'zero_d_element_values': {'C': 6.187481787358027e-08, 'L': 1.9331305661736624, 'R_poiseuille': 6.383808873399694, 'stenosis_coefficient': 0.0}}\n",
      "111 {'gid': [16992, 17089], 'side': 'RPA', 'vessel_id': 110, 'vessel_length': 0.9557139545389665, 'vessel_name': 'branch94_seg0', 'zero_d_element_type': 'BloodVessel', 'zero_d_element_values': {'C': 1.3974956841455527e-07, 'L': 4.156832212042955, 'R_poiseuille': 0, 'stenosis_coefficient': 0.04519736267041229}}\n",
      "112 {'gid': [17179, 17184], 'side': 'RPA', 'vessel_id': 111, 'vessel_length': 0.02929353916343924, 'vessel_name': 'branch95_seg0', 'zero_d_element_type': 'BloodVessel', 'zero_d_element_values': {'C': 2.861878925741204e-09, 'L': 0.1906994977478092, 'R_poiseuille': 0.4519678772917959, 'stenosis_coefficient': 0.0}}\n",
      "113 {'boundary_conditions': {'outlet': 'RCR_60'}, 'gid': [17241, 17395], 'side': 'RPA', 'vessel_id': 112, 'vessel_length': 0.8979899556855394, 'vessel_name': 'branch96_seg0', 'zero_d_element_type': 'BloodVessel', 'zero_d_element_values': {'C': 4.573754349904343e-08, 'L': 11.213139833284501, 'R_poiseuille': 130.7241256189664, 'stenosis_coefficient': 0.0}}\n",
      "114 {'gid': [17505, 17599], 'side': 'RPA', 'vessel_id': 113, 'vessel_length': 0.7345819235478803, 'vessel_name': 'branch97_seg0', 'zero_d_element_type': 'BloodVessel', 'zero_d_element_values': {'C': 4.666506435514563e-08, 'L': 7.3543741527200615, 'R_poiseuille': 42.868600987363735, 'stenosis_coefficient': 0.0}}\n",
      "115 {'boundary_conditions': {'outlet': 'RCR_61'}, 'gid': [17703, 17754], 'side': 'RPA', 'vessel_id': 114, 'vessel_length': 0.3350588537905187, 'vessel_name': 'branch98_seg0', 'zero_d_element_type': 'BloodVessel', 'zero_d_element_values': {'C': 1.635176788342104e-08, 'L': 4.366511406547356, 'R_poiseuille': 48.99814703518894, 'stenosis_coefficient': 0.0}}\n",
      "116 {'boundary_conditions': {'outlet': 'RCR_62'}, 'gid': [17835, 17878], 'side': 'RPA', 'vessel_id': 115, 'vessel_length': 0.38307772437690346, 'vessel_name': 'branch99_seg0', 'zero_d_element_type': 'BloodVessel', 'zero_d_element_values': {'C': 1.5134810525747023e-08, 'L': 6.166715674067664, 'R_poiseuille': 76.63128599257695, 'stenosis_coefficient': 0.004385705235652096}}\n",
      "117 {'boundary_conditions': {'outlet': 'RCR_63'}, 'gid': [17929, 18063], 'side': 'RPA', 'vessel_id': 116, 'vessel_length': 0.7149710349605042, 'vessel_name': 'branch100_seg0', 'zero_d_element_type': 'BloodVessel', 'zero_d_element_values': {'C': 2.9684296653026253e-08, 'L': 10.952348348005136, 'R_poiseuille': 107.50576202006181, 'stenosis_coefficient': 0.009702956333613845}}\n",
      "118 {'boundary_conditions': {'outlet': 'RCR_64'}, 'gid': [18100, 18189], 'side': 'RPA', 'vessel_id': 117, 'vessel_length': 0.7206491896452691, 'vessel_name': 'branch101_seg0', 'zero_d_element_type': 'BloodVessel', 'zero_d_element_values': {'C': 3.8103324534635435e-08, 'L': 8.668462028422315, 'R_poiseuille': 74.23531330582051, 'stenosis_coefficient': 1.090129312157315}}\n",
      "119 {'gid': [18296, 18385], 'side': 'RPA', 'vessel_id': 118, 'vessel_length': 0.6501139143483511, 'vessel_name': 'branch102_seg0', 'zero_d_element_type': 'BloodVessel', 'zero_d_element_values': {'C': 5.143143551081129e-08, 'L': 5.226457126201591, 'R_poiseuille': 17.508041666781317, 'stenosis_coefficient': 0.2996686462700556}}\n",
      "120 {'boundary_conditions': {'outlet': 'RCR_65'}, 'gid': [18516, 18592], 'side': 'RPA', 'vessel_id': 119, 'vessel_length': 0.5974104987041509, 'vessel_name': 'branch103_seg0', 'zero_d_element_type': 'BloodVessel', 'zero_d_element_values': {'C': 2.4602870640601757e-08, 'L': 9.22607612077594, 'R_poiseuille': 183.90326216004632, 'stenosis_coefficient': 0.0}}\n",
      "121 {'boundary_conditions': {'outlet': 'RCR_66'}, 'gid': [18664, 18714], 'side': 'RPA', 'vessel_id': 120, 'vessel_length': 0.46359966617401016, 'vessel_name': 'branch104_seg0', 'zero_d_element_type': 'BloodVessel', 'zero_d_element_values': {'C': 1.8043203691442517e-08, 'L': 7.575820793287486, 'R_poiseuille': 157.20197229722544, 'stenosis_coefficient': 0.0}}\n",
      "122 {'gid': [18828, 19009], 'side': 'RPA', 'vessel_id': 121, 'vessel_length': 1.3668183338589077, 'vessel_name': 'branch105_seg0', 'zero_d_element_type': 'BloodVessel', 'zero_d_element_values': {'C': 2.4917972154960305e-07, 'L': 4.76832678098568, 'R_poiseuille': 0, 'stenosis_coefficient': 0.006178514073322391}}\n",
      "123 {'boundary_conditions': {'outlet': 'RCR_67'}, 'gid': [19105, 19300], 'side': 'RPA', 'vessel_id': 122, 'vessel_length': 1.3947078988683284, 'vessel_name': 'branch106_seg0', 'zero_d_element_type': 'BloodVessel', 'zero_d_element_values': {'C': 8.324761818958024e-08, 'L': 14.861129546265378, 'R_poiseuille': 199.1315614737433, 'stenosis_coefficient': 1.5674180294316868e-06}}\n",
      "124 {'gid': [19362, 19378], 'side': 'RPA', 'vessel_id': 123, 'vessel_length': 0.10891650379044522, 'vessel_name': 'branch107_seg0', 'zero_d_element_type': 'BloodVessel', 'zero_d_element_values': {'C': 1.253611942067793e-08, 'L': 0.601840457824712, 'R_poiseuille': 0, 'stenosis_coefficient': 0.0}}\n",
      "125 {'gid': [19507, 19539], 'side': 'RPA', 'vessel_id': 124, 'vessel_length': 0.16600022335926834, 'vessel_name': 'branch108_seg0', 'zero_d_element_type': 'BloodVessel', 'zero_d_element_values': {'C': 1.1659137415299006e-08, 'L': 1.5031697919428375, 'R_poiseuille': 0, 'stenosis_coefficient': 0.0}}\n",
      "126 {'boundary_conditions': {'outlet': 'RCR_68'}, 'gid': [19619, 19776], 'side': 'RPA', 'vessel_id': 125, 'vessel_length': 0.9363308426985217, 'vessel_name': 'branch109_seg0', 'zero_d_element_type': 'BloodVessel', 'zero_d_element_values': {'C': 3.246162352798098e-08, 'L': 17.176929669092917, 'R_poiseuille': 268.60401433569365, 'stenosis_coefficient': 2.8325634464870286}}\n",
      "127 {'boundary_conditions': {'outlet': 'RCR_69'}, 'gid': [19843, 19967], 'side': 'RPA', 'vessel_id': 126, 'vessel_length': 0.8736376573796334, 'vessel_name': 'branch110_seg0', 'zero_d_element_type': 'BloodVessel', 'zero_d_element_values': {'C': 3.753586936073213e-08, 'L': 12.932227262411274, 'R_poiseuille': 157.4962899045898, 'stenosis_coefficient': 0.5591525033065153}}\n",
      "128 {'boundary_conditions': {'outlet': 'RCR_70'}, 'gid': [20004, 20034], 'side': 'RPA', 'vessel_id': 127, 'vessel_length': 0.3228465447593805, 'vessel_name': 'branch111_seg0', 'zero_d_element_type': 'BloodVessel', 'zero_d_element_values': {'C': 9.583649993831417e-09, 'L': 6.917010847973488, 'R_poiseuille': 130.22976974448548, 'stenosis_coefficient': 0.0044627902811115155}}\n",
      "129 {'gid': [20122, 20167], 'side': 'RPA', 'vessel_id': 128, 'vessel_length': 0.32838270235960154, 'vessel_name': 'branch112_seg0', 'zero_d_element_type': 'BloodVessel', 'zero_d_element_values': {'C': 1.809860016026716e-08, 'L': 3.7894194075564474, 'R_poiseuille': 51.739550378110415, 'stenosis_coefficient': 0.0}}\n",
      "130 {'boundary_conditions': {'outlet': 'RCR_71'}, 'gid': [20227, 20347], 'side': 'RPA', 'vessel_id': 129, 'vessel_length': 0.8572141782863966, 'vessel_name': 'branch113_seg0', 'zero_d_element_type': 'BloodVessel', 'zero_d_element_values': {'C': 4.2606701648754214e-08, 'L': 10.968769036248222, 'R_poiseuille': 195.36776977787287, 'stenosis_coefficient': 0.12217227230147694}}\n",
      "131 {'boundary_conditions': {'outlet': 'RCR_72'}, 'gid': [20405, 20483], 'side': 'RPA', 'vessel_id': 130, 'vessel_length': 0.4805403181715965, 'vessel_name': 'branch114_seg0', 'zero_d_element_type': 'BloodVessel', 'zero_d_element_values': {'C': 2.0705046111233165e-08, 'L': 7.0931734008252825, 'R_poiseuille': 116.49995816967862, 'stenosis_coefficient': 0.00656095103254326}}\n",
      "132 {'boundary_conditions': {'outlet': 'RCR_73'}, 'gid': [20524, 20613], 'side': 'RPA', 'vessel_id': 131, 'vessel_length': 0.47990497957478223, 'vessel_name': 'branch115_seg0', 'zero_d_element_type': 'BloodVessel', 'zero_d_element_values': {'C': 1.532477516696607e-08, 'L': 9.558142842270895, 'R_poiseuille': 284.2045891248775, 'stenosis_coefficient': 0.08771867984370087}}\n",
      "133 {'boundary_conditions': {'outlet': 'RCR_74'}, 'gid': [20674, 20785], 'side': 'RPA', 'vessel_id': 132, 'vessel_length': 0.816160572829874, 'vessel_name': 'branch116_seg0', 'zero_d_element_type': 'BloodVessel', 'zero_d_element_values': {'C': 3.0500546545839225e-08, 'L': 13.889951075191385, 'R_poiseuille': 253.35704609906145, 'stenosis_coefficient': 3.0205375732999187}}\n",
      "134 {'gid': [20895, 20951], 'side': 'RPA', 'vessel_id': 133, 'vessel_length': 1.0200984681855119, 'vessel_name': 'branch117_seg0', 'zero_d_element_type': 'BloodVessel', 'zero_d_element_values': {'C': 2.9251900656951475e-07, 'L': 2.262492856415398, 'R_poiseuille': 0, 'stenosis_coefficient': 0.35151710234308975}}\n",
      "135 {'boundary_conditions': {'outlet': 'RCR_75'}, 'gid': [21031, 21085], 'side': 'RPA', 'vessel_id': 134, 'vessel_length': 1.0620094320140863, 'vessel_name': 'branch118_seg0', 'zero_d_element_type': 'BloodVessel', 'zero_d_element_values': {'C': 1.796003415750931e-07, 'L': 3.993987534399739, 'R_poiseuille': 0, 'stenosis_coefficient': 2.112571228766613e-06}}\n",
      "136 {'boundary_conditions': {'outlet': 'RCR_76'}, 'gid': [21255, 21431], 'side': 'RPA', 'vessel_id': 135, 'vessel_length': 0.7286639869076429, 'vessel_name': 'branch119_seg0', 'zero_d_element_type': 'BloodVessel', 'zero_d_element_values': {'C': 4.523155035934908e-08, 'L': 7.465695166676256, 'R_poiseuille': 174.16137721307734, 'stenosis_coefficient': 0.0}}\n",
      "137 {'boundary_conditions': {'outlet': 'RCR_77'}, 'gid': [21521, 21644], 'side': 'RPA', 'vessel_id': 136, 'vessel_length': 0.8585383266597597, 'vessel_name': 'branch120_seg0', 'zero_d_element_type': 'BloodVessel', 'zero_d_element_values': {'C': 5.373489886706944e-08, 'L': 8.724088348362145, 'R_poiseuille': 108.59823541199917, 'stenosis_coefficient': 0.3968260964336086}}\n",
      "138 {'boundary_conditions': {'outlet': 'RCR_78'}, 'gid': [21781, 21845], 'side': 'RPA', 'vessel_id': 137, 'vessel_length': 1.0411836286200924, 'vessel_name': 'branch121_seg0', 'zero_d_element_type': 'BloodVessel', 'zero_d_element_values': {'C': 1.707851822970018e-07, 'L': 4.03702639993165, 'R_poiseuille': 0, 'stenosis_coefficient': 0.00010533952502691633}}\n",
      "139 {'gid': [21919, 21926], 'side': 'RPA', 'vessel_id': 138, 'vessel_length': 0.2106975872419742, 'vessel_name': 'branch122_seg0', 'zero_d_element_type': 'BloodVessel', 'zero_d_element_values': {'C': 4.3264054116594006e-08, 'L': 0.6526029420028282, 'R_poiseuille': 16.481916532981757, 'stenosis_coefficient': 0.0}}\n",
      "140 {'boundary_conditions': {'outlet': 'RCR_79'}, 'gid': [22004, 22106], 'side': 'RPA', 'vessel_id': 139, 'vessel_length': 0.6619930081574645, 'vessel_name': 'branch123_seg0', 'zero_d_element_type': 'BloodVessel', 'zero_d_element_values': {'C': 6.21338820816109e-08, 'L': 4.485753780620246, 'R_poiseuille': 46.16842523615637, 'stenosis_coefficient': 0.0}}\n",
      "141 {'boundary_conditions': {'outlet': 'RCR_80'}, 'gid': [22188, 22321], 'side': 'RPA', 'vessel_id': 140, 'vessel_length': 0.775825540305903, 'vessel_name': 'branch124_seg0', 'zero_d_element_type': 'BloodVessel', 'zero_d_element_values': {'C': 6.101773997811793e-08, 'L': 6.27377794089924, 'R_poiseuille': 53.1825182181247, 'stenosis_coefficient': 0.00025588045721958185}}\n",
      "142 {'gid': [22431, 22476], 'side': 'RPA', 'vessel_id': 141, 'vessel_length': 0.3026679109394775, 'vessel_name': 'branch125_seg0', 'zero_d_element_type': 'BloodVessel', 'zero_d_element_values': {'C': 2.3951897638711912e-08, 'L': 2.4324837464470126, 'R_poiseuille': 29.508276288789077, 'stenosis_coefficient': 1.2979241479284102e-07}}\n",
      "143 {'gid': [22476, 22556], 'side': 'RPA', 'vessel_id': 142, 'vessel_length': 0.7026102996342115, 'vessel_name': 'branch125_seg1', 'zero_d_element_type': 'BloodVessel', 'zero_d_element_values': {'C': 5.201324297730191e-08, 'L': 6.03631933547642, 'R_poiseuille': 0, 'stenosis_coefficient': 2.194175070811291}}\n",
      "144 {'boundary_conditions': {'outlet': 'RCR_81'}, 'gid': [22556, 22572], 'side': 'RPA', 'vessel_id': 143, 'vessel_length': 0.246650172561455, 'vessel_name': 'branch125_seg2', 'zero_d_element_type': 'BloodVessel', 'zero_d_element_values': {'C': 2.0015347861654158e-08, 'L': 1.9331111263556673, 'R_poiseuille': 0, 'stenosis_coefficient': 0.00013519728389834687}}\n",
      "145 {'gid': [22713, 22778], 'side': 'RPA', 'vessel_id': 144, 'vessel_length': 0.7837954157257245, 'vessel_name': 'branch126_seg0', 'zero_d_element_type': 'BloodVessel', 'zero_d_element_values': {'C': 1.9564063093331734e-07, 'L': 1.9971169562135878, 'R_poiseuille': 0, 'stenosis_coefficient': 3.305953073460458e-07}}\n",
      "146 {'boundary_conditions': {'outlet': 'RCR_82'}, 'gid': [22833, 22923], 'side': 'RPA', 'vessel_id': 145, 'vessel_length': 1.0048270915239848, 'vessel_name': 'branch127_seg0', 'zero_d_element_type': 'BloodVessel', 'zero_d_element_values': {'C': 1.1154458425387365e-07, 'L': 5.756934628702153, 'R_poiseuille': 148.03048629951653, 'stenosis_coefficient': 1.7054949804682775e-08}}\n",
      "147 {'boundary_conditions': {'outlet': 'RCR_83'}, 'gid': [22985, 23080], 'side': 'RPA', 'vessel_id': 146, 'vessel_length': 0.9265394147194363, 'vessel_name': 'branch128_seg0', 'zero_d_element_type': 'BloodVessel', 'zero_d_element_values': {'C': 1.332101189207778e-07, 'L': 4.0987147746255035, 'R_poiseuille': 20.532896931063995, 'stenosis_coefficient': 4.189228181902032e-07}}\n",
      "148 {'gid': [23139, 23149], 'side': 'RPA', 'vessel_id': 147, 'vessel_length': 0.06683218008654526, 'vessel_name': 'branch129_seg0', 'zero_d_element_type': 'BloodVessel', 'zero_d_element_values': {'C': 5.8153192024342605e-09, 'L': 0.48848902851411413, 'R_poiseuille': 0, 'stenosis_coefficient': 0.0}}\n",
      "149 {'boundary_conditions': {'outlet': 'RCR_84'}, 'gid': [23236, 23417], 'side': 'RPA', 'vessel_id': 148, 'vessel_length': 0.973158725094045, 'vessel_name': 'branch130_seg0', 'zero_d_element_type': 'BloodVessel', 'zero_d_element_values': {'C': 4.8756622557855525e-08, 'L': 12.353524003297004, 'R_poiseuille': 524.688373464362, 'stenosis_coefficient': 0.0}}\n",
      "150 {'boundary_conditions': {'outlet': 'RCR_85'}, 'gid': [23487, 23673], 'side': 'RPA', 'vessel_id': 149, 'vessel_length': 0.9809625523926032, 'vessel_name': 'branch131_seg0', 'zero_d_element_type': 'BloodVessel', 'zero_d_element_values': {'C': 5.154411223975712e-08, 'L': 11.873613531692255, 'R_poiseuille': 337.3308541010297, 'stenosis_coefficient': 0.0001610977160271433}}\n",
      "151 {'gid': [23757, 23771], 'side': 'RPA', 'vessel_id': 150, 'vessel_length': 0.1970581101085428, 'vessel_name': 'branch132_seg0', 'zero_d_element_type': 'BloodVessel', 'zero_d_element_values': {'C': 3.522445665365177e-08, 'L': 0.7011346648696648, 'R_poiseuille': 0, 'stenosis_coefficient': 0.0}}\n",
      "152 {'gid': [23862, 23956], 'side': 'RPA', 'vessel_id': 151, 'vessel_length': 0.6856446553118581, 'vessel_name': 'branch133_seg0', 'zero_d_element_type': 'BloodVessel', 'zero_d_element_values': {'C': 6.756474951198995e-08, 'L': 4.425222731306798, 'R_poiseuille': 62.187735339689006, 'stenosis_coefficient': 0.0971029517117262}}\n",
      "153 {'boundary_conditions': {'outlet': 'RCR_86'}, 'gid': [24086, 24198], 'side': 'RPA', 'vessel_id': 152, 'vessel_length': 0.7381620667539877, 'vessel_name': 'branch134_seg0', 'zero_d_element_type': 'BloodVessel', 'zero_d_element_values': {'C': 4.138952864109126e-08, 'L': 8.372787755240715, 'R_poiseuille': 204.5406125998258, 'stenosis_coefficient': 3.6953754577322795e-07}}\n",
      "154 {'boundary_conditions': {'outlet': 'RCR_87'}, 'gid': [24272, 24360], 'side': 'RPA', 'vessel_id': 153, 'vessel_length': 0.687537589435998, 'vessel_name': 'branch135_seg0', 'zero_d_element_type': 'BloodVessel', 'zero_d_element_values': {'C': 3.3420036664917286e-08, 'L': 8.995868283293234, 'R_poiseuille': 240.21364516708184, 'stenosis_coefficient': 0.0022267780379746052}}\n",
      "155 {'gid': [24409, 24446], 'side': 'RPA', 'vessel_id': 154, 'vessel_length': 0.21492549569076222, 'vessel_name': 'branch136_seg0', 'zero_d_element_type': 'BloodVessel', 'zero_d_element_values': {'C': 9.944921134369608e-09, 'L': 2.9541438986724846, 'R_poiseuille': 18.370243922466912, 'stenosis_coefficient': 0.0001590981587863611}}\n",
      "156 {'gid': [24446, 24479], 'side': 'RPA', 'vessel_id': 155, 'vessel_length': 0.24371138773239814, 'vessel_name': 'branch136_seg1', 'zero_d_element_type': 'BloodVessel', 'zero_d_element_values': {'C': 1.1380588768401974e-08, 'L': 3.319281078807606, 'R_poiseuille': 32.56160104915615, 'stenosis_coefficient': 0.41299420005717075}}\n",
      "157 {'boundary_conditions': {'outlet': 'RCR_88'}, 'gid': [24479, 24502], 'side': 'RPA', 'vessel_id': 156, 'vessel_length': 0.23060600925050534, 'vessel_name': 'branch136_seg2', 'zero_d_element_type': 'BloodVessel', 'zero_d_element_values': {'C': 1.1012350918584526e-08, 'L': 3.0712722365645235, 'R_poiseuille': 54.56268290212428, 'stenosis_coefficient': 0.0012380738477370192}}\n",
      "158 {'boundary_conditions': {'outlet': 'RCR_89'}, 'gid': [24568, 24761], 'side': 'RPA', 'vessel_id': 157, 'vessel_length': 2.0077973198874384, 'vessel_name': 'branch137_seg0', 'zero_d_element_type': 'BloodVessel', 'zero_d_element_values': {'C': 2.661670968645538e-07, 'L': 9.632576977581504, 'R_poiseuille': 115.90690671499434, 'stenosis_coefficient': 9.19911983397112e-06}}\n"
     ]
    }
   ],
   "source": [
    "for idx, vess in enumerate(lpn.lpn_data[lpn.VESS]):\n",
    "    print(idx + 1, vess)"
   ]
  },
  {
   "cell_type": "code",
   "execution_count": null,
   "metadata": {},
   "outputs": [],
   "source": []
  },
  {
   "cell_type": "code",
   "execution_count": 108,
   "metadata": {},
   "outputs": [],
   "source": [
    "tree = lpn.get_tree()\n",
    "\n",
    "vid = []\n",
    "for node in lpn.tree_bfs_iterator(tree, allow = 'branch'):\n",
    "    for id in node.ids:\n",
    "        vid.append(id)\n",
    "\n",
    "    "
   ]
  },
  {
   "cell_type": "code",
   "execution_count": 109,
   "metadata": {},
   "outputs": [
    {
     "data": {
      "application/vnd.jupyter.widget-view+json": {
       "model_id": "097eea3fcfcb4a9a9cf3fe21577380d7",
       "version_major": 2,
       "version_minor": 0
      },
      "text/plain": [
       "interactive(children=(Dropdown(description='vid', options=(0, 1, 81, 2, 4, 11, 12, 18, 19, 20, 21, 24, 25, 26,…"
      ]
     },
     "metadata": {},
     "output_type": "display_data"
    },
    {
     "data": {
      "text/plain": [
       "<function __main__.print_dp(lpn: svinterface.core.zerod.lpn.LPN, vid)>"
      ]
     },
     "execution_count": 109,
     "metadata": {},
     "output_type": "execute_result"
    }
   ],
   "source": [
    "interact(print_dp,lpn = fixed(lpn) ,vid = vid )"
   ]
  },
  {
   "cell_type": "code",
   "execution_count": 110,
   "metadata": {},
   "outputs": [],
   "source": [
    "def print_dp_junc(lpn: LPN, jid):\n",
    "    j = lpn.get_junction(jid)\n",
    "    gids = j['gid']\n",
    "    print(gids)\n",
    "    pts = [[diap[gids[0]] - diap[gids[1][i]], avgp[gids[0]] - avgp[gids[1][i]], sysp[gids[0]] - sysp[gids[1][i]]] for i in range(len(gids[1]))]\n",
    "    xp = [[diaf[gids[0]], avgf[gids[0]], sysf[gids[0]]] for i in range(len(gids[1]))]\n",
    "    print(pts, sep = '\\n')\n",
    "    print()\n",
    "    for x, y in list(zip(xp, pts)):\n",
    "        plt.plot(x, y)"
   ]
  },
  {
   "cell_type": "code",
   "execution_count": 111,
   "metadata": {},
   "outputs": [],
   "source": [
    "tree = lpn.get_tree()\n",
    "\n",
    "jid = []\n",
    "for node in lpn.tree_bfs_iterator(tree, allow = 'junction'):\n",
    "    for id in node.ids:\n",
    "        jid.append(id)\n",
    "\n",
    "    "
   ]
  },
  {
   "cell_type": "code",
   "execution_count": 112,
   "metadata": {},
   "outputs": [
    {
     "data": {
      "application/vnd.jupyter.widget-view+json": {
       "model_id": "083f90505bbb4021bcb182c441a3ec91",
       "version_major": 2,
       "version_minor": 0
      },
      "text/plain": [
       "interactive(children=(Dropdown(description='jid', options=('J0', 'J1', 'J22', 'J2', 'J3', 'J5', 'J6', 'J7', 'J…"
      ]
     },
     "metadata": {},
     "output_type": "display_data"
    },
    {
     "data": {
      "text/plain": [
       "<function __main__.print_dp_junc(lpn: svinterface.core.zerod.lpn.LPN, jid)>"
      ]
     },
     "execution_count": 112,
     "metadata": {},
     "output_type": "execute_result"
    }
   ],
   "source": [
    "interact(print_dp_junc,lpn= fixed(lpn),jid= jid)"
   ]
  },
  {
   "cell_type": "code",
   "execution_count": 113,
   "metadata": {},
   "outputs": [],
   "source": [
    "import numpy as np"
   ]
  },
  {
   "cell_type": "code",
   "execution_count": 116,
   "metadata": {},
   "outputs": [],
   "source": [
    "from svinterface.core.polydata import Centerlines\n",
    "from svinterface.core.zerod.lpn import LPN"
   ]
  },
  {
   "cell_type": "code",
   "execution_count": 117,
   "metadata": {},
   "outputs": [],
   "source": [
    "c = Centerlines.load_centerlines(\"../data/diseased/AS1_SU0308_stent/results/AS1_SU0308_nonlinear/3D_DIR/prestent/AS1_SU0308_3D_centerlines.formatted.vtp\")"
   ]
  },
  {
   "cell_type": "code",
   "execution_count": 208,
   "metadata": {},
   "outputs": [],
   "source": [
    "sysp = c.get_pointdata_array(array_name='sys_pressure_0.22500')[0]\n",
    "sysp2 = c.get_pointdata_array(array_name='sys_pressure_0.22500')[1]\n",
    "diap = c.get_pointdata_array(array_name='dia_pressure_0.85500')[0]\n",
    "diap2 = c.get_pointdata_array(array_name='dia_pressure_0.85500')[1]\n",
    "avgp = c.get_pointdata_array(array_name='avg_pressure')[0]\n",
    "avgp2 = c.get_pointdata_array(array_name='avg_pressure')[1]"
   ]
  },
  {
   "cell_type": "code",
   "execution_count": 191,
   "metadata": {},
   "outputs": [],
   "source": [
    "lpn = LPN.from_file(\"../data/diseased/AS1_SU0308_stent/results/AS1_SU0308_nonlinear/LPN_DIR/AS1_SU0308.sim.2/AS1_SU0308.in\")"
   ]
  },
  {
   "cell_type": "code",
   "execution_count": 192,
   "metadata": {},
   "outputs": [
    {
     "data": {
      "text/plain": [
       "{'boundary_conditions': {'inlet': 'INFLOW'},\n",
       " 'gid': [0, 1],\n",
       " 'side': 'MPA',\n",
       " 'vessel_id': 0,\n",
       " 'vessel_length': 0.3032801643946173,\n",
       " 'vessel_name': 'branch0_seg0',\n",
       " 'zero_d_element_type': 'BloodVessel',\n",
       " 'zero_d_element_values': {'C': 4.869774388365284e-07,\n",
       "  'L': 0.12012579864284216,\n",
       "  'R_poiseuille': 0.042571278171065534,\n",
       "  'stenosis_coefficient': 0.0}}"
      ]
     },
     "execution_count": 192,
     "metadata": {},
     "output_type": "execute_result"
    }
   ],
   "source": [
    "lpn.get_vessel(0)"
   ]
  },
  {
   "cell_type": "code",
   "execution_count": 212,
   "metadata": {},
   "outputs": [],
   "source": [
    "x = np.array([lpn.inflow.min_inflow, lpn.inflow.mean_inflow, lpn.inflow.max_inflow])"
   ]
  },
  {
   "cell_type": "code",
   "execution_count": null,
   "metadata": {},
   "outputs": [],
   "source": []
  },
  {
   "cell_type": "code",
   "execution_count": 213,
   "metadata": {},
   "outputs": [],
   "source": [
    "X = np.array([ x, x**2]).T"
   ]
  },
  {
   "cell_type": "code",
   "execution_count": 214,
   "metadata": {},
   "outputs": [],
   "source": [
    "y = np.array([diap - diap2, avgp-avgp2, sysp-sysp2])"
   ]
  },
  {
   "cell_type": "code",
   "execution_count": 215,
   "metadata": {},
   "outputs": [],
   "source": [
    "X_inv = np.linalg.pinv(X) "
   ]
  },
  {
   "cell_type": "code",
   "execution_count": 216,
   "metadata": {},
   "outputs": [],
   "source": [
    "t = X_inv @ y"
   ]
  },
  {
   "cell_type": "code",
   "execution_count": 217,
   "metadata": {},
   "outputs": [
    {
     "data": {
      "text/plain": [
       "array([9.59093778e-04, 2.47251074e-06])"
      ]
     },
     "execution_count": 217,
     "metadata": {},
     "output_type": "execute_result"
    }
   ],
   "source": [
    "t"
   ]
  },
  {
   "cell_type": "code",
   "execution_count": 218,
   "metadata": {},
   "outputs": [],
   "source": [
    "import matplotlib.pyplot as plt"
   ]
  },
  {
   "cell_type": "code",
   "execution_count": 219,
   "metadata": {},
   "outputs": [
    {
     "data": {
      "text/plain": [
       "266.2176635270139"
      ]
     },
     "execution_count": 219,
     "metadata": {},
     "output_type": "execute_result"
    }
   ],
   "source": [
    "x[-1]"
   ]
  },
  {
   "cell_type": "code",
   "execution_count": 220,
   "metadata": {},
   "outputs": [
    {
     "data": {
      "text/plain": [
       "[<matplotlib.lines.Line2D at 0x7f8b36a100d0>]"
      ]
     },
     "execution_count": 220,
     "metadata": {},
     "output_type": "execute_result"
    },
    {
     "data": {
      "image/png": "[encoded data removed]",
      "text/plain": [
       "<Figure size 640x480 with 1 Axes>"
      ]
     },
     "metadata": {},
     "output_type": "display_data"
    }
   ],
   "source": [
    "plt.plot(x, y)\n",
    "f = lambda x:  t[0] * x + t[1] * x**2\n",
    "x2 = np.arange(0, x[-1], 1)\n",
    "plt.plot(x2, f(x2))"
   ]
  },
  {
   "cell_type": "code",
   "execution_count": 157,
   "metadata": {},
   "outputs": [],
   "source": [
    "from svinterface.core.zerod.solver import Solver0Dcpp\n",
    "from scipy import optimize"
   ]
  },
  {
   "cell_type": "code",
   "execution_count": 158,
   "metadata": {},
   "outputs": [],
   "source": [
    "s = Solver0Dcpp(lpn, last_cycle_only=True, mean_only=False)"
   ]
  },
  {
   "cell_type": "code",
   "execution_count": 209,
   "metadata": {},
   "outputs": [
    {
     "name": "stdout",
     "output_type": "stream",
     "text": [
      "20.262215795499642\n",
      "20.26190721783958\n",
      "20.25268925349525\n",
      "20.252380831034372\n",
      "20.24746519541456\n",
      "20.238248041112488\n",
      "20.22641128804755\n",
      "20.221185497828863\n",
      "20.20544304254343\n",
      "20.184423930219882\n",
      "20.152974708700242\n",
      "20.132086069400447\n",
      "20.08509706162307\n",
      "20.03295896312718\n",
      "19.947308240514527\n",
      "19.88017886713494\n",
      "19.745308084065904\n",
      "19.61012553418739\n",
      "19.377529035657123\n",
      "19.182126033672304\n",
      "18.812990886167693\n",
      "18.46755395263156\n",
      "17.87328721982626\n",
      "17.37747553497019\n",
      "16.52494905415217\n",
      "15.835587859851127\n",
      "14.904804503053523\n",
      "14.476412620684993\n",
      "14.811055158321695\n",
      "14.736317817979298\n",
      "15.445963164463816\n",
      "14.492463679630799\n",
      "15.524018296127704\n",
      "14.44464066080763\n",
      "14.455673764849553\n",
      "14.754286685721125\n",
      "14.421414527459937\n",
      "14.42445852105329\n",
      "14.484185853881906\n",
      "14.423217632061835\n",
      "14.427733009504792\n",
      "14.421047575548675\n",
      "14.433155854366367\n",
      "14.420479009725685\n",
      "14.420608341161218\n",
      "14.423507088810984\n",
      "14.42035634974188\n",
      "14.420490705051142\n",
      "14.420359945556529\n",
      "14.42082834021603\n",
      "14.420344133020974\n",
      "14.420313713628207\n",
      "14.420317663341107\n",
      "14.420448136283406\n",
      "14.420323743502323\n",
      "14.420311240382501\n",
      "14.420330527334416\n",
      "14.420289300185642\n",
      "14.42027425687356\n",
      "14.420280891155988\n",
      "14.420236353973847\n",
      "14.420207624174449\n",
      "14.420262950463929\n",
      "14.420206191200823\n",
      "14.420207012480102\n",
      "14.420142354525217\n",
      "14.42009622891833\n",
      "14.420078625668776\n",
      "14.420030310787194\n",
      "14.419906097385049\n",
      "14.419786532822505\n",
      "14.419683866118062\n",
      "14.419505719846319\n",
      "14.41924449199209\n",
      "14.418922359049308\n",
      "14.418550918904588\n",
      "14.41863648457213\n",
      "14.418478362579963\n",
      "14.41852225305087\n",
      "14.418519503554482\n",
      "14.41844512417787\n",
      "14.418462962790107\n",
      "14.418707914775915\n",
      "14.41844897081353\n",
      "14.418490597558097\n",
      "14.41845026750414\n",
      "14.418456385006428\n",
      "14.41844400841493\n",
      "14.418469644724135\n",
      "14.418443050886953\n",
      "14.418443703207526\n",
      "14.41845005182572\n",
      "14.418442747165253\n",
      "14.41844306501279\n",
      "14.418442754222243\n"
     ]
    }
   ],
   "source": [
    "def min_func(x, lpn: LPN):\n",
    "    \n",
    "    lpn.change_vessel(0, R=x[0], S = x[1])\n",
    "    s = Solver0Dcpp(lpn, last_cycle_only=True, mean_only=False)\n",
    "    rez = s.run_sim()\n",
    "    rez.convert_to_mmHg()\n",
    "    avgP = rez.get_avg_val(\"branch0_seg0\", val = 'pressure_in')\n",
    "    sysP = rez.get_max_val(\"branch0_seg0\", val = 'pressure_in')\n",
    "    diaP = rez.get_min_val(\"branch0_seg0\", val = 'pressure_in')\n",
    "    \n",
    "    avgP2 = rez.get_avg_val(\"branch0_seg0\", val = 'pressure_out')\n",
    "    sysP2 = rez.get_max_val(\"branch0_seg0\", val = 'pressure_out')\n",
    "    diaP2 = rez.get_min_val(\"branch0_seg0\", val = 'pressure_out')\n",
    "    loss = ((avgp - avgP) **2 + (sysp - sysP) ** 2 + (diap - diaP)**2 + (avgp2 - avgP2) **2 + (sysp2 - sysP2) ** 2 + (diap2 - diaP2)**2) ** (1/2)\n",
    "    print(loss)\n",
    "    return loss\n",
    "\n",
    "\n",
    "x = optimize.minimize(min_func, [0.042571278171065534, 0], (lpn), method=\"Nelder-Mead\", bounds=optimize.Bounds([0,0], [ np.inf, np.inf], keep_feasible=True))\n",
    "    "
   ]
  },
  {
   "cell_type": "code",
   "execution_count": 210,
   "metadata": {},
   "outputs": [
    {
     "name": "stdout",
     "output_type": "stream",
     "text": [
      " final_simplex: (array([[0.        , 0.26093129],\n",
      "       [0.        , 0.26092942],\n",
      "       [0.        , 0.26100527]]), array([14.41844275, 14.41844275, 14.41844305]))\n",
      "           fun: 14.418442747165253\n",
      "       message: 'Optimization terminated successfully.'\n",
      "          nfev: 95\n",
      "           nit: 51\n",
      "        status: 0\n",
      "       success: True\n",
      "             x: array([0.        , 0.26093129])\n"
     ]
    }
   ],
   "source": [
    "print(x)"
   ]
  },
  {
   "cell_type": "code",
   "execution_count": null,
   "metadata": {},
   "outputs": [],
   "source": []
  }
 ],
 "metadata": {
  "kernelspec": {
   "display_name": "stenosis-tool",
   "language": "python",
   "name": "python3"
  },
  "language_info": {
   "codemirror_mode": {
    "name": "ipython",
    "version": 3
   },
   "file_extension": ".py",
   "mimetype": "text/x-python",
   "name": "python",
   "nbconvert_exporter": "python",
   "pygments_lexer": "ipython3",
   "version": "3.9.13"
  },
  "orig_nbformat": 4
 },
 "nbformat": 4,
 "nbformat_minor": 2
}
