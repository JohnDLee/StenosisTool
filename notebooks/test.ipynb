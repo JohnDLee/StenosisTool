{
 "cells": [
  {
   "cell_type": "code",
   "execution_count": 19,
   "metadata": {},
   "outputs": [],
   "source": [
    "from src.solver import Solver0D"
   ]
  },
  {
   "cell_type": "code",
   "execution_count": 20,
   "metadata": {},
   "outputs": [],
   "source": [
    "x = Solver0D()\n",
    "x.read_solver_file('../data/healthy/0080_0001/base_solver_files/0080_0001_model.in')"
   ]
  },
  {
   "cell_type": "code",
   "execution_count": 21,
   "metadata": {},
   "outputs": [],
   "source": [
    "tree = x.get_vessel_tree()"
   ]
  },
  {
   "cell_type": "code",
   "execution_count": 22,
   "metadata": {},
   "outputs": [
    {
     "data": {
      "text/plain": [
       "'rpa'"
      ]
     },
     "execution_count": 22,
     "metadata": {},
     "output_type": "execute_result"
    }
   ],
   "source": [
    "tree.children[0].side"
   ]
  },
  {
   "cell_type": "code",
   "execution_count": 24,
   "metadata": {},
   "outputs": [],
   "source": [
    "def compute_total_resistance(cur_node: Solver0D.Node):\n",
    "    ''' computes total resistance/stenosis coefficients of a tree recursively\n",
    "    '''\n",
    "    \n",
    "    if not cur_node.children:\n",
    "        r_p = cur_node.vessel_info[0]['zero_d_element_values']['R_poiseuille']\n",
    "        sc = cur_node.vessel_info[0]['zero_d_element_values']['stenosis_coefficient']\n",
    "        return r_p, sc\n",
    "    \n",
    "    total_inv_res = 0\n",
    "    total_inv_sc = 0\n",
    "    for child_node in cur_node.children:\n",
    "        r_p_child, sc_child = compute_total_resistance(child_node)\n",
    "        if r_p_child != 0:\n",
    "            total_inv_res += 1/r_p_child\n",
    "        if sc_child != 0:\n",
    "            total_inv_sc += 1/sc_child\n",
    "    total_child_res = 1/total_inv_res\n",
    "    total_child_sc = 1/ total_inv_sc\n",
    "    \n",
    "    r_p = cur_node.vessel_info[0]['zero_d_element_values']['R_poiseuille'] + total_child_res\n",
    "    sc = cur_node.vessel_info[0]['zero_d_element_values']['stenosis_coefficient'] + total_child_sc\n",
    "    return r_p, sc\n",
    "\n",
    "\n",
    "    \n",
    "        \n",
    "\n",
    "def compute_lpa_rpa_resistances(dummy_solver: Solver0D ):\n",
    "    ''' computes LPA and RPA resistances from each branch\n",
    "    '''\n",
    "        \n",
    "    # get tree\n",
    "    vessel_tree = dummy_solver.get_vessel_tree()\n",
    "    assert len(vessel_tree.children) == 2, 'Pulmonary vasculature should only branch into 2 sections, LPA and RPA'\n",
    "    \n",
    "    first_branch = vessel_tree.children[0]\n",
    "    second_branch = vessel_tree.children[1]\n",
    "    \n",
    "    # follow the first branch till it finishes to determine which is LPA and which is RPA\n",
    "    if first_branch.side == 'lpa':\n",
    "        lpa = first_branch\n",
    "        rpa = second_branch\n",
    "    else:\n",
    "        print(True)\n",
    "        lpa = second_branch\n",
    "        rpa = first_branch\n",
    "    \n",
    "    lpa_res, lpa_sc = compute_total_resistance(lpa)\n",
    "    rpa_res, rpa_sc = compute_total_resistance(rpa)\n",
    "    \n",
    "    \n",
    "    return lpa_res, lpa_sc, rpa_res, rpa_sc    "
   ]
  },
  {
   "cell_type": "code",
   "execution_count": 25,
   "metadata": {},
   "outputs": [
    {
     "name": "stdout",
     "output_type": "stream",
     "text": [
      "True\n"
     ]
    },
    {
     "data": {
      "text/plain": [
       "(4.301938160248982,\n",
       " 0.006720849186968765,\n",
       " 5.578715289718572,\n",
       " 0.004715818848199389)"
      ]
     },
     "execution_count": 25,
     "metadata": {},
     "output_type": "execute_result"
    }
   ],
   "source": [
    "compute_lpa_rpa_resistances(x)"
   ]
  },
  {
   "cell_type": "code",
   "execution_count": 27,
   "metadata": {},
   "outputs": [],
   "source": [
    "rpa = tree.children[0]\n",
    "max_gen = 0\n",
    "max_node = None\n",
    "for node in x.tree_bfs_iterator(rpa):\n",
    "    if node.generation > max_gen:\n",
    "        max_gen = node.generation\n",
    "        max_node = node"
   ]
  },
  {
   "cell_type": "code",
   "execution_count": 29,
   "metadata": {},
   "outputs": [
    {
     "data": {
      "text/plain": [
       "{'vess_id': [139],\n",
       " 'vessel_info': [{'vessel_id': 139,\n",
       "   'vessel_length': 0.1133163787610899,\n",
       "   'vessel_name': 'branch97_seg0',\n",
       "   'zero_d_element_type': 'BloodVessel',\n",
       "   'zero_d_element_values': {'C': 1.184502234869842e-08,\n",
       "    'L': 1.4363668337394515,\n",
       "    'R_poiseuille': 16.290190768477277,\n",
       "    'stenosis_coefficient': 0.009707247347680057}}],\n",
       " 'parent': 138,\n",
       " 'children': [<src.solver.Solver0D.VesselNode at 0x7fc612dde550>],\n",
       " 'generation': 10,\n",
       " 'side': 'rpa'}"
      ]
     },
     "execution_count": 29,
     "metadata": {},
     "output_type": "execute_result"
    }
   ],
   "source": [
    "max_node.__dict__"
   ]
  },
  {
   "cell_type": "code",
   "execution_count": 30,
   "metadata": {},
   "outputs": [],
   "source": [
    "import os"
   ]
  },
  {
   "cell_type": "code",
   "execution_count": 35,
   "metadata": {},
   "outputs": [
    {
     "name": "stdout",
     "output_type": "stream",
     "text": [
      "('../data/healthy/0080_0001/base_solver_files/', ['artificial_stenosis', 'tuning_dir'], ['0080_0001_model.in', '0080_0001_model_branch_results.csv', 'inlet_face_names.dat', '0080_0001_model_branch_results.npy', 'CapInfo', 'outlet_mapping.dat', 'inflow.png', 'inflow.flow', 'model_centerlines.vtp', '0080_0001_model_inlet_pressures.png', 'inlet_mapping.dat', 'rcrt.dat', 'outlet_face_names.dat'])\n",
      "('../data/healthy/0080_0001/base_solver_files/artificial_stenosis', ['proximal', '0'], [])\n",
      "('../data/healthy/0080_0001/base_solver_files/artificial_stenosis/proximal', [], ['stenosis_vessels.dat', '0080_0001_model_proximal_sten.in', '0080_0001_model_proximal_sten_branch_results.csv', '0080_0001_model_proximal_sten_branch_results.npy', '0080_0001_model_proximal_sten_inlet_pressures.png'])\n",
      "('../data/healthy/0080_0001/base_solver_files/artificial_stenosis/0', [], ['0080_0001_model_art_sten_inlet_pressures.png', 'stenosis_vessels.dat', '0080_0001_model_art_sten.in', '0080_0001_model_art_sten_branch_results.npy', '0080_0001_model_art_sten_branch_results.csv'])\n",
      "('../data/healthy/0080_0001/base_solver_files/tuning_dir', [], ['optimize_results.npy', 'tune_solver_inlet_pressures.png', 'tune_solver.in', 'values.json', 'waveforms.png'])\n"
     ]
    }
   ],
   "source": [
    "for x in os.walk(top = '../data/healthy/0080_0001/base_solver_files/'):\n",
    "    print(x)"
   ]
  },
  {
   "cell_type": "code",
   "execution_count": 45,
   "metadata": {},
   "outputs": [],
   "source": [
    "import numpy as np"
   ]
  },
  {
   "cell_type": "code",
   "execution_count": 48,
   "metadata": {},
   "outputs": [],
   "source": [
    "x = np.loadtxt('../data/healthy/0082_0001/base_solver_files/inflow.flow')"
   ]
  },
  {
   "cell_type": "code",
   "execution_count": 49,
   "metadata": {},
   "outputs": [
    {
     "data": {
      "text/plain": [
       "6.897197289978845"
      ]
     },
     "execution_count": 49,
     "metadata": {},
     "output_type": "execute_result"
    }
   ],
   "source": [
    "np.trapz(x[:,1], x[:,0])/ (x[-1, 0] - x[0, 0]) * 60/1000"
   ]
  },
  {
   "cell_type": "code",
   "execution_count": 41,
   "metadata": {},
   "outputs": [],
   "source": [
    "x = np.array([1, 2, 3, 4,])\n"
   ]
  },
  {
   "cell_type": "code",
   "execution_count": 44,
   "metadata": {},
   "outputs": [
    {
     "data": {
      "text/plain": [
       "4"
      ]
     },
     "execution_count": 44,
     "metadata": {},
     "output_type": "execute_result"
    }
   ],
   "source": [
    "x[np.where(x == 4)][0]"
   ]
  },
  {
   "cell_type": "code",
   "execution_count": null,
   "metadata": {},
   "outputs": [],
   "source": []
  }
 ],
 "metadata": {
  "kernelspec": {
   "display_name": "Python 3.9.0 ('stanford')",
   "language": "python",
   "name": "python3"
  },
  "language_info": {
   "codemirror_mode": {
    "name": "ipython",
    "version": 3
   },
   "file_extension": ".py",
   "mimetype": "text/x-python",
   "name": "python",
   "nbconvert_exporter": "python",
   "pygments_lexer": "ipython3",
   "version": "3.9.0"
  },
  "orig_nbformat": 4,
  "vscode": {
   "interpreter": {
    "hash": "50600acf3508882ffeec4c3211bbca7945187a00ec2d0a2f050456f7fcd8918c"
   }
  }
 },
 "nbformat": 4,
 "nbformat_minor": 2
}
