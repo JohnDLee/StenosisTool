{
 "cells": [
  {
   "cell_type": "code",
   "execution_count": 19,
   "metadata": {},
   "outputs": [],
   "source": [
    "from src.solver import Solver0D"
   ]
  },
  {
   "cell_type": "code",
   "execution_count": 20,
   "metadata": {},
   "outputs": [],
   "source": [
    "x = Solver0D()\n",
    "x.read_solver_file('../data/healthy/0080_0001/base_solver_files/0080_0001_model.in')"
   ]
  },
  {
   "cell_type": "code",
   "execution_count": 21,
   "metadata": {},
   "outputs": [],
   "source": [
    "tree = x.get_vessel_tree()"
   ]
  },
  {
   "cell_type": "code",
   "execution_count": 22,
   "metadata": {},
   "outputs": [
    {
     "data": {
      "text/plain": [
       "'rpa'"
      ]
     },
     "execution_count": 22,
     "metadata": {},
     "output_type": "execute_result"
    }
   ],
   "source": [
    "tree.children[0].side"
   ]
  },
  {
   "cell_type": "code",
   "execution_count": 24,
   "metadata": {},
   "outputs": [],
   "source": [
    "def compute_total_resistance(cur_node: Solver0D.Node):\n",
    "    ''' computes total resistance/stenosis coefficients of a tree recursively\n",
    "    '''\n",
    "    \n",
    "    if not cur_node.children:\n",
    "        r_p = cur_node.vessel_info[0]['zero_d_element_values']['R_poiseuille']\n",
    "        sc = cur_node.vessel_info[0]['zero_d_element_values']['stenosis_coefficient']\n",
    "        return r_p, sc\n",
    "    \n",
    "    total_inv_res = 0\n",
    "    total_inv_sc = 0\n",
    "    for child_node in cur_node.children:\n",
    "        r_p_child, sc_child = compute_total_resistance(child_node)\n",
    "        if r_p_child != 0:\n",
    "            total_inv_res += 1/r_p_child\n",
    "        if sc_child != 0:\n",
    "            total_inv_sc += 1/sc_child\n",
    "    total_child_res = 1/total_inv_res\n",
    "    total_child_sc = 1/ total_inv_sc\n",
    "    \n",
    "    r_p = cur_node.vessel_info[0]['zero_d_element_values']['R_poiseuille'] + total_child_res\n",
    "    sc = cur_node.vessel_info[0]['zero_d_element_values']['stenosis_coefficient'] + total_child_sc\n",
    "    return r_p, sc\n",
    "\n",
    "\n",
    "    \n",
    "        \n",
    "\n",
    "def compute_lpa_rpa_resistances(dummy_solver: Solver0D ):\n",
    "    ''' computes LPA and RPA resistances from each branch\n",
    "    '''\n",
    "        \n",
    "    # get tree\n",
    "    vessel_tree = dummy_solver.get_vessel_tree()\n",
    "    assert len(vessel_tree.children) == 2, 'Pulmonary vasculature should only branch into 2 sections, LPA and RPA'\n",
    "    \n",
    "    first_branch = vessel_tree.children[0]\n",
    "    second_branch = vessel_tree.children[1]\n",
    "    \n",
    "    # follow the first branch till it finishes to determine which is LPA and which is RPA\n",
    "    if first_branch.side == 'lpa':\n",
    "        lpa = first_branch\n",
    "        rpa = second_branch\n",
    "    else:\n",
    "        print(True)\n",
    "        lpa = second_branch\n",
    "        rpa = first_branch\n",
    "    \n",
    "    lpa_res, lpa_sc = compute_total_resistance(lpa)\n",
    "    rpa_res, rpa_sc = compute_total_resistance(rpa)\n",
    "    \n",
    "    \n",
    "    return lpa_res, lpa_sc, rpa_res, rpa_sc    "
   ]
  },
  {
   "cell_type": "code",
   "execution_count": 25,
   "metadata": {},
   "outputs": [
    {
     "name": "stdout",
     "output_type": "stream",
     "text": [
      "True\n"
     ]
    },
    {
     "data": {
      "text/plain": [
       "(4.301938160248982,\n",
       " 0.006720849186968765,\n",
       " 5.578715289718572,\n",
       " 0.004715818848199389)"
      ]
     },
     "execution_count": 25,
     "metadata": {},
     "output_type": "execute_result"
    }
   ],
   "source": [
    "compute_lpa_rpa_resistances(x)"
   ]
  },
  {
   "cell_type": "code",
   "execution_count": 27,
   "metadata": {},
   "outputs": [],
   "source": [
    "rpa = tree.children[0]\n",
    "max_gen = 0\n",
    "max_node = None\n",
    "for node in x.tree_bfs_iterator(rpa):\n",
    "    if node.generation > max_gen:\n",
    "        max_gen = node.generation\n",
    "        max_node = node"
   ]
  },
  {
   "cell_type": "code",
   "execution_count": 29,
   "metadata": {},
   "outputs": [
    {
     "data": {
      "text/plain": [
       "{'vess_id': [139],\n",
       " 'vessel_info': [{'vessel_id': 139,\n",
       "   'vessel_length': 0.1133163787610899,\n",
       "   'vessel_name': 'branch97_seg0',\n",
       "   'zero_d_element_type': 'BloodVessel',\n",
       "   'zero_d_element_values': {'C': 1.184502234869842e-08,\n",
       "    'L': 1.4363668337394515,\n",
       "    'R_poiseuille': 16.290190768477277,\n",
       "    'stenosis_coefficient': 0.009707247347680057}}],\n",
       " 'parent': 138,\n",
       " 'children': [<src.solver.Solver0D.VesselNode at 0x7fc612dde550>],\n",
       " 'generation': 10,\n",
       " 'side': 'rpa'}"
      ]
     },
     "execution_count": 29,
     "metadata": {},
     "output_type": "execute_result"
    }
   ],
   "source": [
    "max_node.__dict__"
   ]
  },
  {
   "cell_type": "code",
   "execution_count": 30,
   "metadata": {},
   "outputs": [],
   "source": [
    "import os"
   ]
  },
  {
   "cell_type": "code",
   "execution_count": 35,
   "metadata": {},
   "outputs": [
    {
     "name": "stdout",
     "output_type": "stream",
     "text": [
      "('../data/healthy/0080_0001/base_solver_files/', ['artificial_stenosis', 'tuning_dir'], ['0080_0001_model.in', '0080_0001_model_branch_results.csv', 'inlet_face_names.dat', '0080_0001_model_branch_results.npy', 'CapInfo', 'outlet_mapping.dat', 'inflow.png', 'inflow.flow', 'model_centerlines.vtp', '0080_0001_model_inlet_pressures.png', 'inlet_mapping.dat', 'rcrt.dat', 'outlet_face_names.dat'])\n",
      "('../data/healthy/0080_0001/base_solver_files/artificial_stenosis', ['proximal', '0'], [])\n",
      "('../data/healthy/0080_0001/base_solver_files/artificial_stenosis/proximal', [], ['stenosis_vessels.dat', '0080_0001_model_proximal_sten.in', '0080_0001_model_proximal_sten_branch_results.csv', '0080_0001_model_proximal_sten_branch_results.npy', '0080_0001_model_proximal_sten_inlet_pressures.png'])\n",
      "('../data/healthy/0080_0001/base_solver_files/artificial_stenosis/0', [], ['0080_0001_model_art_sten_inlet_pressures.png', 'stenosis_vessels.dat', '0080_0001_model_art_sten.in', '0080_0001_model_art_sten_branch_results.npy', '0080_0001_model_art_sten_branch_results.csv'])\n",
      "('../data/healthy/0080_0001/base_solver_files/tuning_dir', [], ['optimize_results.npy', 'tune_solver_inlet_pressures.png', 'tune_solver.in', 'values.json', 'waveforms.png'])\n"
     ]
    }
   ],
   "source": [
    "for x in os.walk(top = '../data/healthy/0080_0001/base_solver_files/'):\n",
    "    print(x)"
   ]
  },
  {
   "cell_type": "code",
   "execution_count": 45,
   "metadata": {},
   "outputs": [],
   "source": [
    "import numpy as np"
   ]
  },
  {
   "cell_type": "code",
   "execution_count": 48,
   "metadata": {},
   "outputs": [],
   "source": [
    "x = np.loadtxt('../data/healthy/0082_0001/base_solver_files/inflow.flow')"
   ]
  },
  {
   "cell_type": "code",
   "execution_count": 49,
   "metadata": {},
   "outputs": [
    {
     "data": {
      "text/plain": [
       "6.897197289978845"
      ]
     },
     "execution_count": 49,
     "metadata": {},
     "output_type": "execute_result"
    }
   ],
   "source": [
    "np.trapz(x[:,1], x[:,0])/ (x[-1, 0] - x[0, 0]) * 60/1000"
   ]
  },
  {
   "cell_type": "code",
   "execution_count": 41,
   "metadata": {},
   "outputs": [],
   "source": [
    "x = np.array([1, 2, 3, 4,])\n"
   ]
  },
  {
   "cell_type": "code",
   "execution_count": 44,
   "metadata": {},
   "outputs": [
    {
     "data": {
      "text/plain": [
       "4"
      ]
     },
     "execution_count": 44,
     "metadata": {},
     "output_type": "execute_result"
    }
   ],
   "source": [
    "x[np.where(x == 4)][0]"
   ]
  },
  {
   "cell_type": "code",
   "execution_count": null,
   "metadata": {},
   "outputs": [],
   "source": []
  },
  {
   "cell_type": "code",
   "execution_count": 52,
   "metadata": {},
   "outputs": [],
   "source": [
    "\n",
    "from common import rec_dict, get_dict\n",
    "m=np.load('0d_3d_comparison.npy',allow_pickle=True).item()"
   ]
  },
  {
   "cell_type": "code",
   "execution_count": 78,
   "metadata": {},
   "outputs": [
    {
     "name": "stdout",
     "output_type": "stream",
     "text": [
      "flow sys 0.19945399000529626\n",
      "flow dia 0.02763661943312155\n",
      "flow avg 0.06256662713997714\n",
      "flow max 0.2272192754067132\n",
      "pressure sys 0.32150433925231764\n",
      "pressure dia 0.04470493883766451\n",
      "pressure avg 0.10115726385615212\n",
      "pressure max 0.36837643203878595\n"
     ]
    }
   ],
   "source": [
    "for i in ['flow','pressure']:\n",
    "    for j in m['0080_0001'][i]['cap'].keys():\n",
    "        \n",
    "        print(i, j, m['0080_0001'][i]['cap'][j]['rel']['all'])"
   ]
  },
  {
   "cell_type": "code",
   "execution_count": 79,
   "metadata": {},
   "outputs": [],
   "source": [
    "import numpy as np"
   ]
  },
  {
   "cell_type": "code",
   "execution_count": 91,
   "metadata": {},
   "outputs": [],
   "source": [
    "class dummy():\n",
    "    def __init__(self):\n",
    "        pass"
   ]
  },
  {
   "cell_type": "code",
   "execution_count": 92,
   "metadata": {},
   "outputs": [],
   "source": [
    "x = [dummy, [2], [3]]"
   ]
  },
  {
   "cell_type": "code",
   "execution_count": 93,
   "metadata": {},
   "outputs": [],
   "source": [
    "np.random.shuffle(x)"
   ]
  },
  {
   "cell_type": "code",
   "execution_count": 94,
   "metadata": {},
   "outputs": [
    {
     "data": {
      "text/plain": [
       "[[2], __main__.dummy, [3]]"
      ]
     },
     "execution_count": 94,
     "metadata": {},
     "output_type": "execute_result"
    }
   ],
   "source": [
    "x"
   ]
  },
  {
   "cell_type": "code",
   "execution_count": 1,
   "metadata": {},
   "outputs": [],
   "source": [
    "from scipy.stats.qmc import Sobol"
   ]
  },
  {
   "cell_type": "code",
   "execution_count": 3,
   "metadata": {},
   "outputs": [],
   "source": [
    "x = Sobol(5, scramble = False)"
   ]
  },
  {
   "cell_type": "code",
   "execution_count": 8,
   "metadata": {},
   "outputs": [
    {
     "ename": "ValueError",
     "evalue": "The balance properties of Sobol' points require n to be a power of 2. 32 points have been previously generated, then: n=32+2**4=48. If you still want to do this, the function 'Sobol.random()' can be used.",
     "output_type": "error",
     "traceback": [
      "\u001b[0;31m---------------------------------------------------------------------------\u001b[0m",
      "\u001b[0;31mValueError\u001b[0m                                Traceback (most recent call last)",
      "\u001b[1;32m/Users/johnlee/Documents/Projects/Stanford/summer_project/notebooks/test.ipynb Cell 26'\u001b[0m in \u001b[0;36m<cell line: 1>\u001b[0;34m()\u001b[0m\n\u001b[0;32m----> <a href='vscode-notebook-cell:/Users/johnlee/Documents/Projects/Stanford/summer_project/notebooks/test.ipynb#X34sZmlsZQ%3D%3D?line=0'>1</a>\u001b[0m x\u001b[39m.\u001b[39;49mrandom_base2(\u001b[39m4\u001b[39;49m)\n",
      "File \u001b[0;32m/opt/anaconda3/envs/stanford/lib/python3.9/site-packages/scipy/stats/_qmc.py:1115\u001b[0m, in \u001b[0;36mSobol.random_base2\u001b[0;34m(self, m)\u001b[0m\n\u001b[1;32m   1113\u001b[0m total_n \u001b[39m=\u001b[39m \u001b[39mself\u001b[39m\u001b[39m.\u001b[39mnum_generated \u001b[39m+\u001b[39m n\n\u001b[1;32m   1114\u001b[0m \u001b[39mif\u001b[39;00m \u001b[39mnot\u001b[39;00m (total_n \u001b[39m&\u001b[39m (total_n \u001b[39m-\u001b[39m \u001b[39m1\u001b[39m) \u001b[39m==\u001b[39m \u001b[39m0\u001b[39m):\n\u001b[0;32m-> 1115\u001b[0m     \u001b[39mraise\u001b[39;00m \u001b[39mValueError\u001b[39;00m(\u001b[39m\"\u001b[39m\u001b[39mThe balance properties of Sobol\u001b[39m\u001b[39m'\u001b[39m\u001b[39m points require \u001b[39m\u001b[39m\"\u001b[39m\n\u001b[1;32m   1116\u001b[0m                      \u001b[39m\"\u001b[39m\u001b[39mn to be a power of 2. \u001b[39m\u001b[39m{0}\u001b[39;00m\u001b[39m points have been \u001b[39m\u001b[39m\"\u001b[39m\n\u001b[1;32m   1117\u001b[0m                      \u001b[39m\"\u001b[39m\u001b[39mpreviously generated, then: n=\u001b[39m\u001b[39m{0}\u001b[39;00m\u001b[39m+2**\u001b[39m\u001b[39m{1}\u001b[39;00m\u001b[39m=\u001b[39m\u001b[39m{2}\u001b[39;00m\u001b[39m. \u001b[39m\u001b[39m\"\u001b[39m\n\u001b[1;32m   1118\u001b[0m                      \u001b[39m\"\u001b[39m\u001b[39mIf you still want to do this, the function \u001b[39m\u001b[39m\"\u001b[39m\n\u001b[1;32m   1119\u001b[0m                      \u001b[39m\"\u001b[39m\u001b[39m'\u001b[39m\u001b[39mSobol.random()\u001b[39m\u001b[39m'\u001b[39m\u001b[39m can be used.\u001b[39m\u001b[39m\"\u001b[39m\n\u001b[1;32m   1120\u001b[0m                      \u001b[39m.\u001b[39mformat(\u001b[39mself\u001b[39m\u001b[39m.\u001b[39mnum_generated, m, total_n))\n\u001b[1;32m   1122\u001b[0m \u001b[39mreturn\u001b[39;00m \u001b[39mself\u001b[39m\u001b[39m.\u001b[39mrandom(n)\n",
      "\u001b[0;31mValueError\u001b[0m: The balance properties of Sobol' points require n to be a power of 2. 32 points have been previously generated, then: n=32+2**4=48. If you still want to do this, the function 'Sobol.random()' can be used."
     ]
    }
   ],
   "source": [
    "x.random_base2(4)"
   ]
  },
  {
   "cell_type": "code",
   "execution_count": 15,
   "metadata": {},
   "outputs": [],
   "source": [
    "def function():\n",
    "    for i in range(10):\n",
    "        yield i\n"
   ]
  },
  {
   "cell_type": "code",
   "execution_count": 18,
   "metadata": {},
   "outputs": [
    {
     "data": {
      "text/plain": [
       "<generator object function at 0x7f82ba2875f0>"
      ]
     },
     "execution_count": 18,
     "metadata": {},
     "output_type": "execute_result"
    }
   ],
   "source": [
    "function()"
   ]
  },
  {
   "cell_type": "code",
   "execution_count": 19,
   "metadata": {},
   "outputs": [
    {
     "name": "stdout",
     "output_type": "stream",
     "text": [
      "0\n",
      "1\n",
      "2\n",
      "3\n",
      "4\n",
      "5\n",
      "6\n",
      "7\n",
      "8\n",
      "9\n"
     ]
    }
   ],
   "source": [
    "for i in function():\n",
    "    print(i)"
   ]
  },
  {
   "cell_type": "code",
   "execution_count": 37,
   "metadata": {},
   "outputs": [],
   "source": [
    "x = enumerate(function())"
   ]
  },
  {
   "cell_type": "code",
   "execution_count": 38,
   "metadata": {},
   "outputs": [
    {
     "name": "stdout",
     "output_type": "stream",
     "text": [
      "(0, 0)\n",
      "(1, 1)\n",
      "(2, 2)\n",
      "(3, 3)\n",
      "(4, 4)\n",
      "(5, 5)\n",
      "(6, 6)\n",
      "(7, 7)\n",
      "(8, 8)\n",
      "(9, 9)\n",
      "None\n"
     ]
    }
   ],
   "source": [
    "\n",
    "for i in range(11):\n",
    "    print(next(x, None))"
   ]
  },
  {
   "cell_type": "code",
   "execution_count": null,
   "metadata": {},
   "outputs": [],
   "source": []
  },
  {
   "cell_type": "code",
   "execution_count": 1,
   "metadata": {},
   "outputs": [],
   "source": [
    "import numpy as np"
   ]
  },
  {
   "cell_type": "code",
   "execution_count": 3,
   "metadata": {},
   "outputs": [
    {
     "data": {
      "text/plain": [
       "array([4])"
      ]
     },
     "execution_count": 3,
     "metadata": {},
     "output_type": "execute_result"
    }
   ],
   "source": [
    "np.array(range(5))[4:10]"
   ]
  },
  {
   "cell_type": "code",
   "execution_count": 7,
   "metadata": {},
   "outputs": [],
   "source": [
    "i = np.load('../data/healthy/0080_0001/jc_solver_dir_0/artificial_stenosis/Manual_0/training_data/input.npy')"
   ]
  },
  {
   "cell_type": "code",
   "execution_count": 8,
   "metadata": {},
   "outputs": [],
   "source": [
    "o = np.load('../data/healthy/0080_0001/jc_solver_dir_0/artificial_stenosis/Manual_0/training_data/output.npy')"
   ]
  },
  {
   "cell_type": "code",
   "execution_count": 10,
   "metadata": {},
   "outputs": [],
   "source": [
    "assert len(i) == len(o)"
   ]
  },
  {
   "cell_type": "code",
   "execution_count": 12,
   "metadata": {},
   "outputs": [
    {
     "name": "stdout",
     "output_type": "stream",
     "text": [
      "\u001b[31mERROR: Could not find a version that satisfies the requirement torch.utils.data (from versions: none)\u001b[0m\u001b[31m\n",
      "\u001b[0m\u001b[31mERROR: No matching distribution found for torch.utils.data\u001b[0m\u001b[31m\n",
      "\u001b[0mNote: you may need to restart the kernel to use updated packages.\n"
     ]
    }
   ],
   "source": [
    "pip install torch.utils.data"
   ]
  },
  {
   "cell_type": "code",
   "execution_count": 11,
   "metadata": {},
   "outputs": [
    {
     "ename": "NameError",
     "evalue": "name 'torch' is not defined",
     "output_type": "error",
     "traceback": [
      "\u001b[0;31m---------------------------------------------------------------------------\u001b[0m",
      "\u001b[0;31mNameError\u001b[0m                                 Traceback (most recent call last)",
      "\u001b[1;32m/Users/johnlee/Documents/Projects/Stanford/summer_project/notebooks/test.ipynb Cell 38'\u001b[0m in \u001b[0;36m<cell line: 1>\u001b[0;34m()\u001b[0m\n\u001b[0;32m----> <a href='vscode-notebook-cell:/Users/johnlee/Documents/Projects/Stanford/summer_project/notebooks/test.ipynb#X52sZmlsZQ%3D%3D?line=0'>1</a>\u001b[0m help(torch)\n",
      "\u001b[0;31mNameError\u001b[0m: name 'torch' is not defined"
     ]
    }
   ],
   "source": [
    "help(torch)"
   ]
  },
  {
   "cell_type": "code",
   "execution_count": 2,
   "metadata": {},
   "outputs": [],
   "source": [
    "from pathlib import Path"
   ]
  },
  {
   "cell_type": "code",
   "execution_count": 3,
   "metadata": {},
   "outputs": [],
   "source": [
    "sfile = Path('../data/healthy/0080_0001/jc_solver_dir_0/artificial_stenosis/Manual_1/stenosis_vessels.dat')"
   ]
  },
  {
   "cell_type": "code",
   "execution_count": 5,
   "metadata": {},
   "outputs": [],
   "source": [
    "from src.file_io import read_json, write_json"
   ]
  },
  {
   "cell_type": "code",
   "execution_count": 6,
   "metadata": {},
   "outputs": [],
   "source": [
    "x = read_json(sfile)"
   ]
  },
  {
   "cell_type": "code",
   "execution_count": 8,
   "metadata": {},
   "outputs": [],
   "source": [
    "import json"
   ]
  },
  {
   "cell_type": "code",
   "execution_count": 14,
   "metadata": {},
   "outputs": [],
   "source": [
    "with open(sfile, 'w') as fio:\n",
    "    json.dump(x, fio, indent = 4, sort_keys=True)"
   ]
  },
  {
   "cell_type": "code",
   "execution_count": 1,
   "metadata": {},
   "outputs": [],
   "source": [
    "\n",
    "from src.data_org import ModelPath"
   ]
  },
  {
   "cell_type": "code",
   "execution_count": 2,
   "metadata": {},
   "outputs": [],
   "source": [
    "from pathlib import Path"
   ]
  },
  {
   "cell_type": "code",
   "execution_count": 3,
   "metadata": {},
   "outputs": [],
   "source": [
    "x = Path('../data/healthy/0080_0001')"
   ]
  },
  {
   "cell_type": "code",
   "execution_count": 4,
   "metadata": {},
   "outputs": [
    {
     "data": {
      "text/plain": [
       "'0080_0001'"
      ]
     },
     "execution_count": 4,
     "metadata": {},
     "output_type": "execute_result"
    }
   ],
   "source": [
    "x.name"
   ]
  },
  {
   "cell_type": "code",
   "execution_count": 5,
   "metadata": {},
   "outputs": [
    {
     "name": "stdout",
     "output_type": "stream",
     "text": [
      "../data/healthy/0080_0001\n",
      "../data/healthy/0080_0001\n",
      "../data/healthy/0080_0001\n"
     ]
    }
   ],
   "source": [
    "t = ModelPath(root = x, model_type='healthy')\n"
   ]
  },
  {
   "cell_type": "code",
   "execution_count": 6,
   "metadata": {},
   "outputs": [
    {
     "data": {
      "text/plain": [
       "PosixPath('../data/healthy/0080_0001')"
      ]
     },
     "execution_count": 6,
     "metadata": {},
     "output_type": "execute_result"
    }
   ],
   "source": [
    "t.model_root"
   ]
  },
  {
   "cell_type": "code",
   "execution_count": 7,
   "metadata": {},
   "outputs": [
    {
     "data": {
      "text/plain": [
       "model_root : \n",
       "\t../data/healthy/0080_0001\n",
       "root : \n",
       "\t../data/healthy/0080_0001\n",
       "type : \n",
       "\thealthy\n",
       "model_name : \n",
       "\t0080_0001\n",
       "config_files : \n",
       "\t../data/healthy/0080_0001/config_files\n",
       "dev_config : \n",
       "\t../data/healthy/0080_0001/config_files/dev_config.ini\n",
       "info : \n",
       "\tdefaultdict(<class 'dict'>, {'metadata': {'id': 'H-0', 'name': '0080_0001', 'age': '43', 'gender': 'F', 'condition': 'healthy'}, 'files': {'inflow': '../data/healthy/0080_0001/flow-files/inflow_3d.flow', 'rom_inflow': '../data/healthy/0080_0001/flow-files/inflow_1d.flow', 'mdl_file': '../data/healthy/0080_0001/Models/0080_0001.mdl', 'vtp_file': '../data/healthy/0080_0001/Meshes/0080_0001.vtp', 'cap_info': '../data/healthy/0080_0001/Models/CapInfo'}, 'model': {'inlet': 'inflow', 'lpa': 'LPA', 'rpa': 'RPA', 'units': 'cm'}})\n",
       "centerline_dir : \n",
       "\t../data/healthy/0080_0001/centerline_files\n",
       "base_lpn_dir : \n",
       "\t../data/healthy/0080_0001/base_lpn_files\n",
       "base_lpn : \n",
       "\t../data/healthy/0080_0001/base_lpn_files/0080_0001_lpn.in\n",
       "model_centerlines : \n",
       "\t../data/healthy/0080_0001/centerline_files/0080_0001_model_centerlines.vtp"
      ]
     },
     "execution_count": 7,
     "metadata": {},
     "output_type": "execute_result"
    }
   ],
   "source": [
    "t"
   ]
  },
  {
   "cell_type": "code",
   "execution_count": null,
   "metadata": {},
   "outputs": [],
   "source": []
  }
 ],
 "metadata": {
  "kernelspec": {
   "display_name": "Python 3.9.0 ('stanford')",
   "language": "python",
   "name": "python3"
  },
  "language_info": {
   "codemirror_mode": {
    "name": "ipython",
    "version": 3
   },
   "file_extension": ".py",
   "mimetype": "text/x-python",
   "name": "python",
   "nbconvert_exporter": "python",
   "pygments_lexer": "ipython3",
   "version": "3.9.0"
  },
  "orig_nbformat": 4,
  "vscode": {
   "interpreter": {
    "hash": "50600acf3508882ffeec4c3211bbca7945187a00ec2d0a2f050456f7fcd8918c"
   }
  }
 },
 "nbformat": 4,
 "nbformat_minor": 2
}
