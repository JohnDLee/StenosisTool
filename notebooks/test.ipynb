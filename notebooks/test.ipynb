{
 "cells": [
  {
   "cell_type": "code",
   "execution_count": 90,
   "metadata": {},
   "outputs": [],
   "source": [
    "from svinterface.core.polydata import Centerlines\n",
    "from svinterface.core.zerod.lpn import LPN"
   ]
  },
  {
   "attachments": {},
   "cell_type": "markdown",
   "metadata": {},
   "source": [
    "c = Centerlines.load_centerlines('../data/diseased/AS1_SU0308_stent/results/AS1_SU0308_nonlinear/3D_DIR/AS1_SU0308_3D_centerlines.formatted.vtp')"
   ]
  },
  {
   "cell_type": "code",
   "execution_count": 102,
   "metadata": {},
   "outputs": [],
   "source": [
    "c = Centerlines.load_centerlines('../data/diseased/AS1_SU0308_stent/results/AS1_SU0308_nonlinear/LPN_DIR/AS1_SU0308.sim.14/centerline_projection.vtp')"
   ]
  },
  {
   "cell_type": "code",
   "execution_count": 103,
   "metadata": {},
   "outputs": [
    {
     "name": "stdout",
     "output_type": "stream",
     "text": [
      "dia_flow_0.8666666666666671\n",
      "dia_pressure_0.8666666666666671\n"
     ]
    }
   ],
   "source": [
    "for a in c.get_pointdata_arraynames():\n",
    "    if a.startswith(\"dia\"):\n",
    "        print(a)"
   ]
  },
  {
   "cell_type": "code",
   "execution_count": 104,
   "metadata": {},
   "outputs": [],
   "source": [
    "sysp = c.get_pointdata_array(\"sys_pressure_0.2225225225225227\")\n",
    "avgp = c.get_pointdata_array(\"avg_pressure\")\n",
    "diap = c.get_pointdata_array(\"dia_pressure_0.8666666666666671\")\n",
    "sysf = c.get_pointdata_array(\"sys_flow_0.2225225225225227\")\n",
    "avgf = c.get_pointdata_array(\"avg_flow\")\n",
    "diaf = c.get_pointdata_array(\"dia_flow_0.8666666666666671\")"
   ]
  },
  {
   "cell_type": "code",
   "execution_count": 105,
   "metadata": {},
   "outputs": [],
   "source": [
    "lpn = LPN.from_file(\"../data/diseased/AS1_SU0308_stent/results/AS1_SU0308_nonlinear/LPN_DIR/AS1_SU0308.in\")"
   ]
  },
  {
   "cell_type": "code",
   "execution_count": 106,
   "metadata": {},
   "outputs": [],
   "source": [
    "from ipywidgets import interact, fixed\n",
    "import matplotlib.pyplot as plt"
   ]
  },
  {
   "cell_type": "code",
   "execution_count": 107,
   "metadata": {},
   "outputs": [],
   "source": [
    "def print_dp(lpn: LPN, vid):\n",
    "    v = lpn.get_vessel(vid)\n",
    "    gids = v['gid']\n",
    "    print(gids)\n",
    "    dsp = sysp[gids[0]] - sysp[gids[1]]\n",
    "    dap = avgp[gids[0]] - avgp[gids[1]]\n",
    "    ddp = diap[gids[0]] - diap[gids[1]]\n",
    "    print(dsp, dap, ddp, sep = '\\n')\n",
    "    print()\n",
    "    plt.plot([diaf[gids[0]],avgf[gids[0]],sysf[gids[0]]], [ddp, dap, dsp])"
   ]
  },
  {
   "cell_type": "code",
   "execution_count": 108,
   "metadata": {},
   "outputs": [],
   "source": [
    "tree = lpn.get_tree()\n",
    "\n",
    "vid = []\n",
    "for node in lpn.tree_bfs_iterator(tree, allow = 'branch'):\n",
    "    for id in node.ids:\n",
    "        vid.append(id)\n",
    "\n",
    "    "
   ]
  },
  {
   "cell_type": "code",
   "execution_count": 109,
   "metadata": {},
   "outputs": [
    {
     "data": {
      "application/vnd.jupyter.widget-view+json": {
       "model_id": "097eea3fcfcb4a9a9cf3fe21577380d7",
       "version_major": 2,
       "version_minor": 0
      },
      "text/plain": [
       "interactive(children=(Dropdown(description='vid', options=(0, 1, 81, 2, 4, 11, 12, 18, 19, 20, 21, 24, 25, 26,…"
      ]
     },
     "metadata": {},
     "output_type": "display_data"
    },
    {
     "data": {
      "text/plain": [
       "<function __main__.print_dp(lpn: svinterface.core.zerod.lpn.LPN, vid)>"
      ]
     },
     "execution_count": 109,
     "metadata": {},
     "output_type": "execute_result"
    }
   ],
   "source": [
    "interact(print_dp,lpn = fixed(lpn) ,vid = vid )"
   ]
  },
  {
   "cell_type": "code",
   "execution_count": 110,
   "metadata": {},
   "outputs": [],
   "source": [
    "def print_dp_junc(lpn: LPN, jid):\n",
    "    j = lpn.get_junction(jid)\n",
    "    gids = j['gid']\n",
    "    print(gids)\n",
    "    pts = [[diap[gids[0]] - diap[gids[1][i]], avgp[gids[0]] - avgp[gids[1][i]], sysp[gids[0]] - sysp[gids[1][i]]] for i in range(len(gids[1]))]\n",
    "    xp = [[diaf[gids[0]], avgf[gids[0]], sysf[gids[0]]] for i in range(len(gids[1]))]\n",
    "    print(pts, sep = '\\n')\n",
    "    print()\n",
    "    for x, y in list(zip(xp, pts)):\n",
    "        plt.plot(x, y)"
   ]
  },
  {
   "cell_type": "code",
   "execution_count": 111,
   "metadata": {},
   "outputs": [],
   "source": [
    "tree = lpn.get_tree()\n",
    "\n",
    "jid = []\n",
    "for node in lpn.tree_bfs_iterator(tree, allow = 'junction'):\n",
    "    for id in node.ids:\n",
    "        jid.append(id)\n",
    "\n",
    "    "
   ]
  },
  {
   "cell_type": "code",
   "execution_count": 112,
   "metadata": {},
   "outputs": [
    {
     "data": {
      "application/vnd.jupyter.widget-view+json": {
       "model_id": "083f90505bbb4021bcb182c441a3ec91",
       "version_major": 2,
       "version_minor": 0
      },
      "text/plain": [
       "interactive(children=(Dropdown(description='jid', options=('J0', 'J1', 'J22', 'J2', 'J3', 'J5', 'J6', 'J7', 'J…"
      ]
     },
     "metadata": {},
     "output_type": "display_data"
    },
    {
     "data": {
      "text/plain": [
       "<function __main__.print_dp_junc(lpn: svinterface.core.zerod.lpn.LPN, jid)>"
      ]
     },
     "execution_count": 112,
     "metadata": {},
     "output_type": "execute_result"
    }
   ],
   "source": [
    "interact(print_dp_junc,lpn= fixed(lpn),jid= jid)"
   ]
  },
  {
   "cell_type": "code",
   "execution_count": 113,
   "metadata": {},
   "outputs": [],
   "source": [
    "import numpy as np"
   ]
  },
  {
   "cell_type": "code",
   "execution_count": 116,
   "metadata": {},
   "outputs": [],
   "source": [
    "from svinterface.core.polydata import Centerlines\n",
    "from svinterface.core.zerod.lpn import LPN"
   ]
  },
  {
   "cell_type": "code",
   "execution_count": 117,
   "metadata": {},
   "outputs": [],
   "source": [
    "c = Centerlines.load_centerlines(\"../data/diseased/AS1_SU0308_stent/results/AS1_SU0308_nonlinear/3D_DIR/prestent/AS1_SU0308_3D_centerlines.formatted.vtp\")"
   ]
  },
  {
   "cell_type": "code",
   "execution_count": 208,
   "metadata": {},
   "outputs": [],
   "source": [
    "sysp = c.get_pointdata_array(array_name='sys_pressure_0.22500')[0]\n",
    "sysp2 = c.get_pointdata_array(array_name='sys_pressure_0.22500')[1]\n",
    "diap = c.get_pointdata_array(array_name='dia_pressure_0.85500')[0]\n",
    "diap2 = c.get_pointdata_array(array_name='dia_pressure_0.85500')[1]\n",
    "avgp = c.get_pointdata_array(array_name='avg_pressure')[0]\n",
    "avgp2 = c.get_pointdata_array(array_name='avg_pressure')[1]"
   ]
  },
  {
   "cell_type": "code",
   "execution_count": 191,
   "metadata": {},
   "outputs": [],
   "source": [
    "lpn = LPN.from_file(\"../data/diseased/AS1_SU0308_stent/results/AS1_SU0308_nonlinear/LPN_DIR/AS1_SU0308.sim.2/AS1_SU0308.in\")"
   ]
  },
  {
   "cell_type": "code",
   "execution_count": 192,
   "metadata": {},
   "outputs": [
    {
     "data": {
      "text/plain": [
       "{'boundary_conditions': {'inlet': 'INFLOW'},\n",
       " 'gid': [0, 1],\n",
       " 'side': 'MPA',\n",
       " 'vessel_id': 0,\n",
       " 'vessel_length': 0.3032801643946173,\n",
       " 'vessel_name': 'branch0_seg0',\n",
       " 'zero_d_element_type': 'BloodVessel',\n",
       " 'zero_d_element_values': {'C': 4.869774388365284e-07,\n",
       "  'L': 0.12012579864284216,\n",
       "  'R_poiseuille': 0.042571278171065534,\n",
       "  'stenosis_coefficient': 0.0}}"
      ]
     },
     "execution_count": 192,
     "metadata": {},
     "output_type": "execute_result"
    }
   ],
   "source": [
    "lpn.get_vessel(0)"
   ]
  },
  {
   "cell_type": "code",
   "execution_count": 212,
   "metadata": {},
   "outputs": [],
   "source": [
    "x = np.array([lpn.inflow.min_inflow, lpn.inflow.mean_inflow, lpn.inflow.max_inflow])"
   ]
  },
  {
   "cell_type": "code",
   "execution_count": null,
   "metadata": {},
   "outputs": [],
   "source": []
  },
  {
   "cell_type": "code",
   "execution_count": 213,
   "metadata": {},
   "outputs": [],
   "source": [
    "X = np.array([ x, x**2]).T"
   ]
  },
  {
   "cell_type": "code",
   "execution_count": 214,
   "metadata": {},
   "outputs": [],
   "source": [
    "y = np.array([diap - diap2, avgp-avgp2, sysp-sysp2])"
   ]
  },
  {
   "cell_type": "code",
   "execution_count": 215,
   "metadata": {},
   "outputs": [],
   "source": [
    "X_inv = np.linalg.pinv(X) "
   ]
  },
  {
   "cell_type": "code",
   "execution_count": 216,
   "metadata": {},
   "outputs": [],
   "source": [
    "t = X_inv @ y"
   ]
  },
  {
   "cell_type": "code",
   "execution_count": 217,
   "metadata": {},
   "outputs": [
    {
     "data": {
      "text/plain": [
       "array([9.59093778e-04, 2.47251074e-06])"
      ]
     },
     "execution_count": 217,
     "metadata": {},
     "output_type": "execute_result"
    }
   ],
   "source": [
    "t"
   ]
  },
  {
   "cell_type": "code",
   "execution_count": 218,
   "metadata": {},
   "outputs": [],
   "source": [
    "import matplotlib.pyplot as plt"
   ]
  },
  {
   "cell_type": "code",
   "execution_count": 219,
   "metadata": {},
   "outputs": [
    {
     "data": {
      "text/plain": [
       "266.2176635270139"
      ]
     },
     "execution_count": 219,
     "metadata": {},
     "output_type": "execute_result"
    }
   ],
   "source": [
    "x[-1]"
   ]
  },
  {
   "cell_type": "code",
   "execution_count": 220,
   "metadata": {},
   "outputs": [
    {
     "data": {
      "text/plain": [
       "[<matplotlib.lines.Line2D at 0x7f8b36a100d0>]"
      ]
     },
     "execution_count": 220,
     "metadata": {},
     "output_type": "execute_result"
    },
    {
     "data": {
      "image/png": "[encoded data removed]",
      "text/plain": [
       "<Figure size 640x480 with 1 Axes>"
      ]
     },
     "metadata": {},
     "output_type": "display_data"
    }
   ],
   "source": [
    "plt.plot(x, y)\n",
    "f = lambda x:  t[0] * x + t[1] * x**2\n",
    "x2 = np.arange(0, x[-1], 1)\n",
    "plt.plot(x2, f(x2))"
   ]
  },
  {
   "cell_type": "code",
   "execution_count": 157,
   "metadata": {},
   "outputs": [],
   "source": [
    "from svinterface.core.zerod.solver import Solver0Dcpp\n",
    "from scipy import optimize"
   ]
  },
  {
   "cell_type": "code",
   "execution_count": 158,
   "metadata": {},
   "outputs": [],
   "source": [
    "s = Solver0Dcpp(lpn, last_cycle_only=True, mean_only=False)"
   ]
  },
  {
   "cell_type": "code",
   "execution_count": 209,
   "metadata": {},
   "outputs": [
    {
     "name": "stdout",
     "output_type": "stream",
     "text": [
      "20.262215795499642\n",
      "20.26190721783958\n",
      "20.25268925349525\n",
      "20.252380831034372\n",
      "20.24746519541456\n",
      "20.238248041112488\n",
      "20.22641128804755\n",
      "20.221185497828863\n",
      "20.20544304254343\n",
      "20.184423930219882\n",
      "20.152974708700242\n",
      "20.132086069400447\n",
      "20.08509706162307\n",
      "20.03295896312718\n",
      "19.947308240514527\n",
      "19.88017886713494\n",
      "19.745308084065904\n",
      "19.61012553418739\n",
      "19.377529035657123\n",
      "19.182126033672304\n",
      "18.812990886167693\n",
      "18.46755395263156\n",
      "17.87328721982626\n",
      "17.37747553497019\n",
      "16.52494905415217\n",
      "15.835587859851127\n",
      "14.904804503053523\n",
      "14.476412620684993\n",
      "14.811055158321695\n",
      "14.736317817979298\n",
      "15.445963164463816\n",
      "14.492463679630799\n",
      "15.524018296127704\n",
      "14.44464066080763\n",
      "14.455673764849553\n",
      "14.754286685721125\n",
      "14.421414527459937\n",
      "14.42445852105329\n",
      "14.484185853881906\n",
      "14.423217632061835\n",
      "14.427733009504792\n",
      "14.421047575548675\n",
      "14.433155854366367\n",
      "14.420479009725685\n",
      "14.420608341161218\n",
      "14.423507088810984\n",
      "14.42035634974188\n",
      "14.420490705051142\n",
      "14.420359945556529\n",
      "14.42082834021603\n",
      "14.420344133020974\n",
      "14.420313713628207\n",
      "14.420317663341107\n",
      "14.420448136283406\n",
      "14.420323743502323\n",
      "14.420311240382501\n",
      "14.420330527334416\n",
      "14.420289300185642\n",
      "14.42027425687356\n",
      "14.420280891155988\n",
      "14.420236353973847\n",
      "14.420207624174449\n",
      "14.420262950463929\n",
      "14.420206191200823\n",
      "14.420207012480102\n",
      "14.420142354525217\n",
      "14.42009622891833\n",
      "14.420078625668776\n",
      "14.420030310787194\n",
      "14.419906097385049\n",
      "14.419786532822505\n",
      "14.419683866118062\n",
      "14.419505719846319\n",
      "14.41924449199209\n",
      "14.418922359049308\n",
      "14.418550918904588\n",
      "14.41863648457213\n",
      "14.418478362579963\n",
      "14.41852225305087\n",
      "14.418519503554482\n",
      "14.41844512417787\n",
      "14.418462962790107\n",
      "14.418707914775915\n",
      "14.41844897081353\n",
      "14.418490597558097\n",
      "14.41845026750414\n",
      "14.418456385006428\n",
      "14.41844400841493\n",
      "14.418469644724135\n",
      "14.418443050886953\n",
      "14.418443703207526\n",
      "14.41845005182572\n",
      "14.418442747165253\n",
      "14.41844306501279\n",
      "14.418442754222243\n"
     ]
    }
   ],
   "source": [
    "def min_func(x, lpn: LPN):\n",
    "    \n",
    "    lpn.change_vessel(0, R=x[0], S = x[1])\n",
    "    s = Solver0Dcpp(lpn, last_cycle_only=True, mean_only=False)\n",
    "    rez = s.run_sim()\n",
    "    rez.convert_to_mmHg()\n",
    "    avgP = rez.get_avg_val(\"branch0_seg0\", val = 'pressure_in')\n",
    "    sysP = rez.get_max_val(\"branch0_seg0\", val = 'pressure_in')\n",
    "    diaP = rez.get_min_val(\"branch0_seg0\", val = 'pressure_in')\n",
    "    \n",
    "    avgP2 = rez.get_avg_val(\"branch0_seg0\", val = 'pressure_out')\n",
    "    sysP2 = rez.get_max_val(\"branch0_seg0\", val = 'pressure_out')\n",
    "    diaP2 = rez.get_min_val(\"branch0_seg0\", val = 'pressure_out')\n",
    "    loss = ((avgp - avgP) **2 + (sysp - sysP) ** 2 + (diap - diaP)**2 + (avgp2 - avgP2) **2 + (sysp2 - sysP2) ** 2 + (diap2 - diaP2)**2) ** (1/2)\n",
    "    print(loss)\n",
    "    return loss\n",
    "\n",
    "\n",
    "x = optimize.minimize(min_func, [0.042571278171065534, 0], (lpn), method=\"Nelder-Mead\", bounds=optimize.Bounds([0,0], [ np.inf, np.inf], keep_feasible=True))\n",
    "    "
   ]
  },
  {
   "cell_type": "code",
   "execution_count": 210,
   "metadata": {},
   "outputs": [
    {
     "name": "stdout",
     "output_type": "stream",
     "text": [
      " final_simplex: (array([[0.        , 0.26093129],\n",
      "       [0.        , 0.26092942],\n",
      "       [0.        , 0.26100527]]), array([14.41844275, 14.41844275, 14.41844305]))\n",
      "           fun: 14.418442747165253\n",
      "       message: 'Optimization terminated successfully.'\n",
      "          nfev: 95\n",
      "           nit: 51\n",
      "        status: 0\n",
      "       success: True\n",
      "             x: array([0.        , 0.26093129])\n"
     ]
    }
   ],
   "source": [
    "print(x)"
   ]
  },
  {
   "cell_type": "code",
   "execution_count": null,
   "metadata": {},
   "outputs": [],
   "source": []
  }
 ],
 "metadata": {
  "kernelspec": {
   "display_name": "stenosis-tool",
   "language": "python",
   "name": "python3"
  },
  "language_info": {
   "codemirror_mode": {
    "name": "ipython",
    "version": 3
   },
   "file_extension": ".py",
   "mimetype": "text/x-python",
   "name": "python",
   "nbconvert_exporter": "python",
   "pygments_lexer": "ipython3",
   "version": "3.9.13"
  },
  "orig_nbformat": 4
 },
 "nbformat": 4,
 "nbformat_minor": 2
}
