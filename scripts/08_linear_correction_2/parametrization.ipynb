{
 "cells": [
  {
   "cell_type": "code",
   "execution_count": 35,
   "metadata": {},
   "outputs": [],
   "source": [
    "from svinterface.core.zerod.lpn import LPN"
   ]
  },
  {
   "cell_type": "code",
   "execution_count": 86,
   "metadata": {},
   "outputs": [],
   "source": [
    "lpn = LPN.from_file(\"../../data/diseased/AS1_SU0308_stent/results/AS1_SU0308_nonlinear/parameterization/AS1_SU0308.in\")\n",
    "lpn2 = LPN.from_file(\"../../data/diseased/AS1_SU0308_stent/results/AS1_SU0308_nonlinear/parameterization/LPA_limited_2std/AS1_SU0308.in\")\n",
    "lpn3 = LPN.from_file(\"../../data/diseased/AS1_SU0308_stent/results/AS1_SU0308_nonlinear/parameterization/RPA_stent_limited_2std/AS1_SU0308.in\")\n",
    "lpn4 = LPN.from_file(\"../../data/diseased/AS1_SU0308_stent/results/AS1_SU0308_nonlinear/parameterization/RPA_stent_2_limited_2std/AS1_SU0308.in\")"
   ]
  },
  {
   "cell_type": "code",
   "execution_count": 87,
   "metadata": {},
   "outputs": [],
   "source": [
    "tree1 = lpn.get_tree()\n",
    "tree2 = lpn4.get_tree()\n",
    "\n",
    "def compare_node_resistances(n1: LPN.Node, n2: LPN.Node):\n",
    "    assert type(n1) == type(n2), \"Node types are not equal\"\n",
    "    if type(n1) == LPN.BranchNode:\n",
    "        assert len(n1) == len(n2), \"Nodes do not contain same number of vessels\"\n",
    "        dR = []\n",
    "        for idx in range(len(n1)):\n",
    "            assert n1.ids[idx] == n2.ids[idx], \"Nodes ids do not match\"\n",
    "            if n1.vessel_info[idx]['zero_d_element_values']['R_poiseuille'] != 0:\n",
    "                dR.append((n2.vessel_info[idx]['zero_d_element_values']['R_poiseuille'] - n1.vessel_info[idx]['zero_d_element_values']['R_poiseuille'])/n1.vessel_info[idx]['zero_d_element_values']['R_poiseuille'])\n",
    "            else:\n",
    "                dR.append((\"NaN\", (n2.vessel_info[idx]['zero_d_element_values']['R_poiseuille'] - n1.vessel_info[idx]['zero_d_element_values']['R_poiseuille'])))\n",
    "        return dR\n",
    "    elif type(n1) == LPN.JunctionNode:\n",
    "        assert len(n1.vessel_info[0]['junction_values']['R_poiseuille']) == len(n2.vessel_info[0]['junction_values']['R_poiseuille']), \"Nodes do not contain same number of Junctions(1)\"\n",
    "        dR = []\n",
    "        for idx, (r1, r2) in enumerate(zip(n1.vessel_info[0]['junction_values']['R_poiseuille'], n2.vessel_info[0]['junction_values']['R_poiseuille'])):\n",
    "            if r1 != 0:\n",
    "                dR.append((r2 - r1) / r1)\n",
    "            else:\n",
    "                dR.append((\"NaN\", r2 - r1))\n",
    "        return dR\n",
    "\n",
    "with open(\"lol3.txt\", \"w\") as f:\n",
    "    for idx, (node1, node2) in enumerate(zip(lpn.tree_bfs_iterator(tree1), lpn2.tree_bfs_iterator(tree2))):\n",
    "        for i in compare_node_resistances(node1, node2):\n",
    "            f.write(str(i))\n",
    "            f.write(\" \")\n",
    "        f.write(\"\\n\")\n",
    "            \n",
    "        \n",
    "        "
   ]
  },
  {
   "cell_type": "code",
   "execution_count": null,
   "metadata": {},
   "outputs": [],
   "source": []
  },
  {
   "cell_type": "code",
   "execution_count": 88,
   "metadata": {},
   "outputs": [],
   "source": [
    "def compare_node_resistances(n1: LPN.Node, n2: LPN.Node, n3: LPN.Node, n4: LPN.Node):\n",
    "    assert type(n1) == type(n2), \"Node types are not equal\"\n",
    "    if type(n1) == LPN.BranchNode:\n",
    "        assert len(n1) == len(n2), \"Nodes do not contain same number of vessels\"\n",
    "        dR = []\n",
    "        for idx in range(len(n1)):\n",
    "            assert n1.ids[idx] == n2.ids[idx], \"Nodes ids do not match\"\n",
    "            r1 = n1.vessel_info[idx]['zero_d_element_values']['R_poiseuille']\n",
    "            r2 = n2.vessel_info[idx]['zero_d_element_values']['R_poiseuille']\n",
    "            r3 = n3.vessel_info[idx]['zero_d_element_values']['R_poiseuille']\n",
    "            r4 = n4.vessel_info[idx]['zero_d_element_values']['R_poiseuille']\n",
    "            if  r1 + (r2 - r1) + (r3 - r1) + (r4 - r1) < 0:\n",
    "                dR.append((r1, r2 - r1, r3 - r1, r4 - r1, r1 + (r2 - r1) + (r3 - r1) + (r4 - r1), n1.vessel_info[idx]['vessel_id']))\n",
    "        return dR\n",
    "    elif type(n1) == LPN.JunctionNode:\n",
    "        assert len(n1.vessel_info[0]['junction_values']['R_poiseuille']) == len(n2.vessel_info[0]['junction_values']['R_poiseuille']), \"Nodes do not contain same number of Junctions(1)\"\n",
    "        dR = []\n",
    "        for idx, (r1, r2, r3, r4) in enumerate(zip(n1.vessel_info[0]['junction_values']['R_poiseuille'], n2.vessel_info[0]['junction_values']['R_poiseuille'], n3.vessel_info[0]['junction_values']['R_poiseuille'], n4.vessel_info[0]['junction_values']['R_poiseuille'])):\n",
    "            if r1 + (r2 - r1) + (r3 - r1) + (r4 - r1) < 0:\n",
    "                dR.append((r1, r2 - r1, r3 - r1, r4 - r1, r1 + (r2 - r1) + (r3 - r1) + (r4 - r1), n1.vessel_info[0]['junction_name']))\n",
    "        return dR"
   ]
  },
  {
   "cell_type": "code",
   "execution_count": 89,
   "metadata": {},
   "outputs": [],
   "source": [
    "tree1 = lpn.get_tree()\n",
    "tree2 = lpn2.get_tree()\n",
    "tree3 = lpn3.get_tree()\n",
    "tree4 = lpn4.get_tree()"
   ]
  },
  {
   "cell_type": "code",
   "execution_count": 90,
   "metadata": {},
   "outputs": [],
   "source": [
    "for idx, (node1, node2, node3, node4) in enumerate(zip(lpn.tree_bfs_iterator(tree1), lpn2.tree_bfs_iterator(tree2), lpn.tree_bfs_iterator(tree3), lpn.tree_bfs_iterator(tree4))):\n",
    "    tmp = compare_node_resistances(node1,node2,node3, node4)\n",
    "    if len(tmp) > 0:\n",
    "        print(tmp)"
   ]
  },
  {
   "cell_type": "code",
   "execution_count": null,
   "metadata": {},
   "outputs": [],
   "source": []
  }
 ],
 "metadata": {
  "kernelspec": {
   "display_name": "stenosis-tool",
   "language": "python",
   "name": "python3"
  },
  "language_info": {
   "codemirror_mode": {
    "name": "ipython",
    "version": 3
   },
   "file_extension": ".py",
   "mimetype": "text/x-python",
   "name": "python",
   "nbconvert_exporter": "python",
   "pygments_lexer": "ipython3",
   "version": "3.9.13"
  },
  "orig_nbformat": 4
 },
 "nbformat": 4,
 "nbformat_minor": 2
}
